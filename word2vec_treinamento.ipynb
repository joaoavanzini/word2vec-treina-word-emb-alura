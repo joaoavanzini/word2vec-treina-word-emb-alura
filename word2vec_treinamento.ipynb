{
  "nbformat": 4,
  "nbformat_minor": 0,
  "metadata": {
    "colab": {
      "name": "word2vec_treinamento.ipynb",
      "provenance": [],
      "collapsed_sections": [],
      "authorship_tag": "ABX9TyOZasknw+SN6B2Is5oJJ8pb",
      "include_colab_link": true
    },
    "kernelspec": {
      "name": "python3",
      "display_name": "Python 3"
    },
    "language_info": {
      "name": "python"
    }
  },
  "cells": [
    {
      "cell_type": "markdown",
      "metadata": {
        "id": "view-in-github",
        "colab_type": "text"
      },
      "source": [
        "<a href=\"https://colab.research.google.com/github/vicpb/word2vec-treina-word-emb-alura/blob/main/word2vec_treinamento.ipynb\" target=\"_parent\"><img src=\"https://colab.research.google.com/assets/colab-badge.svg\" alt=\"Open In Colab\"/></a>"
      ]
    },
    {
      "cell_type": "code",
      "metadata": {
        "id": "2LS7NDmV9HXY"
      },
      "source": [
        "import pandas as pd\n",
        "import spacy"
      ],
      "execution_count": 1,
      "outputs": []
    },
    {
      "cell_type": "code",
      "metadata": {
        "colab": {
          "base_uri": "https://localhost:8080/",
          "height": 204
        },
        "id": "rwzywmVk9LBU",
        "outputId": "6a8da189-07a6-4e3c-ff77-a3986805d6aa"
      },
      "source": [
        "dados_treino = pd.read_csv(\"treino.csv\")\n",
        "dados_treino.sample(5)"
      ],
      "execution_count": 2,
      "outputs": [
        {
          "output_type": "execute_result",
          "data": {
            "text/html": [
              "<div>\n",
              "<style scoped>\n",
              "    .dataframe tbody tr th:only-of-type {\n",
              "        vertical-align: middle;\n",
              "    }\n",
              "\n",
              "    .dataframe tbody tr th {\n",
              "        vertical-align: top;\n",
              "    }\n",
              "\n",
              "    .dataframe thead th {\n",
              "        text-align: right;\n",
              "    }\n",
              "</style>\n",
              "<table border=\"1\" class=\"dataframe\">\n",
              "  <thead>\n",
              "    <tr style=\"text-align: right;\">\n",
              "      <th></th>\n",
              "      <th>title</th>\n",
              "      <th>text</th>\n",
              "      <th>date</th>\n",
              "      <th>category</th>\n",
              "      <th>subcategory</th>\n",
              "      <th>link</th>\n",
              "    </tr>\n",
              "  </thead>\n",
              "  <tbody>\n",
              "    <tr>\n",
              "      <th>25138</th>\n",
              "      <td>Bruguera, a filha do guerrilheiro</td>\n",
              "      <td>A artista cubana Tania Bruguera tem 46 anos, j...</td>\n",
              "      <td>2015-07-01</td>\n",
              "      <td>colunas</td>\n",
              "      <td>eliogaspari</td>\n",
              "      <td>http://www1.folha.uol.com.br/colunas/eliogaspa...</td>\n",
              "    </tr>\n",
              "    <tr>\n",
              "      <th>89125</th>\n",
              "      <td>Bernard Cazeneuve é o novo primeiro-ministro d...</td>\n",
              "      <td>O ministro do Interior da França, Bernard Caze...</td>\n",
              "      <td>2016-06-12</td>\n",
              "      <td>mundo</td>\n",
              "      <td>NaN</td>\n",
              "      <td>http://www1.folha.uol.com.br/mundo/2016/12/183...</td>\n",
              "    </tr>\n",
              "    <tr>\n",
              "      <th>16178</th>\n",
              "      <td>Atacante Wilder é apresentado no São Paulo e j...</td>\n",
              "      <td>O atacante colombiano Wilder Guisao foi aprese...</td>\n",
              "      <td>2015-04-08</td>\n",
              "      <td>esporte</td>\n",
              "      <td>NaN</td>\n",
              "      <td>http://www1.folha.uol.com.br/esporte/2015/08/1...</td>\n",
              "    </tr>\n",
              "    <tr>\n",
              "      <th>19599</th>\n",
              "      <td>Fafá de Belém quer ficar fora de brigas políti...</td>\n",
              "      <td>Na varanda do apartamento em que mora há 32 an...</td>\n",
              "      <td>2017-08-01</td>\n",
              "      <td>colunas</td>\n",
              "      <td>monicabergamo</td>\n",
              "      <td>http://www1.folha.uol.com.br/colunas/monicaber...</td>\n",
              "    </tr>\n",
              "    <tr>\n",
              "      <th>76952</th>\n",
              "      <td>Novo presidente da CBF pedirá licença da Câmar...</td>\n",
              "      <td>O deputado federal Marcus Vicente (PP-ES) vai ...</td>\n",
              "      <td>2015-04-12</td>\n",
              "      <td>esporte</td>\n",
              "      <td>NaN</td>\n",
              "      <td>http://www1.folha.uol.com.br/esporte/2015/12/1...</td>\n",
              "    </tr>\n",
              "  </tbody>\n",
              "</table>\n",
              "</div>"
            ],
            "text/plain": [
              "                                                   title  ...                                               link\n",
              "25138                  Bruguera, a filha do guerrilheiro  ...  http://www1.folha.uol.com.br/colunas/eliogaspa...\n",
              "89125  Bernard Cazeneuve é o novo primeiro-ministro d...  ...  http://www1.folha.uol.com.br/mundo/2016/12/183...\n",
              "16178  Atacante Wilder é apresentado no São Paulo e j...  ...  http://www1.folha.uol.com.br/esporte/2015/08/1...\n",
              "19599  Fafá de Belém quer ficar fora de brigas políti...  ...  http://www1.folha.uol.com.br/colunas/monicaber...\n",
              "76952  Novo presidente da CBF pedirá licença da Câmar...  ...  http://www1.folha.uol.com.br/esporte/2015/12/1...\n",
              "\n",
              "[5 rows x 6 columns]"
            ]
          },
          "metadata": {
            "tags": []
          },
          "execution_count": 2
        }
      ]
    },
    {
      "cell_type": "code",
      "metadata": {
        "id": "Vm6FuxRkE-jY"
      },
      "source": [
        "#!pip install -U spacy"
      ],
      "execution_count": 3,
      "outputs": []
    },
    {
      "cell_type": "code",
      "metadata": {
        "id": "vur9dTCkFlII"
      },
      "source": [
        "#!python -m spacy download pt_core_news_sm"
      ],
      "execution_count": 4,
      "outputs": []
    },
    {
      "cell_type": "code",
      "metadata": {
        "id": "6tbbzEiTFv_2"
      },
      "source": [
        "nlp = spacy.load(\"pt_core_news_sm\")"
      ],
      "execution_count": 5,
      "outputs": []
    },
    {
      "cell_type": "code",
      "metadata": {
        "id": "l5_YWNyWGHTh"
      },
      "source": [
        "texto = \"Rio de 345123767dfdf12 Janeiro é uma cidade maravilhosa\"\n",
        "doc = nlp(texto)"
      ],
      "execution_count": 28,
      "outputs": []
    },
    {
      "cell_type": "code",
      "metadata": {
        "colab": {
          "base_uri": "https://localhost:8080/"
        },
        "id": "Zi3TvaiRGjWA",
        "outputId": "38017d68-4148-4c1f-8ed4-38108a59aeb2"
      },
      "source": [
        "type(doc)"
      ],
      "execution_count": 7,
      "outputs": [
        {
          "output_type": "execute_result",
          "data": {
            "text/plain": [
              "spacy.tokens.doc.Doc"
            ]
          },
          "metadata": {
            "tags": []
          },
          "execution_count": 7
        }
      ]
    },
    {
      "cell_type": "code",
      "metadata": {
        "colab": {
          "base_uri": "https://localhost:8080/"
        },
        "id": "JoOR7yWwGnfr",
        "outputId": "3fd0d52a-d4b8-4b7b-d085-338f27527360"
      },
      "source": [
        "type(doc[0])"
      ],
      "execution_count": 8,
      "outputs": [
        {
          "output_type": "execute_result",
          "data": {
            "text/plain": [
              "spacy.tokens.token.Token"
            ]
          },
          "metadata": {
            "tags": []
          },
          "execution_count": 8
        }
      ]
    },
    {
      "cell_type": "code",
      "metadata": {
        "colab": {
          "base_uri": "https://localhost:8080/"
        },
        "id": "tI_5dn0oG8c9",
        "outputId": "4c0f03bb-c0f5-4776-a5ad-b19195785e88"
      },
      "source": [
        "doc.ents"
      ],
      "execution_count": 9,
      "outputs": [
        {
          "output_type": "execute_result",
          "data": {
            "text/plain": [
              "(Rio de Janeiro,)"
            ]
          },
          "metadata": {
            "tags": []
          },
          "execution_count": 9
        }
      ]
    },
    {
      "cell_type": "code",
      "metadata": {
        "colab": {
          "base_uri": "https://localhost:8080/"
        },
        "id": "MtbylSb4HApl",
        "outputId": "502804d6-39ad-42bc-c8c2-4325c7a4d9f2"
      },
      "source": [
        "doc[0].is_stop"
      ],
      "execution_count": 10,
      "outputs": [
        {
          "output_type": "execute_result",
          "data": {
            "text/plain": [
              "False"
            ]
          },
          "metadata": {
            "tags": []
          },
          "execution_count": 10
        }
      ]
    },
    {
      "cell_type": "code",
      "metadata": {
        "colab": {
          "base_uri": "https://localhost:8080/"
        },
        "id": "yxiIoZtFHHl6",
        "outputId": "bd9c02a2-f779-42f1-8d8f-92bd2f71e558"
      },
      "source": [
        "doc[1].is_stop"
      ],
      "execution_count": 11,
      "outputs": [
        {
          "output_type": "execute_result",
          "data": {
            "text/plain": [
              "True"
            ]
          },
          "metadata": {
            "tags": []
          },
          "execution_count": 11
        }
      ]
    },
    {
      "cell_type": "code",
      "metadata": {
        "id": "hOEK8ZbCNQfK"
      },
      "source": [
        "textos_para_tratamento = (titulos.lower() for titulos in dados_treino[\"title\"])"
      ],
      "execution_count": 12,
      "outputs": []
    },
    {
      "cell_type": "code",
      "metadata": {
        "id": "0Db6tMXMNNBL"
      },
      "source": [
        "def trata_textos(doc):\n",
        "  tokens_validos = []\n",
        "  for token in doc:\n",
        "    e_valido = not token.is_stop and token.is_alpha\n",
        "    if e_valido:\n",
        "      tokens_validos.append(token.text)\n",
        "  \n",
        "  if len(tokens_validos) > 2:\n",
        "    return \" \".join(tokens_validos)"
      ],
      "execution_count": 14,
      "outputs": []
    },
    {
      "cell_type": "code",
      "metadata": {
        "colab": {
          "base_uri": "https://localhost:8080/",
          "height": 35
        },
        "id": "HMKofo1vOhAI",
        "outputId": "749f8a47-5a4f-4291-ae81-7f76a3ed8dd8"
      },
      "source": [
        "trata_textos(doc)"
      ],
      "execution_count": 29,
      "outputs": [
        {
          "output_type": "execute_result",
          "data": {
            "application/vnd.google.colaboratory.intrinsic+json": {
              "type": "string"
            },
            "text/plain": [
              "'Rio Janeiro cidade maravilhosa'"
            ]
          },
          "metadata": {
            "tags": []
          },
          "execution_count": 29
        }
      ]
    },
    {
      "cell_type": "code",
      "metadata": {
        "colab": {
          "base_uri": "https://localhost:8080/"
        },
        "id": "FeCrs6XHHJA1",
        "outputId": "3fbb7d7a-92be-4aa9-d75c-4bd073dc3def"
      },
      "source": [
        "from time import time \n",
        "\n",
        "t0 = time()\n",
        "textos_tratados = [trata_textos(doc) for doc in nlp.pipe(textos_para_tratamento, batch_size = 1000, n_process = -1)]\n",
        "tf = time() - t0\n",
        "print(tf/60)"
      ],
      "execution_count": 33,
      "outputs": [
        {
          "output_type": "stream",
          "text": [
            "2.6982745051383974\n"
          ],
          "name": "stdout"
        }
      ]
    },
    {
      "cell_type": "code",
      "metadata": {
        "colab": {
          "base_uri": "https://localhost:8080/"
        },
        "id": "rCe8Z9XjR05A",
        "outputId": "2f96b696-e581-4753-b544-cad022b5dd3a"
      },
      "source": [
        "type(nlp)"
      ],
      "execution_count": 30,
      "outputs": [
        {
          "output_type": "execute_result",
          "data": {
            "text/plain": [
              "spacy.lang.pt.Portuguese"
            ]
          },
          "metadata": {
            "tags": []
          },
          "execution_count": 30
        }
      ]
    },
    {
      "cell_type": "code",
      "metadata": {
        "colab": {
          "base_uri": "https://localhost:8080/",
          "height": 204
        },
        "id": "VS3cZF3AR2JT",
        "outputId": "d6c6ee54-8d02-4d98-bfeb-a7cdbab0f616"
      },
      "source": [
        "titulos_tratados = pd.DataFrame({\"titulo\":textos_tratados})\n",
        "titulos_tratados.head()"
      ],
      "execution_count": 34,
      "outputs": [
        {
          "output_type": "execute_result",
          "data": {
            "text/html": [
              "<div>\n",
              "<style scoped>\n",
              "    .dataframe tbody tr th:only-of-type {\n",
              "        vertical-align: middle;\n",
              "    }\n",
              "\n",
              "    .dataframe tbody tr th {\n",
              "        vertical-align: top;\n",
              "    }\n",
              "\n",
              "    .dataframe thead th {\n",
              "        text-align: right;\n",
              "    }\n",
              "</style>\n",
              "<table border=\"1\" class=\"dataframe\">\n",
              "  <thead>\n",
              "    <tr style=\"text-align: right;\">\n",
              "      <th></th>\n",
              "      <th>titulo</th>\n",
              "    </tr>\n",
              "  </thead>\n",
              "  <tbody>\n",
              "    <tr>\n",
              "      <th>0</th>\n",
              "      <td>outro fracasso anunciado</td>\n",
              "    </tr>\n",
              "    <tr>\n",
              "      <th>1</th>\n",
              "      <td>paulistanos aproveitam boom vendem acessórios ...</td>\n",
              "    </tr>\n",
              "    <tr>\n",
              "      <th>2</th>\n",
              "      <td>stjd aceita pedido grêmio derruba perda mando ...</td>\n",
              "    </tr>\n",
              "    <tr>\n",
              "      <th>3</th>\n",
              "      <td>frança investiga renault suspeitas fraude emis...</td>\n",
              "    </tr>\n",
              "    <tr>\n",
              "      <th>4</th>\n",
              "      <td>anos palmeiras vence estreia casa gols</td>\n",
              "    </tr>\n",
              "  </tbody>\n",
              "</table>\n",
              "</div>"
            ],
            "text/plain": [
              "                                              titulo\n",
              "0                           outro fracasso anunciado\n",
              "1  paulistanos aproveitam boom vendem acessórios ...\n",
              "2  stjd aceita pedido grêmio derruba perda mando ...\n",
              "3  frança investiga renault suspeitas fraude emis...\n",
              "4             anos palmeiras vence estreia casa gols"
            ]
          },
          "metadata": {
            "tags": []
          },
          "execution_count": 34
        }
      ]
    },
    {
      "cell_type": "code",
      "metadata": {
        "id": "vtQT7usqTotV"
      },
      "source": [
        ""
      ],
      "execution_count": null,
      "outputs": []
    }
  ]
}