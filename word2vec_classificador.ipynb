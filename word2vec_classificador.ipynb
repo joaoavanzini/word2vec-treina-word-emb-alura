{
  "nbformat": 4,
  "nbformat_minor": 0,
  "metadata": {
    "colab": {
      "name": "word2vec-classificador.ipynb",
      "provenance": [],
      "collapsed_sections": [],
      "include_colab_link": true
    },
    "kernelspec": {
      "name": "python3",
      "display_name": "Python 3"
    }
  },
  "cells": [
    {
      "cell_type": "markdown",
      "metadata": {
        "id": "view-in-github",
        "colab_type": "text"
      },
      "source": [
        "<a href=\"https://colab.research.google.com/github/vicpb/word2vec-treina-word-emb-alura/blob/main/word2vec_classificador.ipynb\" target=\"_parent\"><img src=\"https://colab.research.google.com/assets/colab-badge.svg\" alt=\"Open In Colab\"/></a>"
      ]
    },
    {
      "cell_type": "code",
      "metadata": {
        "id": "lwFC0pOSITsz",
        "colab": {
          "base_uri": "https://localhost:8080/"
        },
        "outputId": "fd357b77-bad1-409b-b5cb-e2dcd3771aac"
      },
      "source": [
        "!python -m spacy download pt_core_news_sm"
      ],
      "execution_count": 1,
      "outputs": [
        {
          "output_type": "stream",
          "text": [
            "Requirement already satisfied: pt_core_news_sm==2.2.5 from https://github.com/explosion/spacy-models/releases/download/pt_core_news_sm-2.2.5/pt_core_news_sm-2.2.5.tar.gz#egg=pt_core_news_sm==2.2.5 in /usr/local/lib/python3.7/dist-packages (2.2.5)\n",
            "Requirement already satisfied: spacy>=2.2.2 in /usr/local/lib/python3.7/dist-packages (from pt_core_news_sm==2.2.5) (2.2.4)\n",
            "Requirement already satisfied: catalogue<1.1.0,>=0.0.7 in /usr/local/lib/python3.7/dist-packages (from spacy>=2.2.2->pt_core_news_sm==2.2.5) (1.0.0)\n",
            "Requirement already satisfied: tqdm<5.0.0,>=4.38.0 in /usr/local/lib/python3.7/dist-packages (from spacy>=2.2.2->pt_core_news_sm==2.2.5) (4.41.1)\n",
            "Requirement already satisfied: setuptools in /usr/local/lib/python3.7/dist-packages (from spacy>=2.2.2->pt_core_news_sm==2.2.5) (56.1.0)\n",
            "Requirement already satisfied: srsly<1.1.0,>=1.0.2 in /usr/local/lib/python3.7/dist-packages (from spacy>=2.2.2->pt_core_news_sm==2.2.5) (1.0.5)\n",
            "Requirement already satisfied: requests<3.0.0,>=2.13.0 in /usr/local/lib/python3.7/dist-packages (from spacy>=2.2.2->pt_core_news_sm==2.2.5) (2.23.0)\n",
            "Requirement already satisfied: thinc==7.4.0 in /usr/local/lib/python3.7/dist-packages (from spacy>=2.2.2->pt_core_news_sm==2.2.5) (7.4.0)\n",
            "Requirement already satisfied: numpy>=1.15.0 in /usr/local/lib/python3.7/dist-packages (from spacy>=2.2.2->pt_core_news_sm==2.2.5) (1.19.5)\n",
            "Requirement already satisfied: cymem<2.1.0,>=2.0.2 in /usr/local/lib/python3.7/dist-packages (from spacy>=2.2.2->pt_core_news_sm==2.2.5) (2.0.5)\n",
            "Requirement already satisfied: preshed<3.1.0,>=3.0.2 in /usr/local/lib/python3.7/dist-packages (from spacy>=2.2.2->pt_core_news_sm==2.2.5) (3.0.5)\n",
            "Requirement already satisfied: plac<1.2.0,>=0.9.6 in /usr/local/lib/python3.7/dist-packages (from spacy>=2.2.2->pt_core_news_sm==2.2.5) (1.1.3)\n",
            "Requirement already satisfied: murmurhash<1.1.0,>=0.28.0 in /usr/local/lib/python3.7/dist-packages (from spacy>=2.2.2->pt_core_news_sm==2.2.5) (1.0.5)\n",
            "Requirement already satisfied: blis<0.5.0,>=0.4.0 in /usr/local/lib/python3.7/dist-packages (from spacy>=2.2.2->pt_core_news_sm==2.2.5) (0.4.1)\n",
            "Requirement already satisfied: wasabi<1.1.0,>=0.4.0 in /usr/local/lib/python3.7/dist-packages (from spacy>=2.2.2->pt_core_news_sm==2.2.5) (0.8.2)\n",
            "Requirement already satisfied: importlib-metadata>=0.20; python_version < \"3.8\" in /usr/local/lib/python3.7/dist-packages (from catalogue<1.1.0,>=0.0.7->spacy>=2.2.2->pt_core_news_sm==2.2.5) (4.0.1)\n",
            "Requirement already satisfied: certifi>=2017.4.17 in /usr/local/lib/python3.7/dist-packages (from requests<3.0.0,>=2.13.0->spacy>=2.2.2->pt_core_news_sm==2.2.5) (2020.12.5)\n",
            "Requirement already satisfied: urllib3!=1.25.0,!=1.25.1,<1.26,>=1.21.1 in /usr/local/lib/python3.7/dist-packages (from requests<3.0.0,>=2.13.0->spacy>=2.2.2->pt_core_news_sm==2.2.5) (1.24.3)\n",
            "Requirement already satisfied: chardet<4,>=3.0.2 in /usr/local/lib/python3.7/dist-packages (from requests<3.0.0,>=2.13.0->spacy>=2.2.2->pt_core_news_sm==2.2.5) (3.0.4)\n",
            "Requirement already satisfied: idna<3,>=2.5 in /usr/local/lib/python3.7/dist-packages (from requests<3.0.0,>=2.13.0->spacy>=2.2.2->pt_core_news_sm==2.2.5) (2.10)\n",
            "Requirement already satisfied: zipp>=0.5 in /usr/local/lib/python3.7/dist-packages (from importlib-metadata>=0.20; python_version < \"3.8\"->catalogue<1.1.0,>=0.0.7->spacy>=2.2.2->pt_core_news_sm==2.2.5) (3.4.1)\n",
            "Requirement already satisfied: typing-extensions>=3.6.4; python_version < \"3.8\" in /usr/local/lib/python3.7/dist-packages (from importlib-metadata>=0.20; python_version < \"3.8\"->catalogue<1.1.0,>=0.0.7->spacy>=2.2.2->pt_core_news_sm==2.2.5) (3.7.4.3)\n",
            "\u001b[38;5;2m✔ Download and installation successful\u001b[0m\n",
            "You can now load the model via spacy.load('pt_core_news_sm')\n"
          ],
          "name": "stdout"
        }
      ]
    },
    {
      "cell_type": "code",
      "metadata": {
        "id": "bx8rtu0JZiMx"
      },
      "source": [
        ""
      ],
      "execution_count": 1,
      "outputs": []
    },
    {
      "cell_type": "code",
      "metadata": {
        "id": "kmUZvse1UCVb"
      },
      "source": [
        "import spacy\n",
        "import numpy as np\n",
        "import pandas as pd\n",
        "from gensim.models import KeyedVectors\n",
        "\n",
        "w2v_modelo_cbow = KeyedVectors.load_word2vec_format(\"/content/drive/MyDrive/Colab Notebooks/modelo_cbow.txt\")\n",
        "w2v_modelo_sg = KeyedVectors.load_word2vec_format(\"/content/drive/My Drive/Colab Notebooks/modelo_skipgram.txt\")\n",
        "artigo_treino = pd.read_csv(\"/content/drive/My Drive/Colab Notebooks/treino.csv\")\n",
        "artigo_teste = pd.read_csv(\"/content/drive/My Drive/Colab Notebooks/teste.csv\")"
      ],
      "execution_count": 2,
      "outputs": []
    },
    {
      "cell_type": "code",
      "metadata": {
        "id": "0X5lI4-NSlRI",
        "colab": {
          "base_uri": "https://localhost:8080/"
        },
        "outputId": "672fcd35-9f4e-4b61-8f5c-d8d1ac82531a"
      },
      "source": [
        "nlp = spacy.load(\"pt_core_news_sm\", disable=[\"paser\", \"ner\", \"tagger\", \"textcat\"])\n",
        "\n",
        "def tokenizador(texto):\n",
        "    \n",
        "    doc = nlp(texto)\n",
        "    tokens_validos = []\n",
        "    for token in doc:\n",
        "        e_valido = not token.is_stop and token.is_alpha\n",
        "        if e_valido:\n",
        "            tokens_validos.append(token.text.lower())\n",
        "\n",
        "    \n",
        "    return  tokens_validos\n",
        "\n",
        "texto = \"Rio de Janeiro 1231231 ***** @#$ é uma cidade maravilhosa!\"\n",
        "tokens = tokenizador(texto)\n",
        "print(tokens)"
      ],
      "execution_count": 3,
      "outputs": [
        {
          "output_type": "stream",
          "text": [
            "['rio', 'janeiro', 'cidade', 'maravilhosa']\n"
          ],
          "name": "stdout"
        }
      ]
    },
    {
      "cell_type": "code",
      "metadata": {
        "id": "2_GCypILSVga",
        "colab": {
          "base_uri": "https://localhost:8080/"
        },
        "outputId": "7cb72392-59d8-4586-8bbe-3dd8072a598c"
      },
      "source": [
        "def combinacao_de_vetores_por_soma(palavras, modelo):\n",
        "\n",
        "    vetor_resultante = np.zeros((1,300))\n",
        "\n",
        "    for pn in palavras:\n",
        "        try:\n",
        "            vetor_resultante += modelo.get_vector(pn)\n",
        "\n",
        "        except KeyError:\n",
        "            pass\n",
        "                \n",
        "\n",
        "    return vetor_resultante\n",
        "\n",
        "vetor_texto = combinacao_de_vetores_por_soma(tokens, w2v_modelo_cbow)\n",
        "print(vetor_texto.shape)\n",
        "print(vetor_texto)"
      ],
      "execution_count": 4,
      "outputs": [
        {
          "output_type": "stream",
          "text": [
            "(1, 300)\n",
            "[[-0.57215571  0.74214922 -0.35470682 -2.27220106 -0.74891359 -0.58882374\n",
            "   1.97067407 -0.23945725  2.96551448 -0.5618257   1.16920155 -0.29115811\n",
            "   1.13705773 -1.68892741 -0.74868731  1.20762184 -0.40211743  2.11665255\n",
            "   2.01783422 -1.36546957 -0.22131144 -1.62375885 -0.44960643  0.51977116\n",
            "  -2.09629428  1.84238571  0.17182408  2.88990706  2.07282785  4.34058499\n",
            "  -0.94307047 -0.0152204  -0.6800046   0.02643305 -1.00582758  1.89856955\n",
            "  -1.19818485  0.68375041  0.13434559 -0.07276583  0.43552956 -0.55565149\n",
            "   2.35972172 -2.90523356  0.71094358 -2.02963156  1.30692664 -0.28968048\n",
            "   0.65517215  0.56075428 -0.37911364  2.73371279 -0.59572794  1.76788633\n",
            "  -1.1709865  -2.44322662 -0.24314688 -1.58324431 -1.49547076  0.29054198\n",
            "  -0.4171164  -1.56516662 -1.42484216 -0.53194016  0.51780195 -1.56811041\n",
            "   2.68951433 -2.54944938  0.5720208  -0.55467716 -0.96629435  0.23949811\n",
            "   1.016515   -0.94547871  0.44745973  0.14036431  0.00453123  0.58840776\n",
            "  -0.82441023  0.19396515  0.73816399 -1.0442751  -1.58808482  3.8457576\n",
            "   0.15579091  1.86432905 -1.70938164 -0.58885489  1.61201636  1.22093243\n",
            "  -0.56555523  1.59619939 -1.33802111 -2.8072885   0.25709341  0.67544419\n",
            "  -0.18753121 -3.44844016 -0.27458176  1.90519845  3.17447437  0.39355988\n",
            "  -0.86294863 -1.41027841  0.36631358 -1.04376528 -0.99665797 -0.87547348\n",
            "  -0.03285548  0.4944894  -0.11819327  1.57955563  1.1607061   1.67194378\n",
            "   0.30949685  0.9542667  -1.94172397 -1.98324397 -0.29093051  1.0370526\n",
            "   1.22162893  0.19426386  0.11009932  0.59335455 -0.01604143  0.51885077\n",
            "  -0.1755854   0.7954514  -2.04478759 -0.87010479  0.9655563  -1.7586244\n",
            "  -0.02040979 -1.65597621  0.26011765 -1.49944656 -2.12036783  1.87128399\n",
            "  -0.27439829  1.25242513 -0.28995758 -1.26563699  1.09570879 -1.98809134\n",
            "   2.04986888  0.38122897 -1.0146573  -0.11116982  2.95814714 -0.62122804\n",
            "   0.79320002  1.58925398  1.35932261 -1.88268068  1.09166166 -1.9034881\n",
            "   3.38916165  0.57075134 -0.89400623  1.18076417  0.30544197 -1.18755978\n",
            "   1.68875578 -0.60963801 -1.54484717 -1.97627887  0.87972543  0.30760531\n",
            "   0.4353422  -0.49842151  0.11247644  1.37611364  0.42119119 -1.7882092\n",
            "   0.87404233 -1.74568228 -3.90321103 -1.07709758 -0.13775447  0.16896272\n",
            "  -0.54562341  0.02354807 -0.8022198  -0.84512252  0.73206812  0.95056829\n",
            "  -0.87440335 -0.74138562  2.0141786   0.80156371  1.74114069 -1.19726546\n",
            "   1.2207391   1.01687142  0.2641468   1.26504822 -1.5245309   0.05351466\n",
            "   0.08668296 -0.44407611  1.70518258  0.35584784 -0.26600999 -0.21325678\n",
            "   1.99781311  1.84678006 -1.61012664 -0.15190573  0.19830347 -0.43329464\n",
            "   0.63877521  1.25813678  0.45336485 -1.5111229  -0.50948295 -0.23492476\n",
            "  -0.18754354 -0.74391375  0.27897649 -0.08268331  2.5242781  -1.33592477\n",
            "   0.77906263  2.09982853 -0.17275332  0.10466977 -0.10978507  0.68301311\n",
            "   1.29847348 -0.96343064 -0.07705602  0.35835388  0.21877365  2.21126121\n",
            "   1.61619064  0.36675795  1.4665643  -1.20097028 -0.85500993  2.59632403\n",
            "   1.60170151  2.48717868  0.49720356  0.80668879 -3.04555357 -2.13570389\n",
            "  -1.65769157 -0.46409741 -0.89303979  2.42779875  0.07104916  1.51470224\n",
            "   0.7779635   0.72510645  1.09298477  0.660014    1.18125804  1.38223934\n",
            "  -0.76754677 -0.06125128  0.44215619  0.79273364  2.20596504 -2.17455098\n",
            "   0.06320256  0.79691136 -0.9145005   2.04032098 -1.35120824 -0.02432647\n",
            "  -2.26035465  0.37469542 -1.50417774  0.29633854  0.13127391  1.39985985\n",
            "   1.37075978 -0.3767402  -0.93543658 -0.49359945 -0.20077661 -1.88025156\n",
            "  -1.20976966  2.0720531  -1.4606453  -1.32628359 -0.80387727 -1.28259572\n",
            "   0.69553744  1.47159427 -3.44107163  0.40110838 -1.79455176 -0.36245042\n",
            "   0.36604886  1.45187557  0.98061359 -1.92411923  0.5631597   2.48215324]]\n"
          ],
          "name": "stdout"
        }
      ]
    },
    {
      "cell_type": "code",
      "metadata": {
        "id": "CSXjHM9sSQY8",
        "colab": {
          "base_uri": "https://localhost:8080/"
        },
        "outputId": "407eeb14-7fc6-47e0-8f30-9d9b7da4accb"
      },
      "source": [
        "def matriz_vetores(textos, modelo):\n",
        "    x = len(textos)\n",
        "    y = 300\n",
        "    matriz = np.zeros((x,y))\n",
        "\n",
        "    for i in range(x):\n",
        "        palavras = tokenizador(textos.iloc[i])\n",
        "        matriz[i] = combinacao_de_vetores_por_soma(palavras, modelo)\n",
        "\n",
        "    return matriz\n",
        "\n",
        "matriz_vetores_treino_cbow = matriz_vetores(artigo_treino.title, w2v_modelo_cbow)\n",
        "matriz_vetores_teste_cbow = matriz_vetores(artigo_teste.title, w2v_modelo_cbow)\n",
        "print(matriz_vetores_treino_cbow.shape)\n",
        "print(matriz_vetores_teste_cbow.shape) "
      ],
      "execution_count": 5,
      "outputs": [
        {
          "output_type": "stream",
          "text": [
            "(90000, 300)\n",
            "(20513, 300)\n"
          ],
          "name": "stdout"
        }
      ]
    },
    {
      "cell_type": "code",
      "metadata": {
        "id": "tr5VDmj3lkf0",
        "colab": {
          "base_uri": "https://localhost:8080/"
        },
        "outputId": "297f6828-8af6-4c3e-b5f6-10d6f553ef5e"
      },
      "source": [
        "from sklearn.linear_model import LogisticRegression\n",
        "from sklearn.metrics import classification_report\n",
        "\n",
        "def classificador(modelo, x_treino, y_treino, x_teste, y_teste):\n",
        "\n",
        "    RL = LogisticRegression(max_iter = 800)\n",
        "    RL.fit(x_treino, y_treino)\n",
        "    categorias = RL.predict(x_teste)\n",
        "    resultados = classification_report(y_teste, categorias)\n",
        "    print(resultados)\n",
        "    \n",
        "    return RL\n",
        "\n",
        "RL_cbow = classificador(w2v_modelo_cbow,\n",
        "                        matriz_vetores_treino_cbow,\n",
        "                        artigo_treino.category,\n",
        "                        matriz_vetores_teste_cbow,\n",
        "                        artigo_teste.category)"
      ],
      "execution_count": 6,
      "outputs": [
        {
          "output_type": "stream",
          "text": [
            "              precision    recall  f1-score   support\n",
            "\n",
            "     colunas       0.80      0.71      0.76      6103\n",
            "   cotidiano       0.64      0.80      0.71      1698\n",
            "     esporte       0.93      0.86      0.89      4663\n",
            "   ilustrada       0.12      0.81      0.21       131\n",
            "     mercado       0.84      0.78      0.81      5867\n",
            "       mundo       0.74      0.83      0.78      2051\n",
            "\n",
            "    accuracy                           0.79     20513\n",
            "   macro avg       0.68      0.80      0.69     20513\n",
            "weighted avg       0.82      0.79      0.80     20513\n",
            "\n"
          ],
          "name": "stdout"
        }
      ]
    },
    {
      "cell_type": "code",
      "metadata": {
        "id": "WlKOJ9AGsseD",
        "colab": {
          "base_uri": "https://localhost:8080/"
        },
        "outputId": "2dbb0c37-6607-422f-9890-3d07f7499044"
      },
      "source": [
        "matriz_vetores_treino_sg = matriz_vetores(artigo_treino.title, w2v_modelo_sg)\n",
        "matriz_vetores_teste_sg = matriz_vetores(artigo_teste.title, w2v_modelo_sg)\n",
        "\n",
        "RL_sg = classificador(w2v_modelo_sg,\n",
        "                        matriz_vetores_treino_sg,\n",
        "                        artigo_treino.category,\n",
        "                        matriz_vetores_teste_sg,\n",
        "                        artigo_teste.category)"
      ],
      "execution_count": 7,
      "outputs": [
        {
          "output_type": "stream",
          "text": [
            "              precision    recall  f1-score   support\n",
            "\n",
            "     colunas       0.81      0.71      0.76      6103\n",
            "   cotidiano       0.64      0.81      0.72      1698\n",
            "     esporte       0.93      0.88      0.90      4663\n",
            "   ilustrada       0.14      0.89      0.25       131\n",
            "     mercado       0.84      0.79      0.81      5867\n",
            "       mundo       0.75      0.84      0.79      2051\n",
            "\n",
            "    accuracy                           0.79     20513\n",
            "   macro avg       0.69      0.82      0.70     20513\n",
            "weighted avg       0.82      0.79      0.80     20513\n",
            "\n"
          ],
          "name": "stdout"
        }
      ]
    },
    {
      "cell_type": "code",
      "metadata": {
        "id": "q8mAwV5ctfxI"
      },
      "source": [
        "import pickle\n",
        "\n",
        "with open(\"/content/drive/My Drive/Colab Notebooks/rl_cbow.pkl\", \"wb\") as f:\n",
        "    pickle.dump(RL_cbow, f)"
      ],
      "execution_count": 8,
      "outputs": []
    },
    {
      "cell_type": "code",
      "metadata": {
        "id": "1Y6OxXfNwzuz"
      },
      "source": [
        "with open(\"/content/drive/My Drive/Colab Notebooks/rl_sg.pkl\", \"wb\") as f:\n",
        "    pickle.dump(RL_sg, f)"
      ],
      "execution_count": 9,
      "outputs": []
    },
    {
      "cell_type": "code",
      "metadata": {
        "id": "G_7AzIj_w8Hb"
      },
      "source": [
        ""
      ],
      "execution_count": 9,
      "outputs": []
    }
  ]
}