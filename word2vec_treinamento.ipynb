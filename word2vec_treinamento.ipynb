{
  "nbformat": 4,
  "nbformat_minor": 0,
  "metadata": {
    "colab": {
      "name": "word2vec_treinamento.ipynb",
      "provenance": [],
      "collapsed_sections": [],
      "authorship_tag": "ABX9TyMGLdTn/IGXq0NORgQRzEUH",
      "include_colab_link": true
    },
    "kernelspec": {
      "name": "python3",
      "display_name": "Python 3"
    },
    "language_info": {
      "name": "python"
    }
  },
  "cells": [
    {
      "cell_type": "markdown",
      "metadata": {
        "id": "view-in-github",
        "colab_type": "text"
      },
      "source": [
        "<a href=\"https://colab.research.google.com/github/vicpb/word2vec-treina-word-emb-alura/blob/main/word2vec_treinamento.ipynb\" target=\"_parent\"><img src=\"https://colab.research.google.com/assets/colab-badge.svg\" alt=\"Open In Colab\"/></a>"
      ]
    },
    {
      "cell_type": "code",
      "metadata": {
        "id": "2LS7NDmV9HXY"
      },
      "source": [
        "import pandas as pd\n",
        "import spacy"
      ],
      "execution_count": 1,
      "outputs": []
    },
    {
      "cell_type": "code",
      "metadata": {
        "colab": {
          "base_uri": "https://localhost:8080/",
          "height": 204
        },
        "id": "rwzywmVk9LBU",
        "outputId": "ade13c94-09d4-487a-fe8e-420f0887484a"
      },
      "source": [
        "dados_treino = pd.read_csv(\"treino.csv\")\n",
        "dados_treino.sample(5)"
      ],
      "execution_count": 2,
      "outputs": [
        {
          "output_type": "execute_result",
          "data": {
            "text/html": [
              "<div>\n",
              "<style scoped>\n",
              "    .dataframe tbody tr th:only-of-type {\n",
              "        vertical-align: middle;\n",
              "    }\n",
              "\n",
              "    .dataframe tbody tr th {\n",
              "        vertical-align: top;\n",
              "    }\n",
              "\n",
              "    .dataframe thead th {\n",
              "        text-align: right;\n",
              "    }\n",
              "</style>\n",
              "<table border=\"1\" class=\"dataframe\">\n",
              "  <thead>\n",
              "    <tr style=\"text-align: right;\">\n",
              "      <th></th>\n",
              "      <th>title</th>\n",
              "      <th>text</th>\n",
              "      <th>date</th>\n",
              "      <th>category</th>\n",
              "      <th>subcategory</th>\n",
              "      <th>link</th>\n",
              "    </tr>\n",
              "  </thead>\n",
              "  <tbody>\n",
              "    <tr>\n",
              "      <th>14678</th>\n",
              "      <td>Filósofo franco-americano René Girard morre ao...</td>\n",
              "      <td>Morreu, na madrugada desta quarta-feira (4), o...</td>\n",
              "      <td>2015-04-11</td>\n",
              "      <td>ilustrada</td>\n",
              "      <td>NaN</td>\n",
              "      <td>http://www1.folha.uol.com.br/ilustrada/2015/11...</td>\n",
              "    </tr>\n",
              "    <tr>\n",
              "      <th>29454</th>\n",
              "      <td>Rolling Stones fazem show-surpresa por US$ 5 e...</td>\n",
              "      <td>Os Rolling Stones começaram a turnê norte-amer...</td>\n",
              "      <td>2015-05-21</td>\n",
              "      <td>ilustrada</td>\n",
              "      <td>NaN</td>\n",
              "      <td>http://www1.folha.uol.com.br/ilustrada/2015/05...</td>\n",
              "    </tr>\n",
              "    <tr>\n",
              "      <th>47045</th>\n",
              "      <td>Nova cebola que não faz chorar chega ao mercad...</td>\n",
              "      <td>Acabou o choro na cozinha. Uma nova cebola de ...</td>\n",
              "      <td>2017-09-17</td>\n",
              "      <td>mercado</td>\n",
              "      <td>NaN</td>\n",
              "      <td>http://www1.folha.uol.com.br/mercado/2017/09/1...</td>\n",
              "    </tr>\n",
              "    <tr>\n",
              "      <th>7008</th>\n",
              "      <td>Suspeito de decepar orelha de jovem em festa n...</td>\n",
              "      <td>A Justiça do Rio de Janeiro aceitou, na tarde ...</td>\n",
              "      <td>2015-11-06</td>\n",
              "      <td>cotidiano</td>\n",
              "      <td>NaN</td>\n",
              "      <td>http://www1.folha.uol.com.br/cotidiano/2015/06...</td>\n",
              "    </tr>\n",
              "    <tr>\n",
              "      <th>81463</th>\n",
              "      <td>Morre aos 86 a artista e escritora portuguesa ...</td>\n",
              "      <td>Morreu nesta quarta-feira (5) a escritora e ar...</td>\n",
              "      <td>2015-05-08</td>\n",
              "      <td>ilustrada</td>\n",
              "      <td>NaN</td>\n",
              "      <td>http://www1.folha.uol.com.br/ilustrada/2015/08...</td>\n",
              "    </tr>\n",
              "  </tbody>\n",
              "</table>\n",
              "</div>"
            ],
            "text/plain": [
              "                                                   title  ...                                               link\n",
              "14678  Filósofo franco-americano René Girard morre ao...  ...  http://www1.folha.uol.com.br/ilustrada/2015/11...\n",
              "29454  Rolling Stones fazem show-surpresa por US$ 5 e...  ...  http://www1.folha.uol.com.br/ilustrada/2015/05...\n",
              "47045  Nova cebola que não faz chorar chega ao mercad...  ...  http://www1.folha.uol.com.br/mercado/2017/09/1...\n",
              "7008   Suspeito de decepar orelha de jovem em festa n...  ...  http://www1.folha.uol.com.br/cotidiano/2015/06...\n",
              "81463  Morre aos 86 a artista e escritora portuguesa ...  ...  http://www1.folha.uol.com.br/ilustrada/2015/08...\n",
              "\n",
              "[5 rows x 6 columns]"
            ]
          },
          "metadata": {
            "tags": []
          },
          "execution_count": 2
        }
      ]
    },
    {
      "cell_type": "code",
      "metadata": {
        "id": "Vm6FuxRkE-jY"
      },
      "source": [
        "#!pip install -U spacy"
      ],
      "execution_count": 3,
      "outputs": []
    },
    {
      "cell_type": "code",
      "metadata": {
        "id": "vur9dTCkFlII"
      },
      "source": [
        "#!python -m spacy download pt_core_news_sm"
      ],
      "execution_count": 4,
      "outputs": []
    },
    {
      "cell_type": "code",
      "metadata": {
        "id": "6tbbzEiTFv_2"
      },
      "source": [
        "nlp = spacy.load(\"pt_core_news_sm\")"
      ],
      "execution_count": 5,
      "outputs": []
    },
    {
      "cell_type": "code",
      "metadata": {
        "id": "l5_YWNyWGHTh"
      },
      "source": [
        "texto = \"Rio de 345123767dfdf12 Janeiro é uma cidade maravilhosa\"\n",
        "doc = nlp(texto)"
      ],
      "execution_count": 6,
      "outputs": []
    },
    {
      "cell_type": "code",
      "metadata": {
        "colab": {
          "base_uri": "https://localhost:8080/"
        },
        "id": "Zi3TvaiRGjWA",
        "outputId": "3e2c18d2-bfcc-4530-97d9-3b02665ef7fe"
      },
      "source": [
        "type(doc)"
      ],
      "execution_count": 7,
      "outputs": [
        {
          "output_type": "execute_result",
          "data": {
            "text/plain": [
              "spacy.tokens.doc.Doc"
            ]
          },
          "metadata": {
            "tags": []
          },
          "execution_count": 7
        }
      ]
    },
    {
      "cell_type": "code",
      "metadata": {
        "colab": {
          "base_uri": "https://localhost:8080/"
        },
        "id": "JoOR7yWwGnfr",
        "outputId": "061fc2db-f98e-4c99-cd0f-ca7b5eec9828"
      },
      "source": [
        "type(doc[0])"
      ],
      "execution_count": 8,
      "outputs": [
        {
          "output_type": "execute_result",
          "data": {
            "text/plain": [
              "spacy.tokens.token.Token"
            ]
          },
          "metadata": {
            "tags": []
          },
          "execution_count": 8
        }
      ]
    },
    {
      "cell_type": "code",
      "metadata": {
        "colab": {
          "base_uri": "https://localhost:8080/"
        },
        "id": "tI_5dn0oG8c9",
        "outputId": "6eeba688-cfdc-44bd-befa-0be9a23bca21"
      },
      "source": [
        "doc.ents"
      ],
      "execution_count": 9,
      "outputs": [
        {
          "output_type": "execute_result",
          "data": {
            "text/plain": [
              "(Rio de 345123767dfdf12 Janeiro,)"
            ]
          },
          "metadata": {
            "tags": []
          },
          "execution_count": 9
        }
      ]
    },
    {
      "cell_type": "code",
      "metadata": {
        "colab": {
          "base_uri": "https://localhost:8080/"
        },
        "id": "MtbylSb4HApl",
        "outputId": "571dbbf2-782e-4543-8dc0-1904d7e610cd"
      },
      "source": [
        "doc[0].is_stop"
      ],
      "execution_count": 10,
      "outputs": [
        {
          "output_type": "execute_result",
          "data": {
            "text/plain": [
              "False"
            ]
          },
          "metadata": {
            "tags": []
          },
          "execution_count": 10
        }
      ]
    },
    {
      "cell_type": "code",
      "metadata": {
        "colab": {
          "base_uri": "https://localhost:8080/"
        },
        "id": "yxiIoZtFHHl6",
        "outputId": "e0c1ae51-b600-4118-ded1-878573c186ce"
      },
      "source": [
        "doc[1].is_stop"
      ],
      "execution_count": 11,
      "outputs": [
        {
          "output_type": "execute_result",
          "data": {
            "text/plain": [
              "True"
            ]
          },
          "metadata": {
            "tags": []
          },
          "execution_count": 11
        }
      ]
    },
    {
      "cell_type": "code",
      "metadata": {
        "id": "hOEK8ZbCNQfK"
      },
      "source": [
        "textos_para_tratamento = (titulos.lower() for titulos in dados_treino[\"title\"])"
      ],
      "execution_count": 12,
      "outputs": []
    },
    {
      "cell_type": "code",
      "metadata": {
        "id": "0Db6tMXMNNBL"
      },
      "source": [
        "def trata_textos(doc):\n",
        "  tokens_validos = []\n",
        "  for token in doc:\n",
        "    e_valido = not token.is_stop and token.is_alpha\n",
        "    if e_valido:\n",
        "      tokens_validos.append(token.text)\n",
        "  \n",
        "  if len(tokens_validos) > 2:\n",
        "    return \" \".join(tokens_validos)"
      ],
      "execution_count": 13,
      "outputs": []
    },
    {
      "cell_type": "code",
      "metadata": {
        "colab": {
          "base_uri": "https://localhost:8080/",
          "height": 35
        },
        "id": "HMKofo1vOhAI",
        "outputId": "e3bb3e3c-448a-412c-840d-bf411d47f20a"
      },
      "source": [
        "trata_textos(doc)"
      ],
      "execution_count": 14,
      "outputs": [
        {
          "output_type": "execute_result",
          "data": {
            "application/vnd.google.colaboratory.intrinsic+json": {
              "type": "string"
            },
            "text/plain": [
              "'Rio Janeiro cidade maravilhosa'"
            ]
          },
          "metadata": {
            "tags": []
          },
          "execution_count": 14
        }
      ]
    },
    {
      "cell_type": "code",
      "metadata": {
        "colab": {
          "base_uri": "https://localhost:8080/"
        },
        "id": "FeCrs6XHHJA1",
        "outputId": "6f753720-126c-4a8f-b817-b0c3697581ce"
      },
      "source": [
        "from time import time \n",
        "\n",
        "t0 = time()\n",
        "textos_tratados = [trata_textos(doc) for doc in nlp.pipe(textos_para_tratamento, batch_size = 1000, n_process = -1)]\n",
        "tf = time() - t0\n",
        "print(tf/60)"
      ],
      "execution_count": 15,
      "outputs": [
        {
          "output_type": "stream",
          "text": [
            "3.191255776087443\n"
          ],
          "name": "stdout"
        }
      ]
    },
    {
      "cell_type": "code",
      "metadata": {
        "colab": {
          "base_uri": "https://localhost:8080/"
        },
        "id": "rCe8Z9XjR05A",
        "outputId": "1b820d41-d39e-47f9-a656-c6b342ac7ee3"
      },
      "source": [
        "type(nlp)"
      ],
      "execution_count": 16,
      "outputs": [
        {
          "output_type": "execute_result",
          "data": {
            "text/plain": [
              "spacy.lang.pt.Portuguese"
            ]
          },
          "metadata": {
            "tags": []
          },
          "execution_count": 16
        }
      ]
    },
    {
      "cell_type": "code",
      "metadata": {
        "colab": {
          "base_uri": "https://localhost:8080/",
          "height": 204
        },
        "id": "VS3cZF3AR2JT",
        "outputId": "51dec100-8906-4d09-ace9-975692c1263c"
      },
      "source": [
        "titulos_tratados = pd.DataFrame({\"titulo\":textos_tratados})\n",
        "titulos_tratados.head()"
      ],
      "execution_count": 17,
      "outputs": [
        {
          "output_type": "execute_result",
          "data": {
            "text/html": [
              "<div>\n",
              "<style scoped>\n",
              "    .dataframe tbody tr th:only-of-type {\n",
              "        vertical-align: middle;\n",
              "    }\n",
              "\n",
              "    .dataframe tbody tr th {\n",
              "        vertical-align: top;\n",
              "    }\n",
              "\n",
              "    .dataframe thead th {\n",
              "        text-align: right;\n",
              "    }\n",
              "</style>\n",
              "<table border=\"1\" class=\"dataframe\">\n",
              "  <thead>\n",
              "    <tr style=\"text-align: right;\">\n",
              "      <th></th>\n",
              "      <th>titulo</th>\n",
              "    </tr>\n",
              "  </thead>\n",
              "  <tbody>\n",
              "    <tr>\n",
              "      <th>0</th>\n",
              "      <td>polêmica marine le pen abomina negacionistas h...</td>\n",
              "    </tr>\n",
              "    <tr>\n",
              "      <th>1</th>\n",
              "      <td>macron le pen turno frança revés siglas tradic...</td>\n",
              "    </tr>\n",
              "    <tr>\n",
              "      <th>2</th>\n",
              "      <td>apesar larga vitória legislativas macron terá ...</td>\n",
              "    </tr>\n",
              "    <tr>\n",
              "      <th>3</th>\n",
              "      <td>governo antecipa balanço alckmin anuncia queda...</td>\n",
              "    </tr>\n",
              "    <tr>\n",
              "      <th>4</th>\n",
              "      <td>queda maio atividade econômica sobe junho bc</td>\n",
              "    </tr>\n",
              "  </tbody>\n",
              "</table>\n",
              "</div>"
            ],
            "text/plain": [
              "                                              titulo\n",
              "0  polêmica marine le pen abomina negacionistas h...\n",
              "1  macron le pen turno frança revés siglas tradic...\n",
              "2  apesar larga vitória legislativas macron terá ...\n",
              "3  governo antecipa balanço alckmin anuncia queda...\n",
              "4       queda maio atividade econômica sobe junho bc"
            ]
          },
          "metadata": {
            "tags": []
          },
          "execution_count": 17
        }
      ]
    },
    {
      "cell_type": "code",
      "metadata": {
        "id": "vtQT7usqTotV"
      },
      "source": [
        "from gensim.models import Word2Vec\n",
        "\n",
        "w2v_modelo = Word2Vec(sg = 0,\n",
        "                      window = 2,\n",
        "                      size = 300,\n",
        "                      min_count = 5,\n",
        "                      alpha = 0.03,\n",
        "                      min_alpha = 0.007)"
      ],
      "execution_count": 18,
      "outputs": []
    },
    {
      "cell_type": "code",
      "metadata": {
        "colab": {
          "base_uri": "https://localhost:8080/"
        },
        "id": "-23lVyxxWHbR",
        "outputId": "e3fbb949-5f89-4d5c-be49-3e1d971400c8"
      },
      "source": [
        "w2v_modelo"
      ],
      "execution_count": 19,
      "outputs": [
        {
          "output_type": "execute_result",
          "data": {
            "text/plain": [
              "<gensim.models.word2vec.Word2Vec at 0x7f6aecf03310>"
            ]
          },
          "metadata": {
            "tags": []
          },
          "execution_count": 19
        }
      ]
    },
    {
      "cell_type": "code",
      "metadata": {
        "colab": {
          "base_uri": "https://localhost:8080/"
        },
        "id": "Tafm91wJXOC7",
        "outputId": "0aa1ec91-b1d5-45ad-aa90-70aa710925f2"
      },
      "source": [
        "print(len(titulos_tratados))\n",
        "\n",
        "#remove linhas vazias e duplicatas\n",
        "titulos_tratados = titulos_tratados.dropna().drop_duplicates()\n",
        "\n",
        "\n",
        "print(len(titulos_tratados))"
      ],
      "execution_count": 20,
      "outputs": [
        {
          "output_type": "stream",
          "text": [
            "90000\n",
            "84466\n"
          ],
          "name": "stdout"
        }
      ]
    },
    {
      "cell_type": "code",
      "metadata": {
        "id": "X7w_PiFmWz2N"
      },
      "source": [
        "lista_lista_tokens = [titulo.split(\" \") for titulo in titulos_tratados.titulo]"
      ],
      "execution_count": 21,
      "outputs": []
    },
    {
      "cell_type": "code",
      "metadata": {
        "colab": {
          "base_uri": "https://localhost:8080/"
        },
        "id": "REoXOn7kWMOd",
        "outputId": "220d265f-4ba3-4165-ee51-bd124a3bcb9e"
      },
      "source": [
        "import logging\n",
        "\n",
        "logging.basicConfig(format = \"%(asctime)s : - %(message)s\", level = logging.INFO)\n",
        "\n",
        "w2v_modelo = Word2Vec(sg = 0,\n",
        "                      window = 2,\n",
        "                      size = 300,\n",
        "                      min_count = 5,\n",
        "                      alpha = 0.03,\n",
        "                      min_alpha = 0.007)\n",
        "\n",
        "w2v_modelo.build_vocab(lista_lista_tokens, progress_per = 5000)"
      ],
      "execution_count": 25,
      "outputs": [
        {
          "output_type": "stream",
          "text": [
            "2021-05-21 14:46:20,091 : - collecting all words and their counts\n",
            "2021-05-21 14:46:20,094 : - PROGRESS: at sentence #0, processed 0 words, keeping 0 word types\n",
            "2021-05-21 14:46:20,109 : - PROGRESS: at sentence #5000, processed 31930 words, keeping 10193 word types\n",
            "2021-05-21 14:46:20,124 : - PROGRESS: at sentence #10000, processed 63848 words, keeping 14989 word types\n",
            "2021-05-21 14:46:20,139 : - PROGRESS: at sentence #15000, processed 95753 words, keeping 18279 word types\n",
            "2021-05-21 14:46:20,155 : - PROGRESS: at sentence #20000, processed 127689 words, keeping 21033 word types\n",
            "2021-05-21 14:46:20,168 : - PROGRESS: at sentence #25000, processed 159589 words, keeping 23491 word types\n",
            "2021-05-21 14:46:20,188 : - PROGRESS: at sentence #30000, processed 191554 words, keeping 25494 word types\n",
            "2021-05-21 14:46:20,203 : - PROGRESS: at sentence #35000, processed 223412 words, keeping 27330 word types\n",
            "2021-05-21 14:46:20,215 : - PROGRESS: at sentence #40000, processed 255282 words, keeping 29053 word types\n",
            "2021-05-21 14:46:20,231 : - PROGRESS: at sentence #45000, processed 287297 words, keeping 30606 word types\n",
            "2021-05-21 14:46:20,252 : - PROGRESS: at sentence #50000, processed 319258 words, keeping 31964 word types\n",
            "2021-05-21 14:46:20,272 : - PROGRESS: at sentence #55000, processed 351437 words, keeping 33270 word types\n",
            "2021-05-21 14:46:20,285 : - PROGRESS: at sentence #60000, processed 383579 words, keeping 34520 word types\n",
            "2021-05-21 14:46:20,301 : - PROGRESS: at sentence #65000, processed 415565 words, keeping 35643 word types\n",
            "2021-05-21 14:46:20,321 : - PROGRESS: at sentence #70000, processed 447646 words, keeping 36719 word types\n",
            "2021-05-21 14:46:20,338 : - PROGRESS: at sentence #75000, processed 479568 words, keeping 37802 word types\n",
            "2021-05-21 14:46:20,353 : - PROGRESS: at sentence #80000, processed 511645 words, keeping 38814 word types\n",
            "2021-05-21 14:46:20,369 : - collected 39693 word types from a corpus of 540242 raw words and 84466 sentences\n",
            "2021-05-21 14:46:20,370 : - Loading a fresh vocabulary\n",
            "2021-05-21 14:46:20,422 : - effective_min_count=5 retains 12924 unique words (32% of original 39693, drops 26769)\n",
            "2021-05-21 14:46:20,424 : - effective_min_count=5 leaves 495223 word corpus (91% of original 540242, drops 45019)\n",
            "2021-05-21 14:46:20,472 : - deleting the raw counts dictionary of 39693 items\n",
            "2021-05-21 14:46:20,475 : - sample=0.001 downsamples 8 most-common words\n",
            "2021-05-21 14:46:20,478 : - downsampling leaves estimated 486147 word corpus (98.2% of prior 495223)\n",
            "2021-05-21 14:46:20,529 : - estimated required memory for 12924 words and 300 dimensions: 37479600 bytes\n",
            "2021-05-21 14:46:20,531 : - resetting layer weights\n"
          ],
          "name": "stderr"
        }
      ]
    },
    {
      "cell_type": "code",
      "metadata": {
        "id": "_fjW6CmnXeof"
      },
      "source": [
        ""
      ],
      "execution_count": 23,
      "outputs": []
    }
  ]
}