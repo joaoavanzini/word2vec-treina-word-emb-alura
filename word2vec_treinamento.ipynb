{
  "nbformat": 4,
  "nbformat_minor": 0,
  "metadata": {
    "colab": {
      "name": "word2vec_treinamento.ipynb",
      "provenance": [],
      "collapsed_sections": [],
      "authorship_tag": "ABX9TyP7Hc3u/Fw7OfE+3eYvzQNY",
      "include_colab_link": true
    },
    "kernelspec": {
      "name": "python3",
      "display_name": "Python 3"
    },
    "language_info": {
      "name": "python"
    }
  },
  "cells": [
    {
      "cell_type": "markdown",
      "metadata": {
        "id": "view-in-github",
        "colab_type": "text"
      },
      "source": [
        "<a href=\"https://colab.research.google.com/github/vicpb/word2vec-treina-word-emb-alura/blob/main/word2vec_treinamento.ipynb\" target=\"_parent\"><img src=\"https://colab.research.google.com/assets/colab-badge.svg\" alt=\"Open In Colab\"/></a>"
      ]
    },
    {
      "cell_type": "code",
      "metadata": {
        "id": "2LS7NDmV9HXY"
      },
      "source": [
        "import pandas as pd\n",
        "import spacy"
      ],
      "execution_count": 1,
      "outputs": []
    },
    {
      "cell_type": "code",
      "metadata": {
        "colab": {
          "base_uri": "https://localhost:8080/",
          "height": 204
        },
        "id": "rwzywmVk9LBU",
        "outputId": "325c0445-b152-4a60-d3c3-cb40ef550d4e"
      },
      "source": [
        "dados_treino = pd.read_csv(\"treino.csv\")\n",
        "dados_treino.sample(5)"
      ],
      "execution_count": 2,
      "outputs": [
        {
          "output_type": "execute_result",
          "data": {
            "text/html": [
              "<div>\n",
              "<style scoped>\n",
              "    .dataframe tbody tr th:only-of-type {\n",
              "        vertical-align: middle;\n",
              "    }\n",
              "\n",
              "    .dataframe tbody tr th {\n",
              "        vertical-align: top;\n",
              "    }\n",
              "\n",
              "    .dataframe thead th {\n",
              "        text-align: right;\n",
              "    }\n",
              "</style>\n",
              "<table border=\"1\" class=\"dataframe\">\n",
              "  <thead>\n",
              "    <tr style=\"text-align: right;\">\n",
              "      <th></th>\n",
              "      <th>title</th>\n",
              "      <th>text</th>\n",
              "      <th>date</th>\n",
              "      <th>category</th>\n",
              "      <th>subcategory</th>\n",
              "      <th>link</th>\n",
              "    </tr>\n",
              "  </thead>\n",
              "  <tbody>\n",
              "    <tr>\n",
              "      <th>68213</th>\n",
              "      <td>Briga entre portos vizinhos no Amazonas pode c...</td>\n",
              "      <td>Uma disputa entre dois terminais portuários pr...</td>\n",
              "      <td>2017-06-28</td>\n",
              "      <td>colunas</td>\n",
              "      <td>mercadoaberto</td>\n",
              "      <td>http://www1.folha.uol.com.br/colunas/mercadoab...</td>\n",
              "    </tr>\n",
              "    <tr>\n",
              "      <th>28074</th>\n",
              "      <td>Metrô de SP tem pane elétrica e passageiros sã...</td>\n",
              "      <td>Um trem da linha 1-azul do metrô parou de func...</td>\n",
              "      <td>2017-08-08</td>\n",
              "      <td>cotidiano</td>\n",
              "      <td>NaN</td>\n",
              "      <td>http://www1.folha.uol.com.br/cotidiano/2017/08...</td>\n",
              "    </tr>\n",
              "    <tr>\n",
              "      <th>52506</th>\n",
              "      <td>Imagens flagram assalto a motoristas na região...</td>\n",
              "      <td>Um vídeo divulgado em redes sociais flagrou um...</td>\n",
              "      <td>2016-11-17</td>\n",
              "      <td>cotidiano</td>\n",
              "      <td>NaN</td>\n",
              "      <td>http://www1.folha.uol.com.br/cotidiano/2016/11...</td>\n",
              "    </tr>\n",
              "    <tr>\n",
              "      <th>87953</th>\n",
              "      <td>Crítica: Encenação potencializa pessimismo de ...</td>\n",
              "      <td>O conto \"Josefina, a Cantora ou o Povo dos Rat...</td>\n",
              "      <td>2015-02-27</td>\n",
              "      <td>ilustrada</td>\n",
              "      <td>NaN</td>\n",
              "      <td>http://www1.folha.uol.com.br/ilustrada/2015/02...</td>\n",
              "    </tr>\n",
              "    <tr>\n",
              "      <th>73173</th>\n",
              "      <td>Anac negou pedido de voo fretado da Chapecoens...</td>\n",
              "      <td>A Anac (Agência Nacional de Aviação Civil) con...</td>\n",
              "      <td>2016-11-29</td>\n",
              "      <td>esporte</td>\n",
              "      <td>NaN</td>\n",
              "      <td>http://www1.folha.uol.com.br/esporte/2016/11/1...</td>\n",
              "    </tr>\n",
              "  </tbody>\n",
              "</table>\n",
              "</div>"
            ],
            "text/plain": [
              "                                                   title  ...                                               link\n",
              "68213  Briga entre portos vizinhos no Amazonas pode c...  ...  http://www1.folha.uol.com.br/colunas/mercadoab...\n",
              "28074  Metrô de SP tem pane elétrica e passageiros sã...  ...  http://www1.folha.uol.com.br/cotidiano/2017/08...\n",
              "52506  Imagens flagram assalto a motoristas na região...  ...  http://www1.folha.uol.com.br/cotidiano/2016/11...\n",
              "87953  Crítica: Encenação potencializa pessimismo de ...  ...  http://www1.folha.uol.com.br/ilustrada/2015/02...\n",
              "73173  Anac negou pedido de voo fretado da Chapecoens...  ...  http://www1.folha.uol.com.br/esporte/2016/11/1...\n",
              "\n",
              "[5 rows x 6 columns]"
            ]
          },
          "metadata": {
            "tags": []
          },
          "execution_count": 2
        }
      ]
    },
    {
      "cell_type": "code",
      "metadata": {
        "id": "Vm6FuxRkE-jY"
      },
      "source": [
        "#!pip install -U spacy"
      ],
      "execution_count": 3,
      "outputs": []
    },
    {
      "cell_type": "code",
      "metadata": {
        "id": "vur9dTCkFlII"
      },
      "source": [
        "#!python -m spacy download pt_core_news_sm"
      ],
      "execution_count": null,
      "outputs": []
    },
    {
      "cell_type": "code",
      "metadata": {
        "id": "6tbbzEiTFv_2"
      },
      "source": [
        "nlp = spacy.load(\"pt_core_news_sm\")"
      ],
      "execution_count": null,
      "outputs": []
    },
    {
      "cell_type": "code",
      "metadata": {
        "id": "l5_YWNyWGHTh"
      },
      "source": [
        "texto = \"Rio de 345123767dfdf12 Janeiro é uma cidade maravilhosa\"\n",
        "doc = nlp(texto)"
      ],
      "execution_count": 6,
      "outputs": []
    },
    {
      "cell_type": "code",
      "metadata": {
        "colab": {
          "base_uri": "https://localhost:8080/"
        },
        "id": "Zi3TvaiRGjWA",
        "outputId": "f069520c-8e50-4b2f-8176-47d1012a10fa"
      },
      "source": [
        "type(doc)"
      ],
      "execution_count": 7,
      "outputs": [
        {
          "output_type": "execute_result",
          "data": {
            "text/plain": [
              "spacy.tokens.doc.Doc"
            ]
          },
          "metadata": {
            "tags": []
          },
          "execution_count": 7
        }
      ]
    },
    {
      "cell_type": "code",
      "metadata": {
        "colab": {
          "base_uri": "https://localhost:8080/"
        },
        "id": "JoOR7yWwGnfr",
        "outputId": "49491cf2-42a6-45ef-ee32-cd36065e7a6e"
      },
      "source": [
        "type(doc[0])"
      ],
      "execution_count": 8,
      "outputs": [
        {
          "output_type": "execute_result",
          "data": {
            "text/plain": [
              "spacy.tokens.token.Token"
            ]
          },
          "metadata": {
            "tags": []
          },
          "execution_count": 8
        }
      ]
    },
    {
      "cell_type": "code",
      "metadata": {
        "colab": {
          "base_uri": "https://localhost:8080/"
        },
        "id": "tI_5dn0oG8c9",
        "outputId": "0cd74da4-9983-4e69-b1a7-f3665c5d9c8e"
      },
      "source": [
        "doc.ents"
      ],
      "execution_count": 9,
      "outputs": [
        {
          "output_type": "execute_result",
          "data": {
            "text/plain": [
              "(Rio de 345123767dfdf12 Janeiro,)"
            ]
          },
          "metadata": {
            "tags": []
          },
          "execution_count": 9
        }
      ]
    },
    {
      "cell_type": "code",
      "metadata": {
        "colab": {
          "base_uri": "https://localhost:8080/"
        },
        "id": "MtbylSb4HApl",
        "outputId": "9f764763-f291-49fd-8a63-15530e7d5d71"
      },
      "source": [
        "doc[0].is_stop"
      ],
      "execution_count": 10,
      "outputs": [
        {
          "output_type": "execute_result",
          "data": {
            "text/plain": [
              "False"
            ]
          },
          "metadata": {
            "tags": []
          },
          "execution_count": 10
        }
      ]
    },
    {
      "cell_type": "code",
      "metadata": {
        "colab": {
          "base_uri": "https://localhost:8080/"
        },
        "id": "yxiIoZtFHHl6",
        "outputId": "7708caf3-3513-4118-e750-411ed62efafa"
      },
      "source": [
        "doc[1].is_stop"
      ],
      "execution_count": 11,
      "outputs": [
        {
          "output_type": "execute_result",
          "data": {
            "text/plain": [
              "True"
            ]
          },
          "metadata": {
            "tags": []
          },
          "execution_count": 11
        }
      ]
    },
    {
      "cell_type": "code",
      "metadata": {
        "id": "hOEK8ZbCNQfK"
      },
      "source": [
        "textos_para_tratamento = (titulos.lower() for titulos in dados_treino[\"title\"])"
      ],
      "execution_count": 12,
      "outputs": []
    },
    {
      "cell_type": "code",
      "metadata": {
        "id": "0Db6tMXMNNBL"
      },
      "source": [
        "def trata_textos(doc):\n",
        "  tokens_validos = []\n",
        "  for token in doc:\n",
        "    e_valido = not token.is_stop and token.is_alpha\n",
        "    if e_valido:\n",
        "      tokens_validos.append(token.text)\n",
        "  \n",
        "  if len(tokens_validos) > 2:\n",
        "    return \" \".join(tokens_validos)"
      ],
      "execution_count": 13,
      "outputs": []
    },
    {
      "cell_type": "code",
      "metadata": {
        "colab": {
          "base_uri": "https://localhost:8080/",
          "height": 35
        },
        "id": "HMKofo1vOhAI",
        "outputId": "32efb299-47db-460a-a432-f1f7f52eb275"
      },
      "source": [
        "trata_textos(doc)"
      ],
      "execution_count": 14,
      "outputs": [
        {
          "output_type": "execute_result",
          "data": {
            "application/vnd.google.colaboratory.intrinsic+json": {
              "type": "string"
            },
            "text/plain": [
              "'Rio Janeiro cidade maravilhosa'"
            ]
          },
          "metadata": {
            "tags": []
          },
          "execution_count": 14
        }
      ]
    },
    {
      "cell_type": "code",
      "metadata": {
        "colab": {
          "base_uri": "https://localhost:8080/"
        },
        "id": "FeCrs6XHHJA1",
        "outputId": "b69d1dec-528c-4696-9437-d23b803a3b20"
      },
      "source": [
        "from time import time \n",
        "\n",
        "t0 = time()\n",
        "textos_tratados = [trata_textos(doc) for doc in nlp.pipe(textos_para_tratamento, batch_size = 1000, n_process = -1)]\n",
        "tf = time() - t0\n",
        "print(tf/60)"
      ],
      "execution_count": 15,
      "outputs": [
        {
          "output_type": "stream",
          "text": [
            "2.8705578366915385\n"
          ],
          "name": "stdout"
        }
      ]
    },
    {
      "cell_type": "code",
      "metadata": {
        "colab": {
          "base_uri": "https://localhost:8080/"
        },
        "id": "rCe8Z9XjR05A",
        "outputId": "cc56c038-c336-4041-ce7f-2fdaf739a8e8"
      },
      "source": [
        "type(nlp)"
      ],
      "execution_count": 16,
      "outputs": [
        {
          "output_type": "execute_result",
          "data": {
            "text/plain": [
              "spacy.lang.pt.Portuguese"
            ]
          },
          "metadata": {
            "tags": []
          },
          "execution_count": 16
        }
      ]
    },
    {
      "cell_type": "code",
      "metadata": {
        "colab": {
          "base_uri": "https://localhost:8080/",
          "height": 204
        },
        "id": "VS3cZF3AR2JT",
        "outputId": "971cbddf-f915-4446-c86a-9359249d6711"
      },
      "source": [
        "titulos_tratados = pd.DataFrame({\"titulo\":textos_tratados})\n",
        "titulos_tratados.head()"
      ],
      "execution_count": 17,
      "outputs": [
        {
          "output_type": "execute_result",
          "data": {
            "text/html": [
              "<div>\n",
              "<style scoped>\n",
              "    .dataframe tbody tr th:only-of-type {\n",
              "        vertical-align: middle;\n",
              "    }\n",
              "\n",
              "    .dataframe tbody tr th {\n",
              "        vertical-align: top;\n",
              "    }\n",
              "\n",
              "    .dataframe thead th {\n",
              "        text-align: right;\n",
              "    }\n",
              "</style>\n",
              "<table border=\"1\" class=\"dataframe\">\n",
              "  <thead>\n",
              "    <tr style=\"text-align: right;\">\n",
              "      <th></th>\n",
              "      <th>titulo</th>\n",
              "    </tr>\n",
              "  </thead>\n",
              "  <tbody>\n",
              "    <tr>\n",
              "      <th>0</th>\n",
              "      <td>polêmica marine le pen abomina negacionistas h...</td>\n",
              "    </tr>\n",
              "    <tr>\n",
              "      <th>1</th>\n",
              "      <td>macron le pen turno frança revés siglas tradic...</td>\n",
              "    </tr>\n",
              "    <tr>\n",
              "      <th>2</th>\n",
              "      <td>apesar larga vitória legislativas macron terá ...</td>\n",
              "    </tr>\n",
              "    <tr>\n",
              "      <th>3</th>\n",
              "      <td>governo antecipa balanço alckmin anuncia queda...</td>\n",
              "    </tr>\n",
              "    <tr>\n",
              "      <th>4</th>\n",
              "      <td>queda maio atividade econômica sobe junho bc</td>\n",
              "    </tr>\n",
              "  </tbody>\n",
              "</table>\n",
              "</div>"
            ],
            "text/plain": [
              "                                              titulo\n",
              "0  polêmica marine le pen abomina negacionistas h...\n",
              "1  macron le pen turno frança revés siglas tradic...\n",
              "2  apesar larga vitória legislativas macron terá ...\n",
              "3  governo antecipa balanço alckmin anuncia queda...\n",
              "4       queda maio atividade econômica sobe junho bc"
            ]
          },
          "metadata": {
            "tags": []
          },
          "execution_count": 17
        }
      ]
    },
    {
      "cell_type": "code",
      "metadata": {
        "id": "vtQT7usqTotV"
      },
      "source": [
        "from gensim.models import Word2Vec\n",
        "\n",
        "w2v_modelo = Word2Vec(sg = 0,\n",
        "                      window = 2,\n",
        "                      size = 300,\n",
        "                      min_count = 5,\n",
        "                      alpha = 0.03,\n",
        "                      min_alpha = 0.007)"
      ],
      "execution_count": 18,
      "outputs": []
    },
    {
      "cell_type": "code",
      "metadata": {
        "colab": {
          "base_uri": "https://localhost:8080/"
        },
        "id": "-23lVyxxWHbR",
        "outputId": "632419df-81d1-47da-d48f-d7b9ffc0b014"
      },
      "source": [
        "w2v_modelo"
      ],
      "execution_count": 19,
      "outputs": [
        {
          "output_type": "execute_result",
          "data": {
            "text/plain": [
              "<gensim.models.word2vec.Word2Vec at 0x7f53cdd1e290>"
            ]
          },
          "metadata": {
            "tags": []
          },
          "execution_count": 19
        }
      ]
    },
    {
      "cell_type": "code",
      "metadata": {
        "colab": {
          "base_uri": "https://localhost:8080/"
        },
        "id": "Tafm91wJXOC7",
        "outputId": "55c85970-f4fa-4009-9ccf-1044fad34219"
      },
      "source": [
        "print(len(titulos_tratados))\n",
        "\n",
        "#remove linhas vazias e duplicatas\n",
        "titulos_tratados = titulos_tratados.dropna().drop_duplicates()\n",
        "\n",
        "\n",
        "print(len(titulos_tratados))"
      ],
      "execution_count": 20,
      "outputs": [
        {
          "output_type": "stream",
          "text": [
            "90000\n",
            "84466\n"
          ],
          "name": "stdout"
        }
      ]
    },
    {
      "cell_type": "code",
      "metadata": {
        "id": "X7w_PiFmWz2N"
      },
      "source": [
        "lista_lista_tokens = [titulo.split(\" \") for titulo in titulos_tratados.titulo]"
      ],
      "execution_count": 21,
      "outputs": []
    },
    {
      "cell_type": "code",
      "metadata": {
        "colab": {
          "base_uri": "https://localhost:8080/"
        },
        "id": "REoXOn7kWMOd",
        "outputId": "dfcbf2eb-bca0-4494-8172-f2c2303d1818"
      },
      "source": [
        "import logging\n",
        "\n",
        "logging.basicConfig(format = \"%(asctime)s : - %(message)s\", level = logging.INFO)\n",
        "\n",
        "w2v_modelo = Word2Vec(sg = 0,\n",
        "                      window = 2,\n",
        "                      size = 300,\n",
        "                      min_count = 5,\n",
        "                      alpha = 0.03,\n",
        "                      min_alpha = 0.007)\n",
        "\n",
        "w2v_modelo.build_vocab(lista_lista_tokens, progress_per = 5000)"
      ],
      "execution_count": 22,
      "outputs": [
        {
          "output_type": "stream",
          "text": [
            "2021-05-25 00:31:13,463 : - collecting all words and their counts\n",
            "2021-05-25 00:31:13,468 : - PROGRESS: at sentence #0, processed 0 words, keeping 0 word types\n",
            "2021-05-25 00:31:13,485 : - PROGRESS: at sentence #5000, processed 31930 words, keeping 10193 word types\n",
            "2021-05-25 00:31:13,498 : - PROGRESS: at sentence #10000, processed 63848 words, keeping 14989 word types\n",
            "2021-05-25 00:31:13,511 : - PROGRESS: at sentence #15000, processed 95753 words, keeping 18279 word types\n",
            "2021-05-25 00:31:13,524 : - PROGRESS: at sentence #20000, processed 127689 words, keeping 21033 word types\n",
            "2021-05-25 00:31:13,551 : - PROGRESS: at sentence #25000, processed 159589 words, keeping 23491 word types\n",
            "2021-05-25 00:31:13,565 : - PROGRESS: at sentence #30000, processed 191554 words, keeping 25494 word types\n",
            "2021-05-25 00:31:13,585 : - PROGRESS: at sentence #35000, processed 223412 words, keeping 27330 word types\n",
            "2021-05-25 00:31:13,604 : - PROGRESS: at sentence #40000, processed 255282 words, keeping 29053 word types\n",
            "2021-05-25 00:31:13,621 : - PROGRESS: at sentence #45000, processed 287297 words, keeping 30606 word types\n",
            "2021-05-25 00:31:13,634 : - PROGRESS: at sentence #50000, processed 319258 words, keeping 31964 word types\n",
            "2021-05-25 00:31:13,653 : - PROGRESS: at sentence #55000, processed 351437 words, keeping 33270 word types\n",
            "2021-05-25 00:31:13,665 : - PROGRESS: at sentence #60000, processed 383579 words, keeping 34520 word types\n",
            "2021-05-25 00:31:13,681 : - PROGRESS: at sentence #65000, processed 415565 words, keeping 35643 word types\n",
            "2021-05-25 00:31:13,697 : - PROGRESS: at sentence #70000, processed 447646 words, keeping 36719 word types\n",
            "2021-05-25 00:31:13,711 : - PROGRESS: at sentence #75000, processed 479568 words, keeping 37802 word types\n",
            "2021-05-25 00:31:13,723 : - PROGRESS: at sentence #80000, processed 511645 words, keeping 38814 word types\n",
            "2021-05-25 00:31:13,736 : - collected 39693 word types from a corpus of 540242 raw words and 84466 sentences\n",
            "2021-05-25 00:31:13,738 : - Loading a fresh vocabulary\n",
            "2021-05-25 00:31:13,782 : - effective_min_count=5 retains 12924 unique words (32% of original 39693, drops 26769)\n",
            "2021-05-25 00:31:13,785 : - effective_min_count=5 leaves 495223 word corpus (91% of original 540242, drops 45019)\n",
            "2021-05-25 00:31:13,830 : - deleting the raw counts dictionary of 39693 items\n",
            "2021-05-25 00:31:13,832 : - sample=0.001 downsamples 8 most-common words\n",
            "2021-05-25 00:31:13,835 : - downsampling leaves estimated 486147 word corpus (98.2% of prior 495223)\n",
            "2021-05-25 00:31:13,891 : - estimated required memory for 12924 words and 300 dimensions: 37479600 bytes\n",
            "2021-05-25 00:31:13,892 : - resetting layer weights\n"
          ],
          "name": "stderr"
        }
      ]
    },
    {
      "cell_type": "code",
      "metadata": {
        "id": "_fjW6CmnXeof",
        "colab": {
          "base_uri": "https://localhost:8080/"
        },
        "outputId": "652dcb87-b28e-4d8d-a6be-8a883660218a"
      },
      "source": [
        "dir(w2v_modelo)"
      ],
      "execution_count": 23,
      "outputs": [
        {
          "output_type": "execute_result",
          "data": {
            "text/plain": [
              "['__class__',\n",
              " '__contains__',\n",
              " '__delattr__',\n",
              " '__dict__',\n",
              " '__dir__',\n",
              " '__doc__',\n",
              " '__eq__',\n",
              " '__format__',\n",
              " '__ge__',\n",
              " '__getattribute__',\n",
              " '__getitem__',\n",
              " '__gt__',\n",
              " '__hash__',\n",
              " '__init__',\n",
              " '__init_subclass__',\n",
              " '__le__',\n",
              " '__lt__',\n",
              " '__module__',\n",
              " '__ne__',\n",
              " '__new__',\n",
              " '__reduce__',\n",
              " '__reduce_ex__',\n",
              " '__repr__',\n",
              " '__setattr__',\n",
              " '__sizeof__',\n",
              " '__str__',\n",
              " '__subclasshook__',\n",
              " '__weakref__',\n",
              " '_adapt_by_suffix',\n",
              " '_check_input_data_sanity',\n",
              " '_check_training_sanity',\n",
              " '_clear_post_train',\n",
              " '_do_train_epoch',\n",
              " '_do_train_job',\n",
              " '_get_job_params',\n",
              " '_get_thread_working_mem',\n",
              " '_job_producer',\n",
              " '_load_specials',\n",
              " '_log_epoch_end',\n",
              " '_log_epoch_progress',\n",
              " '_log_progress',\n",
              " '_log_train_end',\n",
              " '_minimize_model',\n",
              " '_raw_word_count',\n",
              " '_save_specials',\n",
              " '_set_train_params',\n",
              " '_smart_save',\n",
              " '_train_epoch',\n",
              " '_train_epoch_corpusfile',\n",
              " '_update_job_params',\n",
              " '_worker_loop',\n",
              " '_worker_loop_corpusfile',\n",
              " 'accuracy',\n",
              " 'alpha',\n",
              " 'batch_words',\n",
              " 'build_vocab',\n",
              " 'build_vocab_from_freq',\n",
              " 'callbacks',\n",
              " 'cbow_mean',\n",
              " 'clear_sims',\n",
              " 'compute_loss',\n",
              " 'corpus_count',\n",
              " 'corpus_total_words',\n",
              " 'cum_table',\n",
              " 'delete_temporary_training_data',\n",
              " 'doesnt_match',\n",
              " 'epochs',\n",
              " 'estimate_memory',\n",
              " 'evaluate_word_pairs',\n",
              " 'get_latest_training_loss',\n",
              " 'hashfxn',\n",
              " 'hs',\n",
              " 'init_sims',\n",
              " 'intersect_word2vec_format',\n",
              " 'iter',\n",
              " 'layer1_size',\n",
              " 'load',\n",
              " 'load_word2vec_format',\n",
              " 'log_accuracy',\n",
              " 'max_final_vocab',\n",
              " 'min_alpha',\n",
              " 'min_alpha_yet_reached',\n",
              " 'min_count',\n",
              " 'model_trimmed_post_training',\n",
              " 'most_similar',\n",
              " 'most_similar_cosmul',\n",
              " 'n_similarity',\n",
              " 'negative',\n",
              " 'ns_exponent',\n",
              " 'predict_output_word',\n",
              " 'random',\n",
              " 'reset_from',\n",
              " 'running_training_loss',\n",
              " 'sample',\n",
              " 'save',\n",
              " 'save_word2vec_format',\n",
              " 'score',\n",
              " 'sg',\n",
              " 'similar_by_vector',\n",
              " 'similar_by_word',\n",
              " 'similarity',\n",
              " 'syn0_lockf',\n",
              " 'syn1',\n",
              " 'syn1neg',\n",
              " 'total_train_time',\n",
              " 'train',\n",
              " 'train_count',\n",
              " 'trainables',\n",
              " 'vector_size',\n",
              " 'vocabulary',\n",
              " 'window',\n",
              " 'wmdistance',\n",
              " 'workers',\n",
              " 'wv']"
            ]
          },
          "metadata": {
            "tags": []
          },
          "execution_count": 23
        }
      ]
    },
    {
      "cell_type": "code",
      "metadata": {
        "colab": {
          "base_uri": "https://localhost:8080/"
        },
        "id": "aKz9kUyS96lk",
        "outputId": "9622d5a3-cb1f-4f18-94ba-c018ea22c38e"
      },
      "source": [
        "w2v_modelo.corpus_count"
      ],
      "execution_count": 24,
      "outputs": [
        {
          "output_type": "execute_result",
          "data": {
            "text/plain": [
              "84466"
            ]
          },
          "metadata": {
            "tags": []
          },
          "execution_count": 24
        }
      ]
    },
    {
      "cell_type": "code",
      "metadata": {
        "colab": {
          "base_uri": "https://localhost:8080/"
        },
        "id": "8m6XGjMi9vhJ",
        "outputId": "228a8681-2358-408a-fc26-aecbe85584e2"
      },
      "source": [
        "w2v_modelo.train(lista_lista_tokens,\n",
        "                 total_examples = w2v_modelo.corpus_count,\n",
        "                 epochs = 30)"
      ],
      "execution_count": 25,
      "outputs": [
        {
          "output_type": "stream",
          "text": [
            "2021-05-25 00:42:18,567 : - training model with 3 workers on 12924 vocabulary and 300 features, using sg=0 hs=0 sample=0.001 negative=5 window=2\n",
            "2021-05-25 00:42:19,597 : - EPOCH 1 - PROGRESS: at 75.91% examples, 364518 words/s, in_qsize 5, out_qsize 0\n",
            "2021-05-25 00:42:19,823 : - worker thread finished; awaiting finish of 2 more threads\n",
            "2021-05-25 00:42:19,848 : - worker thread finished; awaiting finish of 1 more threads\n",
            "2021-05-25 00:42:19,858 : - worker thread finished; awaiting finish of 0 more threads\n",
            "2021-05-25 00:42:19,860 : - EPOCH - 1 : training on 540242 raw words (486050 effective words) took 1.3s, 381299 effective words/s\n",
            "2021-05-25 00:42:20,897 : - EPOCH 2 - PROGRESS: at 75.89% examples, 360031 words/s, in_qsize 5, out_qsize 0\n",
            "2021-05-25 00:42:21,152 : - worker thread finished; awaiting finish of 2 more threads\n",
            "2021-05-25 00:42:21,157 : - worker thread finished; awaiting finish of 1 more threads\n",
            "2021-05-25 00:42:21,170 : - worker thread finished; awaiting finish of 0 more threads\n",
            "2021-05-25 00:42:21,171 : - EPOCH - 2 : training on 540242 raw words (486184 effective words) took 1.3s, 374573 effective words/s\n",
            "2021-05-25 00:42:22,207 : - EPOCH 3 - PROGRESS: at 75.90% examples, 360781 words/s, in_qsize 4, out_qsize 1\n",
            "2021-05-25 00:42:22,439 : - worker thread finished; awaiting finish of 2 more threads\n",
            "2021-05-25 00:42:22,457 : - worker thread finished; awaiting finish of 1 more threads\n",
            "2021-05-25 00:42:22,472 : - worker thread finished; awaiting finish of 0 more threads\n",
            "2021-05-25 00:42:22,474 : - EPOCH - 3 : training on 540242 raw words (486142 effective words) took 1.3s, 376837 effective words/s\n",
            "2021-05-25 00:42:23,491 : - EPOCH 4 - PROGRESS: at 75.91% examples, 367019 words/s, in_qsize 6, out_qsize 0\n",
            "2021-05-25 00:42:23,755 : - worker thread finished; awaiting finish of 2 more threads\n",
            "2021-05-25 00:42:23,771 : - worker thread finished; awaiting finish of 1 more threads\n",
            "2021-05-25 00:42:23,785 : - worker thread finished; awaiting finish of 0 more threads\n",
            "2021-05-25 00:42:23,787 : - EPOCH - 4 : training on 540242 raw words (486027 effective words) took 1.3s, 373624 effective words/s\n",
            "2021-05-25 00:42:24,806 : - EPOCH 5 - PROGRESS: at 74.06% examples, 357704 words/s, in_qsize 4, out_qsize 1\n",
            "2021-05-25 00:42:25,059 : - worker thread finished; awaiting finish of 2 more threads\n",
            "2021-05-25 00:42:25,080 : - worker thread finished; awaiting finish of 1 more threads\n",
            "2021-05-25 00:42:25,082 : - worker thread finished; awaiting finish of 0 more threads\n",
            "2021-05-25 00:42:25,086 : - EPOCH - 5 : training on 540242 raw words (486262 effective words) took 1.3s, 378182 effective words/s\n",
            "2021-05-25 00:42:26,117 : - EPOCH 6 - PROGRESS: at 77.75% examples, 372039 words/s, in_qsize 5, out_qsize 0\n",
            "2021-05-25 00:42:26,335 : - worker thread finished; awaiting finish of 2 more threads\n",
            "2021-05-25 00:42:26,348 : - worker thread finished; awaiting finish of 1 more threads\n",
            "2021-05-25 00:42:26,364 : - worker thread finished; awaiting finish of 0 more threads\n",
            "2021-05-25 00:42:26,365 : - EPOCH - 6 : training on 540242 raw words (486024 effective words) took 1.3s, 384597 effective words/s\n",
            "2021-05-25 00:42:27,408 : - EPOCH 7 - PROGRESS: at 77.75% examples, 366468 words/s, in_qsize 4, out_qsize 1\n",
            "2021-05-25 00:42:27,635 : - worker thread finished; awaiting finish of 2 more threads\n",
            "2021-05-25 00:42:27,644 : - worker thread finished; awaiting finish of 1 more threads\n",
            "2021-05-25 00:42:27,654 : - worker thread finished; awaiting finish of 0 more threads\n",
            "2021-05-25 00:42:27,655 : - EPOCH - 7 : training on 540242 raw words (486160 effective words) took 1.3s, 380239 effective words/s\n",
            "2021-05-25 00:42:28,671 : - EPOCH 8 - PROGRESS: at 75.91% examples, 368307 words/s, in_qsize 5, out_qsize 0\n",
            "2021-05-25 00:42:28,897 : - worker thread finished; awaiting finish of 2 more threads\n",
            "2021-05-25 00:42:28,932 : - worker thread finished; awaiting finish of 1 more threads\n",
            "2021-05-25 00:42:28,941 : - worker thread finished; awaiting finish of 0 more threads\n",
            "2021-05-25 00:42:28,942 : - EPOCH - 8 : training on 540242 raw words (486082 effective words) took 1.3s, 382075 effective words/s\n",
            "2021-05-25 00:42:29,967 : - EPOCH 9 - PROGRESS: at 75.91% examples, 364017 words/s, in_qsize 6, out_qsize 0\n",
            "2021-05-25 00:42:30,220 : - worker thread finished; awaiting finish of 2 more threads\n",
            "2021-05-25 00:42:30,230 : - worker thread finished; awaiting finish of 1 more threads\n",
            "2021-05-25 00:42:30,245 : - worker thread finished; awaiting finish of 0 more threads\n",
            "2021-05-25 00:42:30,246 : - EPOCH - 9 : training on 540242 raw words (486278 effective words) took 1.3s, 376311 effective words/s\n",
            "2021-05-25 00:42:31,268 : - EPOCH 10 - PROGRESS: at 75.90% examples, 365319 words/s, in_qsize 4, out_qsize 1\n",
            "2021-05-25 00:42:31,506 : - worker thread finished; awaiting finish of 2 more threads\n",
            "2021-05-25 00:42:31,511 : - worker thread finished; awaiting finish of 1 more threads\n",
            "2021-05-25 00:42:31,529 : - worker thread finished; awaiting finish of 0 more threads\n",
            "2021-05-25 00:42:31,530 : - EPOCH - 10 : training on 540242 raw words (486179 effective words) took 1.3s, 382324 effective words/s\n",
            "2021-05-25 00:42:32,544 : - EPOCH 11 - PROGRESS: at 75.91% examples, 368609 words/s, in_qsize 5, out_qsize 0\n",
            "2021-05-25 00:42:32,791 : - worker thread finished; awaiting finish of 2 more threads\n",
            "2021-05-25 00:42:32,803 : - worker thread finished; awaiting finish of 1 more threads\n",
            "2021-05-25 00:42:32,826 : - worker thread finished; awaiting finish of 0 more threads\n",
            "2021-05-25 00:42:32,828 : - EPOCH - 11 : training on 540242 raw words (486156 effective words) took 1.3s, 378428 effective words/s\n",
            "2021-05-25 00:42:33,853 : - EPOCH 12 - PROGRESS: at 75.90% examples, 364305 words/s, in_qsize 4, out_qsize 1\n",
            "2021-05-25 00:42:34,094 : - worker thread finished; awaiting finish of 2 more threads\n",
            "2021-05-25 00:42:34,101 : - worker thread finished; awaiting finish of 1 more threads\n",
            "2021-05-25 00:42:34,109 : - worker thread finished; awaiting finish of 0 more threads\n",
            "2021-05-25 00:42:34,111 : - EPOCH - 12 : training on 540242 raw words (486094 effective words) took 1.3s, 382673 effective words/s\n",
            "2021-05-25 00:42:35,130 : - EPOCH 13 - PROGRESS: at 74.06% examples, 359171 words/s, in_qsize 5, out_qsize 0\n",
            "2021-05-25 00:42:35,387 : - worker thread finished; awaiting finish of 2 more threads\n",
            "2021-05-25 00:42:35,409 : - worker thread finished; awaiting finish of 1 more threads\n",
            "2021-05-25 00:42:35,425 : - worker thread finished; awaiting finish of 0 more threads\n",
            "2021-05-25 00:42:35,426 : - EPOCH - 13 : training on 540242 raw words (486178 effective words) took 1.3s, 374407 effective words/s\n",
            "2021-05-25 00:42:36,443 : - EPOCH 14 - PROGRESS: at 77.75% examples, 377174 words/s, in_qsize 5, out_qsize 0\n",
            "2021-05-25 00:42:36,675 : - worker thread finished; awaiting finish of 2 more threads\n",
            "2021-05-25 00:42:36,682 : - worker thread finished; awaiting finish of 1 more threads\n",
            "2021-05-25 00:42:36,696 : - worker thread finished; awaiting finish of 0 more threads\n",
            "2021-05-25 00:42:36,698 : - EPOCH - 14 : training on 540242 raw words (486122 effective words) took 1.3s, 386900 effective words/s\n",
            "2021-05-25 00:42:37,757 : - EPOCH 15 - PROGRESS: at 79.59% examples, 370618 words/s, in_qsize 5, out_qsize 0\n",
            "2021-05-25 00:42:37,945 : - worker thread finished; awaiting finish of 2 more threads\n",
            "2021-05-25 00:42:37,954 : - worker thread finished; awaiting finish of 1 more threads\n",
            "2021-05-25 00:42:37,977 : - worker thread finished; awaiting finish of 0 more threads\n",
            "2021-05-25 00:42:37,978 : - EPOCH - 15 : training on 540242 raw words (486170 effective words) took 1.3s, 384282 effective words/s\n",
            "2021-05-25 00:42:39,011 : - EPOCH 16 - PROGRESS: at 77.76% examples, 372715 words/s, in_qsize 4, out_qsize 1\n",
            "2021-05-25 00:42:39,220 : - worker thread finished; awaiting finish of 2 more threads\n",
            "2021-05-25 00:42:39,235 : - worker thread finished; awaiting finish of 1 more threads\n",
            "2021-05-25 00:42:39,258 : - worker thread finished; awaiting finish of 0 more threads\n",
            "2021-05-25 00:42:39,260 : - EPOCH - 16 : training on 540242 raw words (486101 effective words) took 1.3s, 384788 effective words/s\n",
            "2021-05-25 00:42:40,288 : - EPOCH 17 - PROGRESS: at 77.76% examples, 371926 words/s, in_qsize 5, out_qsize 0\n",
            "2021-05-25 00:42:40,510 : - worker thread finished; awaiting finish of 2 more threads\n",
            "2021-05-25 00:42:40,522 : - worker thread finished; awaiting finish of 1 more threads\n",
            "2021-05-25 00:42:40,530 : - worker thread finished; awaiting finish of 0 more threads\n",
            "2021-05-25 00:42:40,532 : - EPOCH - 17 : training on 540242 raw words (486163 effective words) took 1.3s, 385743 effective words/s\n",
            "2021-05-25 00:42:41,577 : - EPOCH 18 - PROGRESS: at 79.60% examples, 374547 words/s, in_qsize 5, out_qsize 0\n",
            "2021-05-25 00:42:41,764 : - worker thread finished; awaiting finish of 2 more threads\n",
            "2021-05-25 00:42:41,770 : - worker thread finished; awaiting finish of 1 more threads\n",
            "2021-05-25 00:42:41,800 : - worker thread finished; awaiting finish of 0 more threads\n",
            "2021-05-25 00:42:41,802 : - EPOCH - 18 : training on 540242 raw words (486206 effective words) took 1.3s, 386568 effective words/s\n",
            "2021-05-25 00:42:42,819 : - EPOCH 19 - PROGRESS: at 75.91% examples, 367013 words/s, in_qsize 5, out_qsize 0\n",
            "2021-05-25 00:42:43,047 : - worker thread finished; awaiting finish of 2 more threads\n",
            "2021-05-25 00:42:43,076 : - worker thread finished; awaiting finish of 1 more threads\n",
            "2021-05-25 00:42:43,083 : - worker thread finished; awaiting finish of 0 more threads\n",
            "2021-05-25 00:42:43,084 : - EPOCH - 19 : training on 540242 raw words (486237 effective words) took 1.3s, 382705 effective words/s\n",
            "2021-05-25 00:42:44,109 : - EPOCH 20 - PROGRESS: at 77.75% examples, 373421 words/s, in_qsize 5, out_qsize 0\n",
            "2021-05-25 00:42:44,322 : - worker thread finished; awaiting finish of 2 more threads\n",
            "2021-05-25 00:42:44,333 : - worker thread finished; awaiting finish of 1 more threads\n",
            "2021-05-25 00:42:44,348 : - worker thread finished; awaiting finish of 0 more threads\n",
            "2021-05-25 00:42:44,349 : - EPOCH - 20 : training on 540242 raw words (486196 effective words) took 1.3s, 388314 effective words/s\n",
            "2021-05-25 00:42:45,396 : - EPOCH 21 - PROGRESS: at 77.75% examples, 366922 words/s, in_qsize 5, out_qsize 0\n",
            "2021-05-25 00:42:45,606 : - worker thread finished; awaiting finish of 2 more threads\n",
            "2021-05-25 00:42:45,620 : - worker thread finished; awaiting finish of 1 more threads\n",
            "2021-05-25 00:42:45,624 : - worker thread finished; awaiting finish of 0 more threads\n",
            "2021-05-25 00:42:45,626 : - EPOCH - 21 : training on 540242 raw words (486211 effective words) took 1.3s, 385684 effective words/s\n",
            "2021-05-25 00:42:46,674 : - EPOCH 22 - PROGRESS: at 79.60% examples, 373472 words/s, in_qsize 5, out_qsize 0\n",
            "2021-05-25 00:42:46,869 : - worker thread finished; awaiting finish of 2 more threads\n",
            "2021-05-25 00:42:46,876 : - worker thread finished; awaiting finish of 1 more threads\n",
            "2021-05-25 00:42:46,877 : - worker thread finished; awaiting finish of 0 more threads\n",
            "2021-05-25 00:42:46,881 : - EPOCH - 22 : training on 540242 raw words (486185 effective words) took 1.2s, 391450 effective words/s\n",
            "2021-05-25 00:42:47,900 : - EPOCH 23 - PROGRESS: at 75.89% examples, 367220 words/s, in_qsize 5, out_qsize 0\n",
            "2021-05-25 00:42:48,130 : - worker thread finished; awaiting finish of 2 more threads\n",
            "2021-05-25 00:42:48,166 : - worker thread finished; awaiting finish of 1 more threads\n",
            "2021-05-25 00:42:48,171 : - worker thread finished; awaiting finish of 0 more threads\n",
            "2021-05-25 00:42:48,172 : - EPOCH - 23 : training on 540242 raw words (486272 effective words) took 1.3s, 380794 effective words/s\n",
            "2021-05-25 00:42:49,183 : - EPOCH 24 - PROGRESS: at 77.75% examples, 377866 words/s, in_qsize 5, out_qsize 0\n",
            "2021-05-25 00:42:49,383 : - worker thread finished; awaiting finish of 2 more threads\n",
            "2021-05-25 00:42:49,419 : - worker thread finished; awaiting finish of 1 more threads\n",
            "2021-05-25 00:42:49,426 : - worker thread finished; awaiting finish of 0 more threads\n",
            "2021-05-25 00:42:49,427 : - EPOCH - 24 : training on 540242 raw words (486214 effective words) took 1.2s, 390900 effective words/s\n",
            "2021-05-25 00:42:50,445 : - EPOCH 25 - PROGRESS: at 77.75% examples, 376518 words/s, in_qsize 5, out_qsize 0\n",
            "2021-05-25 00:42:50,642 : - worker thread finished; awaiting finish of 2 more threads\n",
            "2021-05-25 00:42:50,659 : - worker thread finished; awaiting finish of 1 more threads\n",
            "2021-05-25 00:42:50,682 : - worker thread finished; awaiting finish of 0 more threads\n",
            "2021-05-25 00:42:50,683 : - EPOCH - 25 : training on 540242 raw words (486183 effective words) took 1.2s, 391462 effective words/s\n",
            "2021-05-25 00:42:51,739 : - EPOCH 26 - PROGRESS: at 83.29% examples, 388670 words/s, in_qsize 5, out_qsize 0\n",
            "2021-05-25 00:42:51,865 : - worker thread finished; awaiting finish of 2 more threads\n",
            "2021-05-25 00:42:51,899 : - worker thread finished; awaiting finish of 1 more threads\n",
            "2021-05-25 00:42:51,907 : - worker thread finished; awaiting finish of 0 more threads\n",
            "2021-05-25 00:42:51,908 : - EPOCH - 26 : training on 540242 raw words (486102 effective words) took 1.2s, 401723 effective words/s\n",
            "2021-05-25 00:42:52,934 : - EPOCH 27 - PROGRESS: at 79.59% examples, 381390 words/s, in_qsize 5, out_qsize 0\n",
            "2021-05-25 00:42:53,141 : - worker thread finished; awaiting finish of 2 more threads\n",
            "2021-05-25 00:42:53,146 : - worker thread finished; awaiting finish of 1 more threads\n",
            "2021-05-25 00:42:53,152 : - worker thread finished; awaiting finish of 0 more threads\n",
            "2021-05-25 00:42:53,153 : - EPOCH - 27 : training on 540242 raw words (486117 effective words) took 1.2s, 394199 effective words/s\n",
            "2021-05-25 00:42:54,177 : - EPOCH 28 - PROGRESS: at 79.60% examples, 382184 words/s, in_qsize 5, out_qsize 0\n",
            "2021-05-25 00:42:54,355 : - worker thread finished; awaiting finish of 2 more threads\n",
            "2021-05-25 00:42:54,382 : - worker thread finished; awaiting finish of 1 more threads\n",
            "2021-05-25 00:42:54,384 : - worker thread finished; awaiting finish of 0 more threads\n",
            "2021-05-25 00:42:54,388 : - EPOCH - 28 : training on 540242 raw words (486111 effective words) took 1.2s, 397402 effective words/s\n",
            "2021-05-25 00:42:55,401 : - EPOCH 29 - PROGRESS: at 77.75% examples, 377555 words/s, in_qsize 5, out_qsize 0\n",
            "2021-05-25 00:42:55,601 : - worker thread finished; awaiting finish of 2 more threads\n",
            "2021-05-25 00:42:55,629 : - worker thread finished; awaiting finish of 1 more threads\n",
            "2021-05-25 00:42:55,639 : - worker thread finished; awaiting finish of 0 more threads\n",
            "2021-05-25 00:42:55,641 : - EPOCH - 29 : training on 540242 raw words (486098 effective words) took 1.2s, 392075 effective words/s\n",
            "2021-05-25 00:42:56,714 : - EPOCH 30 - PROGRESS: at 83.29% examples, 391222 words/s, in_qsize 5, out_qsize 0\n",
            "2021-05-25 00:42:56,852 : - worker thread finished; awaiting finish of 2 more threads\n",
            "2021-05-25 00:42:56,867 : - worker thread finished; awaiting finish of 1 more threads\n",
            "2021-05-25 00:42:56,887 : - worker thread finished; awaiting finish of 0 more threads\n",
            "2021-05-25 00:42:56,888 : - EPOCH - 30 : training on 540242 raw words (486184 effective words) took 1.2s, 402156 effective words/s\n",
            "2021-05-25 00:42:56,889 : - training on a 16207260 raw words (14584688 effective words) took 38.3s, 380605 effective words/s\n"
          ],
          "name": "stderr"
        },
        {
          "output_type": "execute_result",
          "data": {
            "text/plain": [
              "(14584688, 16207260)"
            ]
          },
          "metadata": {
            "tags": []
          },
          "execution_count": 25
        }
      ]
    },
    {
      "cell_type": "code",
      "metadata": {
        "colab": {
          "base_uri": "https://localhost:8080/"
        },
        "id": "2ReqDQ3H-Oti",
        "outputId": "c7acc023-2900-48c3-edcf-e17088118e9c"
      },
      "source": [
        "w2v_modelo.wv.most_similar(\"google\")"
      ],
      "execution_count": 26,
      "outputs": [
        {
          "output_type": "stream",
          "text": [
            "2021-05-25 01:38:31,782 : - precomputing L2-norms of word weight vectors\n"
          ],
          "name": "stderr"
        },
        {
          "output_type": "execute_result",
          "data": {
            "text/plain": [
              "[('apple', 0.598658561706543),\n",
              " ('facebook', 0.5272059440612793),\n",
              " ('amazon', 0.4954209625720978),\n",
              " ('airbnb', 0.48870229721069336),\n",
              " ('volkswagen', 0.4854331910610199),\n",
              " ('news', 0.4832106828689575),\n",
              " ('uber', 0.4819335639476776),\n",
              " ('sony', 0.46625828742980957),\n",
              " ('waze', 0.4616653323173523),\n",
              " ('unilever', 0.45819926261901855)]"
            ]
          },
          "metadata": {
            "tags": []
          },
          "execution_count": 26
        }
      ]
    },
    {
      "cell_type": "code",
      "metadata": {
        "colab": {
          "base_uri": "https://localhost:8080/"
        },
        "id": "-swztm6BLGPz",
        "outputId": "6f2428b0-e4e7-4fa8-9cac-25186d9cfdd9"
      },
      "source": [
        "w2v_modelo.wv.most_similar(\"microsoft\")"
      ],
      "execution_count": 27,
      "outputs": [
        {
          "output_type": "execute_result",
          "data": {
            "text/plain": [
              "[('amazon', 0.5997347235679626),\n",
              " ('unilever', 0.5798365473747253),\n",
              " ('braskem', 0.5588997006416321),\n",
              " ('walmart', 0.5529378652572632),\n",
              " ('sony', 0.5498615503311157),\n",
              " ('viajante', 0.5369336605072021),\n",
              " ('sky', 0.5346963405609131),\n",
              " ('syngenta', 0.5277466177940369),\n",
              " ('canais', 0.5231195688247681),\n",
              " ('tesla', 0.5121949911117554)]"
            ]
          },
          "metadata": {
            "tags": []
          },
          "execution_count": 27
        }
      ]
    },
    {
      "cell_type": "code",
      "metadata": {
        "colab": {
          "base_uri": "https://localhost:8080/"
        },
        "id": "dO2eaVZ_L_zF",
        "outputId": "8cef1e05-c98d-438d-ac72-d08a253e71ec"
      },
      "source": [
        "w2v_modelo.wv.most_similar(\"barcelona\")"
      ],
      "execution_count": 28,
      "outputs": [
        {
          "output_type": "execute_result",
          "data": {
            "text/plain": [
              "[('chelsea', 0.5751048922538757),\n",
              " ('psg', 0.5703339576721191),\n",
              " ('bayern', 0.5523822903633118),\n",
              " ('barça', 0.5522127151489258),\n",
              " ('madrid', 0.5458300113677979),\n",
              " ('united', 0.5323536396026611),\n",
              " ('liverpool', 0.5313073396682739),\n",
              " ('leicester', 0.5301303863525391),\n",
              " ('figueirense', 0.5280592441558838),\n",
              " ('lazio', 0.5260719060897827)]"
            ]
          },
          "metadata": {
            "tags": []
          },
          "execution_count": 28
        }
      ]
    },
    {
      "cell_type": "code",
      "metadata": {
        "colab": {
          "base_uri": "https://localhost:8080/"
        },
        "id": "6JCQz5HFOqiI",
        "outputId": "7030bc6f-6d88-4f30-df11-062e76a63083"
      },
      "source": [
        "w2v_modelo.wv.most_similar(\"messi\")"
      ],
      "execution_count": 29,
      "outputs": [
        {
          "output_type": "execute_result",
          "data": {
            "text/plain": [
              "[('suárez', 0.6211819648742676),\n",
              " ('chuteiras', 0.5589473247528076),\n",
              " ('cristiano', 0.5574802160263062),\n",
              " ('cavani', 0.5408544540405273),\n",
              " ('tevez', 0.5339971780776978),\n",
              " ('benzema', 0.5178270936012268),\n",
              " ('barça', 0.5162844061851501),\n",
              " ('enrique', 0.4953845143318176),\n",
              " ('neymar', 0.49340200424194336),\n",
              " ('maradona', 0.4892093539237976)]"
            ]
          },
          "metadata": {
            "tags": []
          },
          "execution_count": 29
        }
      ]
    },
    {
      "cell_type": "code",
      "metadata": {
        "colab": {
          "base_uri": "https://localhost:8080/"
        },
        "id": "-4KPK3XtOsIh",
        "outputId": "204bf214-fdb7-422a-ca3a-4e5024e4545a"
      },
      "source": [
        "w2v_modelo.wv.most_similar(\"gm\")"
      ],
      "execution_count": 30,
      "outputs": [
        {
          "output_type": "execute_result",
          "data": {
            "text/plain": [
              "[('chrysler', 0.6901339292526245),\n",
              " ('embraer', 0.6884835362434387),\n",
              " ('braskem', 0.6504374742507935),\n",
              " ('volks', 0.6275157928466797),\n",
              " ('honda', 0.6250476837158203),\n",
              " ('toyota', 0.6172335147857666),\n",
              " ('tesla', 0.6045554876327515),\n",
              " ('renault', 0.6019725203514099),\n",
              " ('volkswagen', 0.598334550857544),\n",
              " ('sony', 0.5905433297157288)]"
            ]
          },
          "metadata": {
            "tags": []
          },
          "execution_count": 30
        }
      ]
    },
    {
      "cell_type": "code",
      "metadata": {
        "id": "SuPvffiTOv8g"
      },
      "source": [
        ""
      ],
      "execution_count": null,
      "outputs": []
    }
  ]
}