{
  "nbformat": 4,
  "nbformat_minor": 0,
  "metadata": {
    "colab": {
      "name": "word2vec_treinamento.ipynb",
      "provenance": [],
      "collapsed_sections": [],
      "mount_file_id": "1lGrrKTCzH4Lss8Wdx7dq3k_7VSrlNRaV",
      "authorship_tag": "ABX9TyMd3QxPw0bYbJXiJ2qqSR3o",
      "include_colab_link": true
    },
    "kernelspec": {
      "name": "python3",
      "display_name": "Python 3"
    },
    "language_info": {
      "name": "python"
    }
  },
  "cells": [
    {
      "cell_type": "markdown",
      "metadata": {
        "id": "view-in-github",
        "colab_type": "text"
      },
      "source": [
        "<a href=\"https://colab.research.google.com/github/vicpb/word2vec-treina-word-emb-alura/blob/main/word2vec_treinamento.ipynb\" target=\"_parent\"><img src=\"https://colab.research.google.com/assets/colab-badge.svg\" alt=\"Open In Colab\"/></a>"
      ]
    },
    {
      "cell_type": "code",
      "metadata": {
        "id": "2LS7NDmV9HXY"
      },
      "source": [
        "import pandas as pd\n",
        "import spacy"
      ],
      "execution_count": 1,
      "outputs": []
    },
    {
      "cell_type": "code",
      "metadata": {
        "colab": {
          "base_uri": "https://localhost:8080/",
          "height": 204
        },
        "id": "rwzywmVk9LBU",
        "outputId": "40d02e4c-68a8-45bd-803e-8dc0edff81bf"
      },
      "source": [
        "dados_treino = pd.read_csv(\"/content/drive/MyDrive/Colab Notebooks/treino.csv\")\n",
        "dados_treino.sample(5)"
      ],
      "execution_count": 2,
      "outputs": [
        {
          "output_type": "execute_result",
          "data": {
            "text/html": [
              "<div>\n",
              "<style scoped>\n",
              "    .dataframe tbody tr th:only-of-type {\n",
              "        vertical-align: middle;\n",
              "    }\n",
              "\n",
              "    .dataframe tbody tr th {\n",
              "        vertical-align: top;\n",
              "    }\n",
              "\n",
              "    .dataframe thead th {\n",
              "        text-align: right;\n",
              "    }\n",
              "</style>\n",
              "<table border=\"1\" class=\"dataframe\">\n",
              "  <thead>\n",
              "    <tr style=\"text-align: right;\">\n",
              "      <th></th>\n",
              "      <th>title</th>\n",
              "      <th>text</th>\n",
              "      <th>date</th>\n",
              "      <th>category</th>\n",
              "      <th>subcategory</th>\n",
              "      <th>link</th>\n",
              "    </tr>\n",
              "  </thead>\n",
              "  <tbody>\n",
              "    <tr>\n",
              "      <th>89629</th>\n",
              "      <td>Terminal do Paraná é vendido para operadora ch...</td>\n",
              "      <td>A operadora chinesa de terminais de contêinere...</td>\n",
              "      <td>2017-03-09</td>\n",
              "      <td>mercado</td>\n",
              "      <td>NaN</td>\n",
              "      <td>http://www1.folha.uol.com.br/mercado/2017/09/1...</td>\n",
              "    </tr>\n",
              "    <tr>\n",
              "      <th>52709</th>\n",
              "      <td>Agente aconselha pai de Neymar a colocar 'gran...</td>\n",
              "      <td>O agente de Neymar, o empresário Wagner Ribeir...</td>\n",
              "      <td>2015-09-28</td>\n",
              "      <td>esporte</td>\n",
              "      <td>NaN</td>\n",
              "      <td>http://www1.folha.uol.com.br/esporte/2015/09/1...</td>\n",
              "    </tr>\n",
              "    <tr>\n",
              "      <th>45228</th>\n",
              "      <td>Uma Paris todos os dias</td>\n",
              "      <td>Em \"Cadernos de Política Exterior\", publicação...</td>\n",
              "      <td>2015-11-29</td>\n",
              "      <td>colunas</td>\n",
              "      <td>clovisrossi</td>\n",
              "      <td>http://www1.folha.uol.com.br/colunas/clovisros...</td>\n",
              "    </tr>\n",
              "    <tr>\n",
              "      <th>13253</th>\n",
              "      <td>Escritores rejeitam nacionalidade e abraçam li...</td>\n",
              "      <td>Quando Dany Laferrière tomou posse na Academia...</td>\n",
              "      <td>2015-04-07</td>\n",
              "      <td>ilustrada</td>\n",
              "      <td>NaN</td>\n",
              "      <td>http://www1.folha.uol.com.br/ilustrada/2015/07...</td>\n",
              "    </tr>\n",
              "    <tr>\n",
              "      <th>73902</th>\n",
              "      <td>\\n\\t\\tCom 120 atletas no país, pentatlo modern...</td>\n",
              "      <td>PAULO ROBERTO CONDE ENVIADO ESPECIAL AO RIO  O...</td>\n",
              "      <td>2016-05-08</td>\n",
              "      <td>esporte</td>\n",
              "      <td>olimpiada-no-rio</td>\n",
              "      <td>http://www1.folha.uol.com.br/esporte/olimpiada...</td>\n",
              "    </tr>\n",
              "  </tbody>\n",
              "</table>\n",
              "</div>"
            ],
            "text/plain": [
              "                                                   title  ...                                               link\n",
              "89629  Terminal do Paraná é vendido para operadora ch...  ...  http://www1.folha.uol.com.br/mercado/2017/09/1...\n",
              "52709  Agente aconselha pai de Neymar a colocar 'gran...  ...  http://www1.folha.uol.com.br/esporte/2015/09/1...\n",
              "45228                            Uma Paris todos os dias  ...  http://www1.folha.uol.com.br/colunas/clovisros...\n",
              "13253  Escritores rejeitam nacionalidade e abraçam li...  ...  http://www1.folha.uol.com.br/ilustrada/2015/07...\n",
              "73902  \\n\\t\\tCom 120 atletas no país, pentatlo modern...  ...  http://www1.folha.uol.com.br/esporte/olimpiada...\n",
              "\n",
              "[5 rows x 6 columns]"
            ]
          },
          "metadata": {
            "tags": []
          },
          "execution_count": 2
        }
      ]
    },
    {
      "cell_type": "code",
      "metadata": {
        "id": "Vm6FuxRkE-jY"
      },
      "source": [
        "#!pip install -U spacy"
      ],
      "execution_count": 3,
      "outputs": []
    },
    {
      "cell_type": "code",
      "metadata": {
        "id": "vur9dTCkFlII",
        "colab": {
          "base_uri": "https://localhost:8080/"
        },
        "outputId": "2e77f664-36a8-416c-da91-9a3894f10872"
      },
      "source": [
        "!python -m spacy download pt_core_news_sm"
      ],
      "execution_count": 4,
      "outputs": [
        {
          "output_type": "stream",
          "text": [
            "2021-05-25 02:43:13.637774: I tensorflow/stream_executor/platform/default/dso_loader.cc:49] Successfully opened dynamic library libcudart.so.11.0\n",
            "Requirement already satisfied: pt-core-news-sm==3.0.0 from https://github.com/explosion/spacy-models/releases/download/pt_core_news_sm-3.0.0/pt_core_news_sm-3.0.0-py3-none-any.whl#egg=pt_core_news_sm==3.0.0 in /usr/local/lib/python3.7/dist-packages (3.0.0)\n",
            "Requirement already satisfied: spacy<3.1.0,>=3.0.0 in /usr/local/lib/python3.7/dist-packages (from pt-core-news-sm==3.0.0) (3.0.6)\n",
            "Requirement already satisfied: packaging>=20.0 in /usr/local/lib/python3.7/dist-packages (from spacy<3.1.0,>=3.0.0->pt-core-news-sm==3.0.0) (20.9)\n",
            "Requirement already satisfied: spacy-legacy<3.1.0,>=3.0.4 in /usr/local/lib/python3.7/dist-packages (from spacy<3.1.0,>=3.0.0->pt-core-news-sm==3.0.0) (3.0.5)\n",
            "Requirement already satisfied: pathy>=0.3.5 in /usr/local/lib/python3.7/dist-packages (from spacy<3.1.0,>=3.0.0->pt-core-news-sm==3.0.0) (0.5.2)\n",
            "Requirement already satisfied: typer<0.4.0,>=0.3.0 in /usr/local/lib/python3.7/dist-packages (from spacy<3.1.0,>=3.0.0->pt-core-news-sm==3.0.0) (0.3.2)\n",
            "Requirement already satisfied: catalogue<2.1.0,>=2.0.3 in /usr/local/lib/python3.7/dist-packages (from spacy<3.1.0,>=3.0.0->pt-core-news-sm==3.0.0) (2.0.4)\n",
            "Requirement already satisfied: preshed<3.1.0,>=3.0.2 in /usr/local/lib/python3.7/dist-packages (from spacy<3.1.0,>=3.0.0->pt-core-news-sm==3.0.0) (3.0.5)\n",
            "Requirement already satisfied: wasabi<1.1.0,>=0.8.1 in /usr/local/lib/python3.7/dist-packages (from spacy<3.1.0,>=3.0.0->pt-core-news-sm==3.0.0) (0.8.2)\n",
            "Requirement already satisfied: pydantic<1.8.0,>=1.7.1 in /usr/local/lib/python3.7/dist-packages (from spacy<3.1.0,>=3.0.0->pt-core-news-sm==3.0.0) (1.7.4)\n",
            "Requirement already satisfied: setuptools in /usr/local/lib/python3.7/dist-packages (from spacy<3.1.0,>=3.0.0->pt-core-news-sm==3.0.0) (56.1.0)\n",
            "Requirement already satisfied: cymem<2.1.0,>=2.0.2 in /usr/local/lib/python3.7/dist-packages (from spacy<3.1.0,>=3.0.0->pt-core-news-sm==3.0.0) (2.0.5)\n",
            "Requirement already satisfied: thinc<8.1.0,>=8.0.3 in /usr/local/lib/python3.7/dist-packages (from spacy<3.1.0,>=3.0.0->pt-core-news-sm==3.0.0) (8.0.3)\n",
            "Requirement already satisfied: murmurhash<1.1.0,>=0.28.0 in /usr/local/lib/python3.7/dist-packages (from spacy<3.1.0,>=3.0.0->pt-core-news-sm==3.0.0) (1.0.5)\n",
            "Requirement already satisfied: numpy>=1.15.0 in /usr/local/lib/python3.7/dist-packages (from spacy<3.1.0,>=3.0.0->pt-core-news-sm==3.0.0) (1.19.5)\n",
            "Requirement already satisfied: tqdm<5.0.0,>=4.38.0 in /usr/local/lib/python3.7/dist-packages (from spacy<3.1.0,>=3.0.0->pt-core-news-sm==3.0.0) (4.41.1)\n",
            "Requirement already satisfied: typing-extensions<4.0.0.0,>=3.7.4; python_version < \"3.8\" in /usr/local/lib/python3.7/dist-packages (from spacy<3.1.0,>=3.0.0->pt-core-news-sm==3.0.0) (3.7.4.3)\n",
            "Requirement already satisfied: blis<0.8.0,>=0.4.0 in /usr/local/lib/python3.7/dist-packages (from spacy<3.1.0,>=3.0.0->pt-core-news-sm==3.0.0) (0.4.1)\n",
            "Requirement already satisfied: requests<3.0.0,>=2.13.0 in /usr/local/lib/python3.7/dist-packages (from spacy<3.1.0,>=3.0.0->pt-core-news-sm==3.0.0) (2.23.0)\n",
            "Requirement already satisfied: srsly<3.0.0,>=2.4.1 in /usr/local/lib/python3.7/dist-packages (from spacy<3.1.0,>=3.0.0->pt-core-news-sm==3.0.0) (2.4.1)\n",
            "Requirement already satisfied: jinja2 in /usr/local/lib/python3.7/dist-packages (from spacy<3.1.0,>=3.0.0->pt-core-news-sm==3.0.0) (2.11.3)\n",
            "Requirement already satisfied: pyparsing>=2.0.2 in /usr/local/lib/python3.7/dist-packages (from packaging>=20.0->spacy<3.1.0,>=3.0.0->pt-core-news-sm==3.0.0) (2.4.7)\n",
            "Requirement already satisfied: smart-open<4.0.0,>=2.2.0 in /usr/local/lib/python3.7/dist-packages (from pathy>=0.3.5->spacy<3.1.0,>=3.0.0->pt-core-news-sm==3.0.0) (3.0.0)\n",
            "Requirement already satisfied: click<7.2.0,>=7.1.1 in /usr/local/lib/python3.7/dist-packages (from typer<0.4.0,>=0.3.0->spacy<3.1.0,>=3.0.0->pt-core-news-sm==3.0.0) (7.1.2)\n",
            "Requirement already satisfied: zipp>=0.5; python_version < \"3.8\" in /usr/local/lib/python3.7/dist-packages (from catalogue<2.1.0,>=2.0.3->spacy<3.1.0,>=3.0.0->pt-core-news-sm==3.0.0) (3.4.1)\n",
            "Requirement already satisfied: urllib3!=1.25.0,!=1.25.1,<1.26,>=1.21.1 in /usr/local/lib/python3.7/dist-packages (from requests<3.0.0,>=2.13.0->spacy<3.1.0,>=3.0.0->pt-core-news-sm==3.0.0) (1.24.3)\n",
            "Requirement already satisfied: idna<3,>=2.5 in /usr/local/lib/python3.7/dist-packages (from requests<3.0.0,>=2.13.0->spacy<3.1.0,>=3.0.0->pt-core-news-sm==3.0.0) (2.10)\n",
            "Requirement already satisfied: chardet<4,>=3.0.2 in /usr/local/lib/python3.7/dist-packages (from requests<3.0.0,>=2.13.0->spacy<3.1.0,>=3.0.0->pt-core-news-sm==3.0.0) (3.0.4)\n",
            "Requirement already satisfied: certifi>=2017.4.17 in /usr/local/lib/python3.7/dist-packages (from requests<3.0.0,>=2.13.0->spacy<3.1.0,>=3.0.0->pt-core-news-sm==3.0.0) (2020.12.5)\n",
            "Requirement already satisfied: MarkupSafe>=0.23 in /usr/local/lib/python3.7/dist-packages (from jinja2->spacy<3.1.0,>=3.0.0->pt-core-news-sm==3.0.0) (2.0.0)\n",
            "\u001b[38;5;2m✔ Download and installation successful\u001b[0m\n",
            "You can now load the package via spacy.load('pt_core_news_sm')\n"
          ],
          "name": "stdout"
        }
      ]
    },
    {
      "cell_type": "code",
      "metadata": {
        "id": "6tbbzEiTFv_2"
      },
      "source": [
        "nlp = spacy.load(\"pt_core_news_sm\")"
      ],
      "execution_count": 5,
      "outputs": []
    },
    {
      "cell_type": "code",
      "metadata": {
        "id": "l5_YWNyWGHTh"
      },
      "source": [
        "texto = \"Rio de 345123767dfdf12 Janeiro é uma cidade maravilhosa\"\n",
        "doc = nlp(texto)"
      ],
      "execution_count": 6,
      "outputs": []
    },
    {
      "cell_type": "code",
      "metadata": {
        "colab": {
          "base_uri": "https://localhost:8080/"
        },
        "id": "Zi3TvaiRGjWA",
        "outputId": "f6296824-a632-4686-c063-a9e22520b9d1"
      },
      "source": [
        "type(doc)"
      ],
      "execution_count": 7,
      "outputs": [
        {
          "output_type": "execute_result",
          "data": {
            "text/plain": [
              "spacy.tokens.doc.Doc"
            ]
          },
          "metadata": {
            "tags": []
          },
          "execution_count": 7
        }
      ]
    },
    {
      "cell_type": "code",
      "metadata": {
        "colab": {
          "base_uri": "https://localhost:8080/"
        },
        "id": "JoOR7yWwGnfr",
        "outputId": "19d17531-36dd-4cf0-d81f-ad29cf9b711b"
      },
      "source": [
        "type(doc[0])"
      ],
      "execution_count": 8,
      "outputs": [
        {
          "output_type": "execute_result",
          "data": {
            "text/plain": [
              "spacy.tokens.token.Token"
            ]
          },
          "metadata": {
            "tags": []
          },
          "execution_count": 8
        }
      ]
    },
    {
      "cell_type": "code",
      "metadata": {
        "colab": {
          "base_uri": "https://localhost:8080/"
        },
        "id": "tI_5dn0oG8c9",
        "outputId": "a5726a26-78fd-4c64-db31-7c66ceeabace"
      },
      "source": [
        "doc.ents"
      ],
      "execution_count": 9,
      "outputs": [
        {
          "output_type": "execute_result",
          "data": {
            "text/plain": [
              "(Rio de 345123767dfdf12 Janeiro,)"
            ]
          },
          "metadata": {
            "tags": []
          },
          "execution_count": 9
        }
      ]
    },
    {
      "cell_type": "code",
      "metadata": {
        "colab": {
          "base_uri": "https://localhost:8080/"
        },
        "id": "MtbylSb4HApl",
        "outputId": "3284598d-cbd8-42f0-cb3f-6b7f54ce7e83"
      },
      "source": [
        "doc[0].is_stop"
      ],
      "execution_count": 10,
      "outputs": [
        {
          "output_type": "execute_result",
          "data": {
            "text/plain": [
              "False"
            ]
          },
          "metadata": {
            "tags": []
          },
          "execution_count": 10
        }
      ]
    },
    {
      "cell_type": "code",
      "metadata": {
        "colab": {
          "base_uri": "https://localhost:8080/"
        },
        "id": "yxiIoZtFHHl6",
        "outputId": "dda6166c-4585-4db7-82b4-7b33fef49800"
      },
      "source": [
        "doc[1].is_stop"
      ],
      "execution_count": 11,
      "outputs": [
        {
          "output_type": "execute_result",
          "data": {
            "text/plain": [
              "True"
            ]
          },
          "metadata": {
            "tags": []
          },
          "execution_count": 11
        }
      ]
    },
    {
      "cell_type": "code",
      "metadata": {
        "id": "hOEK8ZbCNQfK"
      },
      "source": [
        "textos_para_tratamento = (titulos.lower() for titulos in dados_treino[\"title\"])"
      ],
      "execution_count": 12,
      "outputs": []
    },
    {
      "cell_type": "code",
      "metadata": {
        "id": "0Db6tMXMNNBL"
      },
      "source": [
        "def trata_textos(doc):\n",
        "  tokens_validos = []\n",
        "  for token in doc:\n",
        "    e_valido = not token.is_stop and token.is_alpha\n",
        "    if e_valido:\n",
        "      tokens_validos.append(token.text)\n",
        "  \n",
        "  if len(tokens_validos) > 2:\n",
        "    return \" \".join(tokens_validos)"
      ],
      "execution_count": 13,
      "outputs": []
    },
    {
      "cell_type": "code",
      "metadata": {
        "colab": {
          "base_uri": "https://localhost:8080/",
          "height": 35
        },
        "id": "HMKofo1vOhAI",
        "outputId": "56901262-6139-48fb-8148-c55ecb76c03d"
      },
      "source": [
        "trata_textos(doc)"
      ],
      "execution_count": 14,
      "outputs": [
        {
          "output_type": "execute_result",
          "data": {
            "application/vnd.google.colaboratory.intrinsic+json": {
              "type": "string"
            },
            "text/plain": [
              "'Rio Janeiro cidade maravilhosa'"
            ]
          },
          "metadata": {
            "tags": []
          },
          "execution_count": 14
        }
      ]
    },
    {
      "cell_type": "code",
      "metadata": {
        "colab": {
          "base_uri": "https://localhost:8080/"
        },
        "id": "FeCrs6XHHJA1",
        "outputId": "d74787d8-9eb7-40e9-8612-899095875433"
      },
      "source": [
        "from time import time \n",
        "\n",
        "t0 = time()\n",
        "textos_tratados = [trata_textos(doc) for doc in nlp.pipe(textos_para_tratamento, batch_size = 1000, n_process = -1)]\n",
        "tf = time() - t0\n",
        "print(tf/60)"
      ],
      "execution_count": 15,
      "outputs": [
        {
          "output_type": "stream",
          "text": [
            "2.832109797000885\n"
          ],
          "name": "stdout"
        }
      ]
    },
    {
      "cell_type": "code",
      "metadata": {
        "colab": {
          "base_uri": "https://localhost:8080/"
        },
        "id": "rCe8Z9XjR05A",
        "outputId": "9ebc9946-6821-4bac-b5f0-dd8874a94dda"
      },
      "source": [
        "type(nlp)"
      ],
      "execution_count": 16,
      "outputs": [
        {
          "output_type": "execute_result",
          "data": {
            "text/plain": [
              "spacy.lang.pt.Portuguese"
            ]
          },
          "metadata": {
            "tags": []
          },
          "execution_count": 16
        }
      ]
    },
    {
      "cell_type": "code",
      "metadata": {
        "colab": {
          "base_uri": "https://localhost:8080/",
          "height": 204
        },
        "id": "VS3cZF3AR2JT",
        "outputId": "2d2f11f0-651c-4420-b633-9674f16b2c36"
      },
      "source": [
        "titulos_tratados = pd.DataFrame({\"titulo\":textos_tratados})\n",
        "titulos_tratados.head()"
      ],
      "execution_count": 17,
      "outputs": [
        {
          "output_type": "execute_result",
          "data": {
            "text/html": [
              "<div>\n",
              "<style scoped>\n",
              "    .dataframe tbody tr th:only-of-type {\n",
              "        vertical-align: middle;\n",
              "    }\n",
              "\n",
              "    .dataframe tbody tr th {\n",
              "        vertical-align: top;\n",
              "    }\n",
              "\n",
              "    .dataframe thead th {\n",
              "        text-align: right;\n",
              "    }\n",
              "</style>\n",
              "<table border=\"1\" class=\"dataframe\">\n",
              "  <thead>\n",
              "    <tr style=\"text-align: right;\">\n",
              "      <th></th>\n",
              "      <th>titulo</th>\n",
              "    </tr>\n",
              "  </thead>\n",
              "  <tbody>\n",
              "    <tr>\n",
              "      <th>0</th>\n",
              "      <td>polêmica marine le pen abomina negacionistas h...</td>\n",
              "    </tr>\n",
              "    <tr>\n",
              "      <th>1</th>\n",
              "      <td>macron le pen turno frança revés siglas tradic...</td>\n",
              "    </tr>\n",
              "    <tr>\n",
              "      <th>2</th>\n",
              "      <td>apesar larga vitória legislativas macron terá ...</td>\n",
              "    </tr>\n",
              "    <tr>\n",
              "      <th>3</th>\n",
              "      <td>governo antecipa balanço alckmin anuncia queda...</td>\n",
              "    </tr>\n",
              "    <tr>\n",
              "      <th>4</th>\n",
              "      <td>queda maio atividade econômica sobe junho bc</td>\n",
              "    </tr>\n",
              "  </tbody>\n",
              "</table>\n",
              "</div>"
            ],
            "text/plain": [
              "                                              titulo\n",
              "0  polêmica marine le pen abomina negacionistas h...\n",
              "1  macron le pen turno frança revés siglas tradic...\n",
              "2  apesar larga vitória legislativas macron terá ...\n",
              "3  governo antecipa balanço alckmin anuncia queda...\n",
              "4       queda maio atividade econômica sobe junho bc"
            ]
          },
          "metadata": {
            "tags": []
          },
          "execution_count": 17
        }
      ]
    },
    {
      "cell_type": "code",
      "metadata": {
        "id": "vtQT7usqTotV"
      },
      "source": [
        "from gensim.models import Word2Vec\n",
        "\n",
        "w2v_modelo = Word2Vec(sg = 0,\n",
        "                      window = 2,\n",
        "                      size = 300,\n",
        "                      min_count = 5,\n",
        "                      alpha = 0.03,\n",
        "                      min_alpha = 0.007)"
      ],
      "execution_count": 18,
      "outputs": []
    },
    {
      "cell_type": "code",
      "metadata": {
        "colab": {
          "base_uri": "https://localhost:8080/"
        },
        "id": "-23lVyxxWHbR",
        "outputId": "f16688a7-1dae-4b79-98e2-e66b67a11f88"
      },
      "source": [
        "w2v_modelo"
      ],
      "execution_count": 19,
      "outputs": [
        {
          "output_type": "execute_result",
          "data": {
            "text/plain": [
              "<gensim.models.word2vec.Word2Vec at 0x7f88e19c7490>"
            ]
          },
          "metadata": {
            "tags": []
          },
          "execution_count": 19
        }
      ]
    },
    {
      "cell_type": "code",
      "metadata": {
        "colab": {
          "base_uri": "https://localhost:8080/"
        },
        "id": "Tafm91wJXOC7",
        "outputId": "9cc54d96-6119-45a6-dec9-f2a38c728db7"
      },
      "source": [
        "print(len(titulos_tratados))\n",
        "\n",
        "#remove linhas vazias e duplicatas\n",
        "titulos_tratados = titulos_tratados.dropna().drop_duplicates()\n",
        "\n",
        "\n",
        "print(len(titulos_tratados))"
      ],
      "execution_count": 20,
      "outputs": [
        {
          "output_type": "stream",
          "text": [
            "90000\n",
            "84466\n"
          ],
          "name": "stdout"
        }
      ]
    },
    {
      "cell_type": "code",
      "metadata": {
        "id": "X7w_PiFmWz2N"
      },
      "source": [
        "lista_lista_tokens = [titulo.split(\" \") for titulo in titulos_tratados.titulo]"
      ],
      "execution_count": 21,
      "outputs": []
    },
    {
      "cell_type": "code",
      "metadata": {
        "colab": {
          "base_uri": "https://localhost:8080/"
        },
        "id": "REoXOn7kWMOd",
        "outputId": "e41aa3b7-620d-491e-b9d4-cdb060e738bb"
      },
      "source": [
        "import logging\n",
        "\n",
        "logging.basicConfig(format = \"%(asctime)s : - %(message)s\", level = logging.INFO)\n",
        "\n",
        "w2v_modelo = Word2Vec(sg = 0,\n",
        "                      window = 2,\n",
        "                      size = 300,\n",
        "                      min_count = 5,\n",
        "                      alpha = 0.03,\n",
        "                      min_alpha = 0.007)\n",
        "\n",
        "w2v_modelo.build_vocab(lista_lista_tokens, progress_per = 5000)"
      ],
      "execution_count": 22,
      "outputs": [
        {
          "output_type": "stream",
          "text": [
            "2021-05-25 02:46:12,323 : - collecting all words and their counts\n",
            "2021-05-25 02:46:12,325 : - PROGRESS: at sentence #0, processed 0 words, keeping 0 word types\n",
            "2021-05-25 02:46:12,339 : - PROGRESS: at sentence #5000, processed 31930 words, keeping 10193 word types\n",
            "2021-05-25 02:46:12,352 : - PROGRESS: at sentence #10000, processed 63848 words, keeping 14989 word types\n",
            "2021-05-25 02:46:12,362 : - PROGRESS: at sentence #15000, processed 95753 words, keeping 18279 word types\n",
            "2021-05-25 02:46:12,374 : - PROGRESS: at sentence #20000, processed 127689 words, keeping 21033 word types\n",
            "2021-05-25 02:46:12,386 : - PROGRESS: at sentence #25000, processed 159589 words, keeping 23491 word types\n",
            "2021-05-25 02:46:12,398 : - PROGRESS: at sentence #30000, processed 191554 words, keeping 25494 word types\n",
            "2021-05-25 02:46:12,414 : - PROGRESS: at sentence #35000, processed 223412 words, keeping 27330 word types\n",
            "2021-05-25 02:46:12,426 : - PROGRESS: at sentence #40000, processed 255282 words, keeping 29053 word types\n",
            "2021-05-25 02:46:12,439 : - PROGRESS: at sentence #45000, processed 287297 words, keeping 30606 word types\n",
            "2021-05-25 02:46:12,458 : - PROGRESS: at sentence #50000, processed 319258 words, keeping 31964 word types\n",
            "2021-05-25 02:46:12,473 : - PROGRESS: at sentence #55000, processed 351437 words, keeping 33270 word types\n",
            "2021-05-25 02:46:12,484 : - PROGRESS: at sentence #60000, processed 383579 words, keeping 34520 word types\n",
            "2021-05-25 02:46:12,498 : - PROGRESS: at sentence #65000, processed 415565 words, keeping 35643 word types\n",
            "2021-05-25 02:46:12,510 : - PROGRESS: at sentence #70000, processed 447646 words, keeping 36719 word types\n",
            "2021-05-25 02:46:12,524 : - PROGRESS: at sentence #75000, processed 479568 words, keeping 37802 word types\n",
            "2021-05-25 02:46:12,541 : - PROGRESS: at sentence #80000, processed 511645 words, keeping 38814 word types\n",
            "2021-05-25 02:46:12,553 : - collected 39693 word types from a corpus of 540242 raw words and 84466 sentences\n",
            "2021-05-25 02:46:12,556 : - Loading a fresh vocabulary\n",
            "2021-05-25 02:46:12,599 : - effective_min_count=5 retains 12924 unique words (32% of original 39693, drops 26769)\n",
            "2021-05-25 02:46:12,600 : - effective_min_count=5 leaves 495223 word corpus (91% of original 540242, drops 45019)\n",
            "2021-05-25 02:46:12,648 : - deleting the raw counts dictionary of 39693 items\n",
            "2021-05-25 02:46:12,651 : - sample=0.001 downsamples 8 most-common words\n",
            "2021-05-25 02:46:12,657 : - downsampling leaves estimated 486147 word corpus (98.2% of prior 495223)\n",
            "2021-05-25 02:46:12,695 : - estimated required memory for 12924 words and 300 dimensions: 37479600 bytes\n",
            "2021-05-25 02:46:12,697 : - resetting layer weights\n"
          ],
          "name": "stderr"
        }
      ]
    },
    {
      "cell_type": "code",
      "metadata": {
        "id": "_fjW6CmnXeof",
        "colab": {
          "base_uri": "https://localhost:8080/"
        },
        "outputId": "afb8820d-2d9f-46dc-f160-cdca19bbac7b"
      },
      "source": [
        "dir(w2v_modelo)"
      ],
      "execution_count": 23,
      "outputs": [
        {
          "output_type": "execute_result",
          "data": {
            "text/plain": [
              "['__class__',\n",
              " '__contains__',\n",
              " '__delattr__',\n",
              " '__dict__',\n",
              " '__dir__',\n",
              " '__doc__',\n",
              " '__eq__',\n",
              " '__format__',\n",
              " '__ge__',\n",
              " '__getattribute__',\n",
              " '__getitem__',\n",
              " '__gt__',\n",
              " '__hash__',\n",
              " '__init__',\n",
              " '__init_subclass__',\n",
              " '__le__',\n",
              " '__lt__',\n",
              " '__module__',\n",
              " '__ne__',\n",
              " '__new__',\n",
              " '__reduce__',\n",
              " '__reduce_ex__',\n",
              " '__repr__',\n",
              " '__setattr__',\n",
              " '__sizeof__',\n",
              " '__str__',\n",
              " '__subclasshook__',\n",
              " '__weakref__',\n",
              " '_adapt_by_suffix',\n",
              " '_check_input_data_sanity',\n",
              " '_check_training_sanity',\n",
              " '_clear_post_train',\n",
              " '_do_train_epoch',\n",
              " '_do_train_job',\n",
              " '_get_job_params',\n",
              " '_get_thread_working_mem',\n",
              " '_job_producer',\n",
              " '_load_specials',\n",
              " '_log_epoch_end',\n",
              " '_log_epoch_progress',\n",
              " '_log_progress',\n",
              " '_log_train_end',\n",
              " '_minimize_model',\n",
              " '_raw_word_count',\n",
              " '_save_specials',\n",
              " '_set_train_params',\n",
              " '_smart_save',\n",
              " '_train_epoch',\n",
              " '_train_epoch_corpusfile',\n",
              " '_update_job_params',\n",
              " '_worker_loop',\n",
              " '_worker_loop_corpusfile',\n",
              " 'accuracy',\n",
              " 'alpha',\n",
              " 'batch_words',\n",
              " 'build_vocab',\n",
              " 'build_vocab_from_freq',\n",
              " 'callbacks',\n",
              " 'cbow_mean',\n",
              " 'clear_sims',\n",
              " 'compute_loss',\n",
              " 'corpus_count',\n",
              " 'corpus_total_words',\n",
              " 'cum_table',\n",
              " 'delete_temporary_training_data',\n",
              " 'doesnt_match',\n",
              " 'epochs',\n",
              " 'estimate_memory',\n",
              " 'evaluate_word_pairs',\n",
              " 'get_latest_training_loss',\n",
              " 'hashfxn',\n",
              " 'hs',\n",
              " 'init_sims',\n",
              " 'intersect_word2vec_format',\n",
              " 'iter',\n",
              " 'layer1_size',\n",
              " 'load',\n",
              " 'load_word2vec_format',\n",
              " 'log_accuracy',\n",
              " 'max_final_vocab',\n",
              " 'min_alpha',\n",
              " 'min_alpha_yet_reached',\n",
              " 'min_count',\n",
              " 'model_trimmed_post_training',\n",
              " 'most_similar',\n",
              " 'most_similar_cosmul',\n",
              " 'n_similarity',\n",
              " 'negative',\n",
              " 'ns_exponent',\n",
              " 'predict_output_word',\n",
              " 'random',\n",
              " 'reset_from',\n",
              " 'running_training_loss',\n",
              " 'sample',\n",
              " 'save',\n",
              " 'save_word2vec_format',\n",
              " 'score',\n",
              " 'sg',\n",
              " 'similar_by_vector',\n",
              " 'similar_by_word',\n",
              " 'similarity',\n",
              " 'syn0_lockf',\n",
              " 'syn1',\n",
              " 'syn1neg',\n",
              " 'total_train_time',\n",
              " 'train',\n",
              " 'train_count',\n",
              " 'trainables',\n",
              " 'vector_size',\n",
              " 'vocabulary',\n",
              " 'window',\n",
              " 'wmdistance',\n",
              " 'workers',\n",
              " 'wv']"
            ]
          },
          "metadata": {
            "tags": []
          },
          "execution_count": 23
        }
      ]
    },
    {
      "cell_type": "code",
      "metadata": {
        "colab": {
          "base_uri": "https://localhost:8080/"
        },
        "id": "aKz9kUyS96lk",
        "outputId": "a59f85da-5a93-41df-cb37-694720a95ed0"
      },
      "source": [
        "w2v_modelo.corpus_count"
      ],
      "execution_count": 24,
      "outputs": [
        {
          "output_type": "execute_result",
          "data": {
            "text/plain": [
              "84466"
            ]
          },
          "metadata": {
            "tags": []
          },
          "execution_count": 24
        }
      ]
    },
    {
      "cell_type": "code",
      "metadata": {
        "colab": {
          "base_uri": "https://localhost:8080/"
        },
        "id": "8m6XGjMi9vhJ",
        "outputId": "503e5bc7-a12e-46d6-d1fc-d34b6627e509"
      },
      "source": [
        "w2v_modelo.train(lista_lista_tokens,\n",
        "                 total_examples = w2v_modelo.corpus_count,\n",
        "                 epochs = 30)"
      ],
      "execution_count": 25,
      "outputs": [
        {
          "output_type": "stream",
          "text": [
            "2021-05-25 02:46:15,328 : - training model with 3 workers on 12924 vocabulary and 300 features, using sg=0 hs=0 sample=0.001 negative=5 window=2\n",
            "2021-05-25 02:46:16,365 : - EPOCH 1 - PROGRESS: at 79.60% examples, 379235 words/s, in_qsize 5, out_qsize 0\n",
            "2021-05-25 02:46:16,531 : - worker thread finished; awaiting finish of 2 more threads\n",
            "2021-05-25 02:46:16,559 : - worker thread finished; awaiting finish of 1 more threads\n",
            "2021-05-25 02:46:16,572 : - worker thread finished; awaiting finish of 0 more threads\n",
            "2021-05-25 02:46:16,573 : - EPOCH - 1 : training on 540242 raw words (486058 effective words) took 1.2s, 395846 effective words/s\n",
            "2021-05-25 02:46:17,599 : - EPOCH 2 - PROGRESS: at 83.29% examples, 398837 words/s, in_qsize 5, out_qsize 0\n",
            "2021-05-25 02:46:17,747 : - worker thread finished; awaiting finish of 2 more threads\n",
            "2021-05-25 02:46:17,750 : - worker thread finished; awaiting finish of 1 more threads\n",
            "2021-05-25 02:46:17,769 : - worker thread finished; awaiting finish of 0 more threads\n",
            "2021-05-25 02:46:17,770 : - EPOCH - 2 : training on 540242 raw words (486162 effective words) took 1.2s, 409824 effective words/s\n",
            "2021-05-25 02:46:18,803 : - EPOCH 3 - PROGRESS: at 83.29% examples, 396628 words/s, in_qsize 6, out_qsize 0\n",
            "2021-05-25 02:46:18,958 : - worker thread finished; awaiting finish of 2 more threads\n",
            "2021-05-25 02:46:18,961 : - worker thread finished; awaiting finish of 1 more threads\n",
            "2021-05-25 02:46:18,990 : - worker thread finished; awaiting finish of 0 more threads\n",
            "2021-05-25 02:46:18,991 : - EPOCH - 3 : training on 540242 raw words (486173 effective words) took 1.2s, 402229 effective words/s\n",
            "2021-05-25 02:46:20,011 : - EPOCH 4 - PROGRESS: at 81.44% examples, 393157 words/s, in_qsize 6, out_qsize 0\n",
            "2021-05-25 02:46:20,181 : - worker thread finished; awaiting finish of 2 more threads\n",
            "2021-05-25 02:46:20,190 : - worker thread finished; awaiting finish of 1 more threads\n",
            "2021-05-25 02:46:20,207 : - worker thread finished; awaiting finish of 0 more threads\n",
            "2021-05-25 02:46:20,209 : - EPOCH - 4 : training on 540242 raw words (486151 effective words) took 1.2s, 403461 effective words/s\n",
            "2021-05-25 02:46:21,238 : - EPOCH 5 - PROGRESS: at 81.44% examples, 391608 words/s, in_qsize 5, out_qsize 0\n",
            "2021-05-25 02:46:21,385 : - worker thread finished; awaiting finish of 2 more threads\n",
            "2021-05-25 02:46:21,408 : - worker thread finished; awaiting finish of 1 more threads\n",
            "2021-05-25 02:46:21,415 : - worker thread finished; awaiting finish of 0 more threads\n",
            "2021-05-25 02:46:21,417 : - EPOCH - 5 : training on 540242 raw words (486275 effective words) took 1.2s, 408741 effective words/s\n",
            "2021-05-25 02:46:22,443 : - EPOCH 6 - PROGRESS: at 83.29% examples, 399555 words/s, in_qsize 5, out_qsize 0\n",
            "2021-05-25 02:46:22,585 : - worker thread finished; awaiting finish of 2 more threads\n",
            "2021-05-25 02:46:22,608 : - worker thread finished; awaiting finish of 1 more threads\n",
            "2021-05-25 02:46:22,614 : - worker thread finished; awaiting finish of 0 more threads\n",
            "2021-05-25 02:46:22,615 : - EPOCH - 6 : training on 540242 raw words (486091 effective words) took 1.2s, 409968 effective words/s\n",
            "2021-05-25 02:46:23,638 : - EPOCH 7 - PROGRESS: at 83.29% examples, 401174 words/s, in_qsize 5, out_qsize 0\n",
            "2021-05-25 02:46:23,774 : - worker thread finished; awaiting finish of 2 more threads\n",
            "2021-05-25 02:46:23,798 : - worker thread finished; awaiting finish of 1 more threads\n",
            "2021-05-25 02:46:23,810 : - worker thread finished; awaiting finish of 0 more threads\n",
            "2021-05-25 02:46:23,812 : - EPOCH - 7 : training on 540242 raw words (486043 effective words) took 1.2s, 411010 effective words/s\n",
            "2021-05-25 02:46:24,825 : - EPOCH 8 - PROGRESS: at 81.45% examples, 393737 words/s, in_qsize 6, out_qsize 1\n",
            "2021-05-25 02:46:24,983 : - worker thread finished; awaiting finish of 2 more threads\n",
            "2021-05-25 02:46:24,985 : - worker thread finished; awaiting finish of 1 more threads\n",
            "2021-05-25 02:46:25,012 : - worker thread finished; awaiting finish of 0 more threads\n",
            "2021-05-25 02:46:25,014 : - EPOCH - 8 : training on 540242 raw words (485999 effective words) took 1.2s, 407293 effective words/s\n",
            "2021-05-25 02:46:26,025 : - EPOCH 9 - PROGRESS: at 83.29% examples, 403572 words/s, in_qsize 5, out_qsize 0\n",
            "2021-05-25 02:46:26,163 : - worker thread finished; awaiting finish of 2 more threads\n",
            "2021-05-25 02:46:26,172 : - worker thread finished; awaiting finish of 1 more threads\n",
            "2021-05-25 02:46:26,193 : - worker thread finished; awaiting finish of 0 more threads\n",
            "2021-05-25 02:46:26,194 : - EPOCH - 9 : training on 540242 raw words (486171 effective words) took 1.2s, 415009 effective words/s\n",
            "2021-05-25 02:46:27,225 : - EPOCH 10 - PROGRESS: at 83.29% examples, 397689 words/s, in_qsize 5, out_qsize 0\n",
            "2021-05-25 02:46:27,350 : - worker thread finished; awaiting finish of 2 more threads\n",
            "2021-05-25 02:46:27,374 : - worker thread finished; awaiting finish of 1 more threads\n",
            "2021-05-25 02:46:27,379 : - worker thread finished; awaiting finish of 0 more threads\n",
            "2021-05-25 02:46:27,381 : - EPOCH - 10 : training on 540242 raw words (486172 effective words) took 1.2s, 414039 effective words/s\n",
            "2021-05-25 02:46:28,419 : - EPOCH 11 - PROGRESS: at 83.29% examples, 394758 words/s, in_qsize 5, out_qsize 0\n",
            "2021-05-25 02:46:28,551 : - worker thread finished; awaiting finish of 2 more threads\n",
            "2021-05-25 02:46:28,565 : - worker thread finished; awaiting finish of 1 more threads\n",
            "2021-05-25 02:46:28,583 : - worker thread finished; awaiting finish of 0 more threads\n",
            "2021-05-25 02:46:28,585 : - EPOCH - 11 : training on 540242 raw words (486196 effective words) took 1.2s, 408177 effective words/s\n",
            "2021-05-25 02:46:29,609 : - EPOCH 12 - PROGRESS: at 85.15% examples, 410037 words/s, in_qsize 5, out_qsize 0\n",
            "2021-05-25 02:46:29,738 : - worker thread finished; awaiting finish of 2 more threads\n",
            "2021-05-25 02:46:29,750 : - worker thread finished; awaiting finish of 1 more threads\n",
            "2021-05-25 02:46:29,761 : - worker thread finished; awaiting finish of 0 more threads\n",
            "2021-05-25 02:46:29,762 : - EPOCH - 12 : training on 540242 raw words (486202 effective words) took 1.2s, 418060 effective words/s\n",
            "2021-05-25 02:46:30,796 : - EPOCH 13 - PROGRESS: at 81.44% examples, 387844 words/s, in_qsize 5, out_qsize 0\n",
            "2021-05-25 02:46:30,945 : - worker thread finished; awaiting finish of 2 more threads\n",
            "2021-05-25 02:46:30,967 : - worker thread finished; awaiting finish of 1 more threads\n",
            "2021-05-25 02:46:30,990 : - worker thread finished; awaiting finish of 0 more threads\n",
            "2021-05-25 02:46:30,992 : - EPOCH - 13 : training on 540242 raw words (486062 effective words) took 1.2s, 399629 effective words/s\n",
            "2021-05-25 02:46:32,012 : - EPOCH 14 - PROGRESS: at 83.29% examples, 401588 words/s, in_qsize 5, out_qsize 0\n",
            "2021-05-25 02:46:32,138 : - worker thread finished; awaiting finish of 2 more threads\n",
            "2021-05-25 02:46:32,158 : - worker thread finished; awaiting finish of 1 more threads\n",
            "2021-05-25 02:46:32,167 : - worker thread finished; awaiting finish of 0 more threads\n",
            "2021-05-25 02:46:32,169 : - EPOCH - 14 : training on 540242 raw words (486252 effective words) took 1.2s, 417285 effective words/s\n",
            "2021-05-25 02:46:33,202 : - EPOCH 15 - PROGRESS: at 85.15% examples, 404882 words/s, in_qsize 5, out_qsize 0\n",
            "2021-05-25 02:46:33,326 : - worker thread finished; awaiting finish of 2 more threads\n",
            "2021-05-25 02:46:33,347 : - worker thread finished; awaiting finish of 1 more threads\n",
            "2021-05-25 02:46:33,360 : - worker thread finished; awaiting finish of 0 more threads\n",
            "2021-05-25 02:46:33,361 : - EPOCH - 15 : training on 540242 raw words (486200 effective words) took 1.2s, 411665 effective words/s\n",
            "2021-05-25 02:46:34,391 : - EPOCH 16 - PROGRESS: at 83.30% examples, 397378 words/s, in_qsize 5, out_qsize 0\n",
            "2021-05-25 02:46:34,522 : - worker thread finished; awaiting finish of 2 more threads\n",
            "2021-05-25 02:46:34,552 : - worker thread finished; awaiting finish of 1 more threads\n",
            "2021-05-25 02:46:34,560 : - worker thread finished; awaiting finish of 0 more threads\n",
            "2021-05-25 02:46:34,562 : - EPOCH - 16 : training on 540242 raw words (486125 effective words) took 1.2s, 408710 effective words/s\n",
            "2021-05-25 02:46:35,592 : - EPOCH 17 - PROGRESS: at 85.15% examples, 406306 words/s, in_qsize 5, out_qsize 0\n",
            "2021-05-25 02:46:35,702 : - worker thread finished; awaiting finish of 2 more threads\n",
            "2021-05-25 02:46:35,730 : - worker thread finished; awaiting finish of 1 more threads\n",
            "2021-05-25 02:46:35,734 : - worker thread finished; awaiting finish of 0 more threads\n",
            "2021-05-25 02:46:35,738 : - EPOCH - 17 : training on 540242 raw words (486040 effective words) took 1.2s, 417479 effective words/s\n",
            "2021-05-25 02:46:36,778 : - EPOCH 18 - PROGRESS: at 83.29% examples, 393775 words/s, in_qsize 6, out_qsize 2\n",
            "2021-05-25 02:46:36,897 : - worker thread finished; awaiting finish of 2 more threads\n",
            "2021-05-25 02:46:36,916 : - worker thread finished; awaiting finish of 1 more threads\n",
            "2021-05-25 02:46:36,923 : - worker thread finished; awaiting finish of 0 more threads\n",
            "2021-05-25 02:46:36,924 : - EPOCH - 18 : training on 540242 raw words (486082 effective words) took 1.2s, 413914 effective words/s\n",
            "2021-05-25 02:46:37,955 : - EPOCH 19 - PROGRESS: at 83.29% examples, 396788 words/s, in_qsize 4, out_qsize 1\n",
            "2021-05-25 02:46:38,079 : - worker thread finished; awaiting finish of 2 more threads\n",
            "2021-05-25 02:46:38,101 : - worker thread finished; awaiting finish of 1 more threads\n",
            "2021-05-25 02:46:38,114 : - worker thread finished; awaiting finish of 0 more threads\n",
            "2021-05-25 02:46:38,115 : - EPOCH - 19 : training on 540242 raw words (486233 effective words) took 1.2s, 411865 effective words/s\n",
            "2021-05-25 02:46:39,143 : - EPOCH 20 - PROGRESS: at 85.15% examples, 407616 words/s, in_qsize 5, out_qsize 0\n",
            "2021-05-25 02:46:39,253 : - worker thread finished; awaiting finish of 2 more threads\n",
            "2021-05-25 02:46:39,270 : - worker thread finished; awaiting finish of 1 more threads\n",
            "2021-05-25 02:46:39,285 : - worker thread finished; awaiting finish of 0 more threads\n",
            "2021-05-25 02:46:39,286 : - EPOCH - 20 : training on 540242 raw words (486257 effective words) took 1.2s, 419836 effective words/s\n",
            "2021-05-25 02:46:40,316 : - EPOCH 21 - PROGRESS: at 81.44% examples, 389672 words/s, in_qsize 6, out_qsize 2\n",
            "2021-05-25 02:46:40,457 : - worker thread finished; awaiting finish of 2 more threads\n",
            "2021-05-25 02:46:40,478 : - worker thread finished; awaiting finish of 1 more threads\n",
            "2021-05-25 02:46:40,495 : - worker thread finished; awaiting finish of 0 more threads\n",
            "2021-05-25 02:46:40,496 : - EPOCH - 21 : training on 540242 raw words (486143 effective words) took 1.2s, 406511 effective words/s\n",
            "2021-05-25 02:46:41,513 : - EPOCH 22 - PROGRESS: at 83.29% examples, 402541 words/s, in_qsize 5, out_qsize 0\n",
            "2021-05-25 02:46:41,630 : - worker thread finished; awaiting finish of 2 more threads\n",
            "2021-05-25 02:46:41,660 : - worker thread finished; awaiting finish of 1 more threads\n",
            "2021-05-25 02:46:41,662 : - worker thread finished; awaiting finish of 0 more threads\n",
            "2021-05-25 02:46:41,667 : - EPOCH - 22 : training on 540242 raw words (486115 effective words) took 1.2s, 419178 effective words/s\n",
            "2021-05-25 02:46:42,682 : - EPOCH 23 - PROGRESS: at 83.29% examples, 403623 words/s, in_qsize 5, out_qsize 0\n",
            "2021-05-25 02:46:42,818 : - worker thread finished; awaiting finish of 2 more threads\n",
            "2021-05-25 02:46:42,820 : - worker thread finished; awaiting finish of 1 more threads\n",
            "2021-05-25 02:46:42,842 : - worker thread finished; awaiting finish of 0 more threads\n",
            "2021-05-25 02:46:42,844 : - EPOCH - 23 : training on 540242 raw words (485996 effective words) took 1.2s, 417402 effective words/s\n",
            "2021-05-25 02:46:43,891 : - EPOCH 24 - PROGRESS: at 86.98% examples, 409879 words/s, in_qsize 5, out_qsize 0\n",
            "2021-05-25 02:46:43,982 : - worker thread finished; awaiting finish of 2 more threads\n",
            "2021-05-25 02:46:43,990 : - worker thread finished; awaiting finish of 1 more threads\n",
            "2021-05-25 02:46:44,012 : - worker thread finished; awaiting finish of 0 more threads\n",
            "2021-05-25 02:46:44,013 : - EPOCH - 24 : training on 540242 raw words (486146 effective words) took 1.2s, 421606 effective words/s\n",
            "2021-05-25 02:46:45,047 : - EPOCH 25 - PROGRESS: at 87.00% examples, 415327 words/s, in_qsize 5, out_qsize 0\n",
            "2021-05-25 02:46:45,150 : - worker thread finished; awaiting finish of 2 more threads\n",
            "2021-05-25 02:46:45,155 : - worker thread finished; awaiting finish of 1 more threads\n",
            "2021-05-25 02:46:45,164 : - worker thread finished; awaiting finish of 0 more threads\n",
            "2021-05-25 02:46:45,165 : - EPOCH - 25 : training on 540242 raw words (486127 effective words) took 1.1s, 427681 effective words/s\n",
            "2021-05-25 02:46:46,180 : - EPOCH 26 - PROGRESS: at 85.15% examples, 412726 words/s, in_qsize 5, out_qsize 0\n",
            "2021-05-25 02:46:46,299 : - worker thread finished; awaiting finish of 2 more threads\n",
            "2021-05-25 02:46:46,314 : - worker thread finished; awaiting finish of 1 more threads\n",
            "2021-05-25 02:46:46,327 : - worker thread finished; awaiting finish of 0 more threads\n",
            "2021-05-25 02:46:46,328 : - EPOCH - 26 : training on 540242 raw words (486064 effective words) took 1.2s, 422396 effective words/s\n",
            "2021-05-25 02:46:47,353 : - EPOCH 27 - PROGRESS: at 85.15% examples, 409760 words/s, in_qsize 4, out_qsize 1\n",
            "2021-05-25 02:46:47,455 : - worker thread finished; awaiting finish of 2 more threads\n",
            "2021-05-25 02:46:47,474 : - worker thread finished; awaiting finish of 1 more threads\n",
            "2021-05-25 02:46:47,483 : - worker thread finished; awaiting finish of 0 more threads\n",
            "2021-05-25 02:46:47,484 : - EPOCH - 27 : training on 540242 raw words (486112 effective words) took 1.1s, 426132 effective words/s\n",
            "2021-05-25 02:46:48,519 : - EPOCH 28 - PROGRESS: at 83.29% examples, 396832 words/s, in_qsize 4, out_qsize 1\n",
            "2021-05-25 02:46:48,654 : - worker thread finished; awaiting finish of 2 more threads\n",
            "2021-05-25 02:46:48,658 : - worker thread finished; awaiting finish of 1 more threads\n",
            "2021-05-25 02:46:48,662 : - worker thread finished; awaiting finish of 0 more threads\n",
            "2021-05-25 02:46:48,663 : - EPOCH - 28 : training on 540242 raw words (486148 effective words) took 1.2s, 417502 effective words/s\n",
            "2021-05-25 02:46:49,685 : - EPOCH 29 - PROGRESS: at 85.15% examples, 411063 words/s, in_qsize 5, out_qsize 0\n",
            "2021-05-25 02:46:49,814 : - worker thread finished; awaiting finish of 2 more threads\n",
            "2021-05-25 02:46:49,827 : - worker thread finished; awaiting finish of 1 more threads\n",
            "2021-05-25 02:46:49,833 : - worker thread finished; awaiting finish of 0 more threads\n",
            "2021-05-25 02:46:49,834 : - EPOCH - 29 : training on 540242 raw words (486148 effective words) took 1.2s, 420585 effective words/s\n",
            "2021-05-25 02:46:50,886 : - EPOCH 30 - PROGRESS: at 85.14% examples, 398306 words/s, in_qsize 5, out_qsize 0\n",
            "2021-05-25 02:46:51,008 : - worker thread finished; awaiting finish of 2 more threads\n",
            "2021-05-25 02:46:51,015 : - worker thread finished; awaiting finish of 1 more threads\n",
            "2021-05-25 02:46:51,024 : - worker thread finished; awaiting finish of 0 more threads\n",
            "2021-05-25 02:46:51,025 : - EPOCH - 30 : training on 540242 raw words (486191 effective words) took 1.2s, 412780 effective words/s\n",
            "2021-05-25 02:46:51,028 : - training on a 16207260 raw words (14584134 effective words) took 35.7s, 408617 effective words/s\n"
          ],
          "name": "stderr"
        },
        {
          "output_type": "execute_result",
          "data": {
            "text/plain": [
              "(14584134, 16207260)"
            ]
          },
          "metadata": {
            "tags": []
          },
          "execution_count": 25
        }
      ]
    },
    {
      "cell_type": "code",
      "metadata": {
        "colab": {
          "base_uri": "https://localhost:8080/"
        },
        "id": "2ReqDQ3H-Oti",
        "outputId": "819c6ca7-c69d-429e-8345-c3cf986addcb"
      },
      "source": [
        "w2v_modelo.wv.most_similar(\"google\")"
      ],
      "execution_count": 26,
      "outputs": [
        {
          "output_type": "stream",
          "text": [
            "2021-05-25 02:46:51,041 : - precomputing L2-norms of word weight vectors\n"
          ],
          "name": "stderr"
        },
        {
          "output_type": "execute_result",
          "data": {
            "text/plain": [
              "[('apple', 0.5914556980133057),\n",
              " ('facebook', 0.5572105646133423),\n",
              " ('amazon', 0.5055068731307983),\n",
              " ('airbnb', 0.49375802278518677),\n",
              " ('uber', 0.4851929247379303),\n",
              " ('reputação', 0.4848189949989319),\n",
              " ('yahoo', 0.477096825838089),\n",
              " ('volkswagen', 0.46859320998191833),\n",
              " ('walmart', 0.46715518832206726),\n",
              " ('waze', 0.46474435925483704)]"
            ]
          },
          "metadata": {
            "tags": []
          },
          "execution_count": 26
        }
      ]
    },
    {
      "cell_type": "code",
      "metadata": {
        "colab": {
          "base_uri": "https://localhost:8080/"
        },
        "id": "-swztm6BLGPz",
        "outputId": "abc3470d-0133-49dd-c22c-e7af0a98f81d"
      },
      "source": [
        "w2v_modelo.wv.most_similar(\"microsoft\")"
      ],
      "execution_count": 27,
      "outputs": [
        {
          "output_type": "execute_result",
          "data": {
            "text/plain": [
              "[('unilever', 0.6350433230400085),\n",
              " ('amazon', 0.5701791048049927),\n",
              " ('viajante', 0.5648358464241028),\n",
              " ('tesla', 0.5456427335739136),\n",
              " ('linkedin', 0.5406616926193237),\n",
              " ('buffett', 0.5280383229255676),\n",
              " ('canais', 0.5256466865539551),\n",
              " ('sony', 0.5154668092727661),\n",
              " ('syngenta', 0.5122584700584412),\n",
              " ('sky', 0.506960391998291)]"
            ]
          },
          "metadata": {
            "tags": []
          },
          "execution_count": 27
        }
      ]
    },
    {
      "cell_type": "code",
      "metadata": {
        "colab": {
          "base_uri": "https://localhost:8080/"
        },
        "id": "dO2eaVZ_L_zF",
        "outputId": "8d3c625f-a12b-443c-d0f4-ba31d84fdb15"
      },
      "source": [
        "w2v_modelo.wv.most_similar(\"barcelona\")"
      ],
      "execution_count": 28,
      "outputs": [
        {
          "output_type": "execute_result",
          "data": {
            "text/plain": [
              "[('barça', 0.5845310688018799),\n",
              " ('bayern', 0.5815139412879944),\n",
              " ('madrid', 0.5619646310806274),\n",
              " ('juventus', 0.5547506213188171),\n",
              " ('psg', 0.5452361106872559),\n",
              " ('chelsea', 0.5444819927215576),\n",
              " ('liverpool', 0.5283065438270569),\n",
              " ('lazio', 0.527175784111023),\n",
              " ('munique', 0.5251521468162537),\n",
              " ('united', 0.524814248085022)]"
            ]
          },
          "metadata": {
            "tags": []
          },
          "execution_count": 28
        }
      ]
    },
    {
      "cell_type": "code",
      "metadata": {
        "colab": {
          "base_uri": "https://localhost:8080/"
        },
        "id": "6JCQz5HFOqiI",
        "outputId": "cd06a3da-c756-4068-9708-fbbb4aa60c91"
      },
      "source": [
        "w2v_modelo.wv.most_similar(\"messi\")"
      ],
      "execution_count": 29,
      "outputs": [
        {
          "output_type": "execute_result",
          "data": {
            "text/plain": [
              "[('suárez', 0.5964981317520142),\n",
              " ('cristiano', 0.5408132672309875),\n",
              " ('cavani', 0.5306851863861084),\n",
              " ('barça', 0.5176544189453125),\n",
              " ('tevez', 0.5066225528717041),\n",
              " ('neymar', 0.5059607028961182),\n",
              " ('benzema', 0.5050263404846191),\n",
              " ('barcelona', 0.5035692453384399),\n",
              " ('psg', 0.4877065122127533),\n",
              " ('maradona', 0.4842401146888733)]"
            ]
          },
          "metadata": {
            "tags": []
          },
          "execution_count": 29
        }
      ]
    },
    {
      "cell_type": "code",
      "metadata": {
        "colab": {
          "base_uri": "https://localhost:8080/"
        },
        "id": "-4KPK3XtOsIh",
        "outputId": "287af715-3aec-4702-b169-9fb71876cbbb"
      },
      "source": [
        "w2v_modelo.wv.most_similar(\"gm\")"
      ],
      "execution_count": 30,
      "outputs": [
        {
          "output_type": "execute_result",
          "data": {
            "text/plain": [
              "[('embraer', 0.6923972368240356),\n",
              " ('chrysler', 0.6643211841583252),\n",
              " ('volks', 0.649366021156311),\n",
              " ('toyota', 0.6397210955619812),\n",
              " ('braskem', 0.6335657835006714),\n",
              " ('honda', 0.6295329928398132),\n",
              " ('renault', 0.6245304346084595),\n",
              " ('csn', 0.6045560836791992),\n",
              " ('sony', 0.5920044183731079),\n",
              " ('inbev', 0.5892819166183472)]"
            ]
          },
          "metadata": {
            "tags": []
          },
          "execution_count": 30
        }
      ]
    },
    {
      "cell_type": "code",
      "metadata": {
        "colab": {
          "base_uri": "https://localhost:8080/"
        },
        "id": "SuPvffiTOv8g",
        "outputId": "4194aff0-d7c8-48e1-c92c-d9267f67622d"
      },
      "source": [
        "# Treinamento do modelo Skip-Gram\n",
        "w2v_modelo_sg = Word2Vec(sg = 1,\n",
        "                      window = 5,\n",
        "                      size = 300,\n",
        "                      min_count = 5,\n",
        "                      alpha = 0.03,\n",
        "                      min_alpha = 0.007)\n",
        "\n",
        "w2v_modelo_sg.build_vocab(lista_lista_tokens, progress_per = 5000)\n",
        "\n",
        "w2v_modelo_sg.train(lista_lista_tokens,\n",
        "                 total_examples = w2v_modelo_sg.corpus_count,\n",
        "                 epochs = 30)"
      ],
      "execution_count": 31,
      "outputs": [
        {
          "output_type": "stream",
          "text": [
            "2021-05-25 02:46:51,203 : - collecting all words and their counts\n",
            "2021-05-25 02:46:51,205 : - PROGRESS: at sentence #0, processed 0 words, keeping 0 word types\n",
            "2021-05-25 02:46:51,222 : - PROGRESS: at sentence #5000, processed 31930 words, keeping 10193 word types\n",
            "2021-05-25 02:46:51,239 : - PROGRESS: at sentence #10000, processed 63848 words, keeping 14989 word types\n",
            "2021-05-25 02:46:51,256 : - PROGRESS: at sentence #15000, processed 95753 words, keeping 18279 word types\n",
            "2021-05-25 02:46:51,273 : - PROGRESS: at sentence #20000, processed 127689 words, keeping 21033 word types\n",
            "2021-05-25 02:46:51,293 : - PROGRESS: at sentence #25000, processed 159589 words, keeping 23491 word types\n",
            "2021-05-25 02:46:51,311 : - PROGRESS: at sentence #30000, processed 191554 words, keeping 25494 word types\n",
            "2021-05-25 02:46:51,324 : - PROGRESS: at sentence #35000, processed 223412 words, keeping 27330 word types\n",
            "2021-05-25 02:46:51,334 : - PROGRESS: at sentence #40000, processed 255282 words, keeping 29053 word types\n",
            "2021-05-25 02:46:51,357 : - PROGRESS: at sentence #45000, processed 287297 words, keeping 30606 word types\n",
            "2021-05-25 02:46:51,367 : - PROGRESS: at sentence #50000, processed 319258 words, keeping 31964 word types\n",
            "2021-05-25 02:46:51,380 : - PROGRESS: at sentence #55000, processed 351437 words, keeping 33270 word types\n",
            "2021-05-25 02:46:51,394 : - PROGRESS: at sentence #60000, processed 383579 words, keeping 34520 word types\n",
            "2021-05-25 02:46:51,408 : - PROGRESS: at sentence #65000, processed 415565 words, keeping 35643 word types\n",
            "2021-05-25 02:46:51,421 : - PROGRESS: at sentence #70000, processed 447646 words, keeping 36719 word types\n",
            "2021-05-25 02:46:51,437 : - PROGRESS: at sentence #75000, processed 479568 words, keeping 37802 word types\n",
            "2021-05-25 02:46:51,460 : - PROGRESS: at sentence #80000, processed 511645 words, keeping 38814 word types\n",
            "2021-05-25 02:46:51,470 : - collected 39693 word types from a corpus of 540242 raw words and 84466 sentences\n",
            "2021-05-25 02:46:51,472 : - Loading a fresh vocabulary\n",
            "2021-05-25 02:46:51,516 : - effective_min_count=5 retains 12924 unique words (32% of original 39693, drops 26769)\n",
            "2021-05-25 02:46:51,518 : - effective_min_count=5 leaves 495223 word corpus (91% of original 540242, drops 45019)\n",
            "2021-05-25 02:46:51,564 : - deleting the raw counts dictionary of 39693 items\n",
            "2021-05-25 02:46:51,567 : - sample=0.001 downsamples 8 most-common words\n",
            "2021-05-25 02:46:51,570 : - downsampling leaves estimated 486147 word corpus (98.2% of prior 495223)\n",
            "2021-05-25 02:46:51,613 : - estimated required memory for 12924 words and 300 dimensions: 37479600 bytes\n",
            "2021-05-25 02:46:51,617 : - resetting layer weights\n",
            "2021-05-25 02:46:54,236 : - training model with 3 workers on 12924 vocabulary and 300 features, using sg=1 hs=0 sample=0.001 negative=5 window=5\n",
            "2021-05-25 02:46:55,256 : - EPOCH 1 - PROGRESS: at 31.50% examples, 151753 words/s, in_qsize 5, out_qsize 0\n",
            "2021-05-25 02:46:56,287 : - EPOCH 1 - PROGRESS: at 68.53% examples, 163187 words/s, in_qsize 6, out_qsize 0\n",
            "2021-05-25 02:46:57,102 : - worker thread finished; awaiting finish of 2 more threads\n",
            "2021-05-25 02:46:57,124 : - worker thread finished; awaiting finish of 1 more threads\n",
            "2021-05-25 02:46:57,165 : - worker thread finished; awaiting finish of 0 more threads\n",
            "2021-05-25 02:46:57,167 : - EPOCH - 1 : training on 540242 raw words (486116 effective words) took 2.9s, 166560 effective words/s\n",
            "2021-05-25 02:46:58,239 : - EPOCH 2 - PROGRESS: at 33.36% examples, 152780 words/s, in_qsize 5, out_qsize 0\n",
            "2021-05-25 02:46:59,278 : - EPOCH 2 - PROGRESS: at 70.35% examples, 162928 words/s, in_qsize 5, out_qsize 0\n",
            "2021-05-25 02:47:00,020 : - worker thread finished; awaiting finish of 2 more threads\n",
            "2021-05-25 02:47:00,045 : - worker thread finished; awaiting finish of 1 more threads\n",
            "2021-05-25 02:47:00,064 : - worker thread finished; awaiting finish of 0 more threads\n",
            "2021-05-25 02:47:00,065 : - EPOCH - 2 : training on 540242 raw words (486054 effective words) took 2.9s, 168492 effective words/s\n",
            "2021-05-25 02:47:01,118 : - EPOCH 3 - PROGRESS: at 31.50% examples, 147097 words/s, in_qsize 5, out_qsize 0\n",
            "2021-05-25 02:47:02,136 : - EPOCH 3 - PROGRESS: at 68.53% examples, 161716 words/s, in_qsize 5, out_qsize 0\n",
            "2021-05-25 02:47:02,932 : - worker thread finished; awaiting finish of 2 more threads\n",
            "2021-05-25 02:47:02,991 : - worker thread finished; awaiting finish of 1 more threads\n",
            "2021-05-25 02:47:03,014 : - worker thread finished; awaiting finish of 0 more threads\n",
            "2021-05-25 02:47:03,015 : - EPOCH - 3 : training on 540242 raw words (486195 effective words) took 2.9s, 165515 effective words/s\n",
            "2021-05-25 02:47:04,073 : - EPOCH 4 - PROGRESS: at 33.36% examples, 155092 words/s, in_qsize 5, out_qsize 0\n",
            "2021-05-25 02:47:05,141 : - EPOCH 4 - PROGRESS: at 68.53% examples, 157635 words/s, in_qsize 5, out_qsize 0\n",
            "2021-05-25 02:47:05,914 : - worker thread finished; awaiting finish of 2 more threads\n",
            "2021-05-25 02:47:05,928 : - worker thread finished; awaiting finish of 1 more threads\n",
            "2021-05-25 02:47:05,987 : - worker thread finished; awaiting finish of 0 more threads\n",
            "2021-05-25 02:47:05,988 : - EPOCH - 4 : training on 540242 raw words (486247 effective words) took 3.0s, 164318 effective words/s\n",
            "2021-05-25 02:47:07,017 : - EPOCH 5 - PROGRESS: at 31.50% examples, 150643 words/s, in_qsize 5, out_qsize 0\n",
            "2021-05-25 02:47:08,114 : - EPOCH 5 - PROGRESS: at 68.51% examples, 157536 words/s, in_qsize 5, out_qsize 0\n",
            "2021-05-25 02:47:08,875 : - worker thread finished; awaiting finish of 2 more threads\n",
            "2021-05-25 02:47:08,912 : - worker thread finished; awaiting finish of 1 more threads\n",
            "2021-05-25 02:47:08,921 : - worker thread finished; awaiting finish of 0 more threads\n",
            "2021-05-25 02:47:08,922 : - EPOCH - 5 : training on 540242 raw words (486192 effective words) took 2.9s, 166461 effective words/s\n",
            "2021-05-25 02:47:09,966 : - EPOCH 6 - PROGRESS: at 33.36% examples, 157329 words/s, in_qsize 5, out_qsize 0\n",
            "2021-05-25 02:47:11,015 : - EPOCH 6 - PROGRESS: at 68.51% examples, 160173 words/s, in_qsize 5, out_qsize 0\n",
            "2021-05-25 02:47:11,807 : - worker thread finished; awaiting finish of 2 more threads\n",
            "2021-05-25 02:47:11,873 : - worker thread finished; awaiting finish of 1 more threads\n",
            "2021-05-25 02:47:11,878 : - worker thread finished; awaiting finish of 0 more threads\n",
            "2021-05-25 02:47:11,879 : - EPOCH - 6 : training on 540242 raw words (486072 effective words) took 2.9s, 165211 effective words/s\n",
            "2021-05-25 02:47:12,918 : - EPOCH 7 - PROGRESS: at 31.52% examples, 148728 words/s, in_qsize 5, out_qsize 0\n",
            "2021-05-25 02:47:13,945 : - EPOCH 7 - PROGRESS: at 66.65% examples, 157577 words/s, in_qsize 5, out_qsize 0\n",
            "2021-05-25 02:47:14,766 : - worker thread finished; awaiting finish of 2 more threads\n",
            "2021-05-25 02:47:14,769 : - worker thread finished; awaiting finish of 1 more threads\n",
            "2021-05-25 02:47:14,807 : - worker thread finished; awaiting finish of 0 more threads\n",
            "2021-05-25 02:47:14,809 : - EPOCH - 7 : training on 540242 raw words (486241 effective words) took 2.9s, 166560 effective words/s\n",
            "2021-05-25 02:47:15,881 : - EPOCH 8 - PROGRESS: at 33.36% examples, 152687 words/s, in_qsize 5, out_qsize 0\n",
            "2021-05-25 02:47:16,949 : - EPOCH 8 - PROGRESS: at 70.35% examples, 160576 words/s, in_qsize 5, out_qsize 0\n",
            "2021-05-25 02:47:17,655 : - worker thread finished; awaiting finish of 2 more threads\n",
            "2021-05-25 02:47:17,695 : - worker thread finished; awaiting finish of 1 more threads\n",
            "2021-05-25 02:47:17,719 : - worker thread finished; awaiting finish of 0 more threads\n",
            "2021-05-25 02:47:17,720 : - EPOCH - 8 : training on 540242 raw words (486144 effective words) took 2.9s, 167667 effective words/s\n",
            "2021-05-25 02:47:18,750 : - EPOCH 9 - PROGRESS: at 33.36% examples, 159645 words/s, in_qsize 5, out_qsize 0\n",
            "2021-05-25 02:47:19,794 : - EPOCH 9 - PROGRESS: at 66.67% examples, 157280 words/s, in_qsize 5, out_qsize 0\n",
            "2021-05-25 02:47:20,545 : - worker thread finished; awaiting finish of 2 more threads\n",
            "2021-05-25 02:47:20,627 : - worker thread finished; awaiting finish of 1 more threads\n",
            "2021-05-25 02:47:20,631 : - worker thread finished; awaiting finish of 0 more threads\n",
            "2021-05-25 02:47:20,633 : - EPOCH - 9 : training on 540242 raw words (486167 effective words) took 2.9s, 167788 effective words/s\n",
            "2021-05-25 02:47:21,714 : - EPOCH 10 - PROGRESS: at 33.36% examples, 152304 words/s, in_qsize 5, out_qsize 0\n",
            "2021-05-25 02:47:22,755 : - EPOCH 10 - PROGRESS: at 70.35% examples, 162461 words/s, in_qsize 5, out_qsize 0\n",
            "2021-05-25 02:47:23,506 : - worker thread finished; awaiting finish of 2 more threads\n",
            "2021-05-25 02:47:23,531 : - worker thread finished; awaiting finish of 1 more threads\n",
            "2021-05-25 02:47:23,549 : - worker thread finished; awaiting finish of 0 more threads\n",
            "2021-05-25 02:47:23,550 : - EPOCH - 10 : training on 540242 raw words (486169 effective words) took 2.9s, 167671 effective words/s\n",
            "2021-05-25 02:47:24,571 : - EPOCH 11 - PROGRESS: at 33.36% examples, 161047 words/s, in_qsize 5, out_qsize 0\n",
            "2021-05-25 02:47:25,623 : - EPOCH 11 - PROGRESS: at 68.51% examples, 161667 words/s, in_qsize 5, out_qsize 0\n",
            "2021-05-25 02:47:26,416 : - worker thread finished; awaiting finish of 2 more threads\n",
            "2021-05-25 02:47:26,439 : - worker thread finished; awaiting finish of 1 more threads\n",
            "2021-05-25 02:47:26,448 : - worker thread finished; awaiting finish of 0 more threads\n",
            "2021-05-25 02:47:26,449 : - EPOCH - 11 : training on 540242 raw words (486013 effective words) took 2.9s, 168539 effective words/s\n",
            "2021-05-25 02:47:27,546 : - EPOCH 12 - PROGRESS: at 37.08% examples, 171113 words/s, in_qsize 5, out_qsize 0\n",
            "2021-05-25 02:47:28,555 : - EPOCH 12 - PROGRESS: at 72.22% examples, 170237 words/s, in_qsize 5, out_qsize 0\n",
            "2021-05-25 02:47:29,224 : - worker thread finished; awaiting finish of 2 more threads\n",
            "2021-05-25 02:47:29,290 : - worker thread finished; awaiting finish of 1 more threads\n",
            "2021-05-25 02:47:29,311 : - worker thread finished; awaiting finish of 0 more threads\n",
            "2021-05-25 02:47:29,313 : - EPOCH - 12 : training on 540242 raw words (486145 effective words) took 2.8s, 172448 effective words/s\n",
            "2021-05-25 02:47:30,338 : - EPOCH 13 - PROGRESS: at 33.36% examples, 160227 words/s, in_qsize 5, out_qsize 0\n",
            "2021-05-25 02:47:31,388 : - EPOCH 13 - PROGRESS: at 68.51% examples, 161444 words/s, in_qsize 5, out_qsize 0\n",
            "2021-05-25 02:47:32,115 : - worker thread finished; awaiting finish of 2 more threads\n",
            "2021-05-25 02:47:32,205 : - worker thread finished; awaiting finish of 1 more threads\n",
            "2021-05-25 02:47:32,216 : - worker thread finished; awaiting finish of 0 more threads\n",
            "2021-05-25 02:47:32,218 : - EPOCH - 13 : training on 540242 raw words (486110 effective words) took 2.9s, 168164 effective words/s\n",
            "2021-05-25 02:47:33,321 : - EPOCH 14 - PROGRESS: at 35.22% examples, 156378 words/s, in_qsize 5, out_qsize 0\n",
            "2021-05-25 02:47:34,333 : - EPOCH 14 - PROGRESS: at 72.19% examples, 166611 words/s, in_qsize 5, out_qsize 0\n",
            "2021-05-25 02:47:34,949 : - worker thread finished; awaiting finish of 2 more threads\n",
            "2021-05-25 02:47:35,032 : - worker thread finished; awaiting finish of 1 more threads\n",
            "2021-05-25 02:47:35,047 : - worker thread finished; awaiting finish of 0 more threads\n",
            "2021-05-25 02:47:35,048 : - EPOCH - 14 : training on 540242 raw words (486175 effective words) took 2.8s, 172392 effective words/s\n",
            "2021-05-25 02:47:36,114 : - EPOCH 15 - PROGRESS: at 35.22% examples, 162354 words/s, in_qsize 5, out_qsize 0\n",
            "2021-05-25 02:47:37,134 : - EPOCH 15 - PROGRESS: at 68.51% examples, 160576 words/s, in_qsize 5, out_qsize 0\n",
            "2021-05-25 02:47:37,886 : - worker thread finished; awaiting finish of 2 more threads\n",
            "2021-05-25 02:47:37,893 : - worker thread finished; awaiting finish of 1 more threads\n",
            "2021-05-25 02:47:37,928 : - worker thread finished; awaiting finish of 0 more threads\n",
            "2021-05-25 02:47:37,929 : - EPOCH - 15 : training on 540242 raw words (486094 effective words) took 2.9s, 169521 effective words/s\n",
            "2021-05-25 02:47:38,979 : - EPOCH 16 - PROGRESS: at 35.22% examples, 166877 words/s, in_qsize 5, out_qsize 0\n",
            "2021-05-25 02:47:40,035 : - EPOCH 16 - PROGRESS: at 72.22% examples, 167567 words/s, in_qsize 5, out_qsize 0\n",
            "2021-05-25 02:47:40,679 : - worker thread finished; awaiting finish of 2 more threads\n",
            "2021-05-25 02:47:40,725 : - worker thread finished; awaiting finish of 1 more threads\n",
            "2021-05-25 02:47:40,749 : - worker thread finished; awaiting finish of 0 more threads\n",
            "2021-05-25 02:47:40,750 : - EPOCH - 16 : training on 540242 raw words (486276 effective words) took 2.8s, 173059 effective words/s\n",
            "2021-05-25 02:47:41,816 : - EPOCH 17 - PROGRESS: at 33.36% examples, 153920 words/s, in_qsize 4, out_qsize 1\n",
            "2021-05-25 02:47:42,851 : - EPOCH 17 - PROGRESS: at 70.35% examples, 163744 words/s, in_qsize 5, out_qsize 0\n",
            "2021-05-25 02:47:43,580 : - worker thread finished; awaiting finish of 2 more threads\n",
            "2021-05-25 02:47:43,598 : - worker thread finished; awaiting finish of 1 more threads\n",
            "2021-05-25 02:47:43,655 : - worker thread finished; awaiting finish of 0 more threads\n",
            "2021-05-25 02:47:43,656 : - EPOCH - 17 : training on 540242 raw words (486215 effective words) took 2.9s, 168093 effective words/s\n",
            "2021-05-25 02:47:44,675 : - EPOCH 18 - PROGRESS: at 33.36% examples, 160334 words/s, in_qsize 4, out_qsize 1\n",
            "2021-05-25 02:47:45,691 : - EPOCH 18 - PROGRESS: at 70.37% examples, 168701 words/s, in_qsize 5, out_qsize 0\n",
            "2021-05-25 02:47:46,346 : - worker thread finished; awaiting finish of 2 more threads\n",
            "2021-05-25 02:47:46,386 : - worker thread finished; awaiting finish of 1 more threads\n",
            "2021-05-25 02:47:46,430 : - worker thread finished; awaiting finish of 0 more threads\n",
            "2021-05-25 02:47:46,433 : - EPOCH - 18 : training on 540242 raw words (486104 effective words) took 2.8s, 175645 effective words/s\n",
            "2021-05-25 02:47:47,460 : - EPOCH 19 - PROGRESS: at 35.22% examples, 168445 words/s, in_qsize 5, out_qsize 0\n",
            "2021-05-25 02:47:48,470 : - EPOCH 19 - PROGRESS: at 72.19% examples, 173183 words/s, in_qsize 5, out_qsize 0\n",
            "2021-05-25 02:47:49,145 : - worker thread finished; awaiting finish of 2 more threads\n",
            "2021-05-25 02:47:49,182 : - worker thread finished; awaiting finish of 1 more threads\n",
            "2021-05-25 02:47:49,230 : - worker thread finished; awaiting finish of 0 more threads\n",
            "2021-05-25 02:47:49,231 : - EPOCH - 19 : training on 540242 raw words (486101 effective words) took 2.8s, 174482 effective words/s\n",
            "2021-05-25 02:47:50,251 : - EPOCH 20 - PROGRESS: at 33.36% examples, 161179 words/s, in_qsize 4, out_qsize 1\n",
            "2021-05-25 02:47:51,256 : - EPOCH 20 - PROGRESS: at 72.22% examples, 174585 words/s, in_qsize 5, out_qsize 0\n",
            "2021-05-25 02:47:51,916 : - worker thread finished; awaiting finish of 2 more threads\n",
            "2021-05-25 02:47:51,918 : - worker thread finished; awaiting finish of 1 more threads\n",
            "2021-05-25 02:47:51,962 : - worker thread finished; awaiting finish of 0 more threads\n",
            "2021-05-25 02:47:51,964 : - EPOCH - 20 : training on 540242 raw words (486168 effective words) took 2.7s, 178893 effective words/s\n",
            "2021-05-25 02:47:52,991 : - EPOCH 21 - PROGRESS: at 33.36% examples, 160242 words/s, in_qsize 4, out_qsize 1\n",
            "2021-05-25 02:47:54,021 : - EPOCH 21 - PROGRESS: at 74.06% examples, 176328 words/s, in_qsize 5, out_qsize 0\n",
            "2021-05-25 02:47:54,625 : - worker thread finished; awaiting finish of 2 more threads\n",
            "2021-05-25 02:47:54,635 : - worker thread finished; awaiting finish of 1 more threads\n",
            "2021-05-25 02:47:54,659 : - worker thread finished; awaiting finish of 0 more threads\n",
            "2021-05-25 02:47:54,660 : - EPOCH - 21 : training on 540242 raw words (486184 effective words) took 2.7s, 181406 effective words/s\n",
            "2021-05-25 02:47:55,683 : - EPOCH 22 - PROGRESS: at 35.22% examples, 169123 words/s, in_qsize 5, out_qsize 0\n",
            "2021-05-25 02:47:56,730 : - EPOCH 22 - PROGRESS: at 75.91% examples, 179266 words/s, in_qsize 5, out_qsize 0\n",
            "2021-05-25 02:47:57,270 : - worker thread finished; awaiting finish of 2 more threads\n",
            "2021-05-25 02:47:57,310 : - worker thread finished; awaiting finish of 1 more threads\n",
            "2021-05-25 02:47:57,313 : - worker thread finished; awaiting finish of 0 more threads\n",
            "2021-05-25 02:47:57,316 : - EPOCH - 22 : training on 540242 raw words (486074 effective words) took 2.6s, 183907 effective words/s\n",
            "2021-05-25 02:47:58,420 : - EPOCH 23 - PROGRESS: at 38.93% examples, 173188 words/s, in_qsize 5, out_qsize 0\n",
            "2021-05-25 02:47:59,445 : - EPOCH 23 - PROGRESS: at 77.76% examples, 178623 words/s, in_qsize 5, out_qsize 0\n",
            "2021-05-25 02:47:59,879 : - worker thread finished; awaiting finish of 2 more threads\n",
            "2021-05-25 02:47:59,963 : - worker thread finished; awaiting finish of 1 more threads\n",
            "2021-05-25 02:47:59,965 : - worker thread finished; awaiting finish of 0 more threads\n",
            "2021-05-25 02:47:59,968 : - EPOCH - 23 : training on 540242 raw words (486202 effective words) took 2.6s, 184259 effective words/s\n",
            "2021-05-25 02:48:01,050 : - EPOCH 24 - PROGRESS: at 37.08% examples, 170482 words/s, in_qsize 5, out_qsize 0\n",
            "2021-05-25 02:48:02,069 : - EPOCH 24 - PROGRESS: at 74.06% examples, 173324 words/s, in_qsize 5, out_qsize 0\n",
            "2021-05-25 02:48:02,664 : - worker thread finished; awaiting finish of 2 more threads\n",
            "2021-05-25 02:48:02,719 : - worker thread finished; awaiting finish of 1 more threads\n",
            "2021-05-25 02:48:02,732 : - worker thread finished; awaiting finish of 0 more threads\n",
            "2021-05-25 02:48:02,734 : - EPOCH - 24 : training on 540242 raw words (486017 effective words) took 2.7s, 177380 effective words/s\n",
            "2021-05-25 02:48:03,792 : - EPOCH 25 - PROGRESS: at 35.22% examples, 163022 words/s, in_qsize 5, out_qsize 0\n",
            "2021-05-25 02:48:04,863 : - EPOCH 25 - PROGRESS: at 74.06% examples, 169764 words/s, in_qsize 5, out_qsize 0\n",
            "2021-05-25 02:48:05,369 : - worker thread finished; awaiting finish of 2 more threads\n",
            "2021-05-25 02:48:05,435 : - worker thread finished; awaiting finish of 1 more threads\n",
            "2021-05-25 02:48:05,458 : - worker thread finished; awaiting finish of 0 more threads\n",
            "2021-05-25 02:48:05,459 : - EPOCH - 25 : training on 540242 raw words (486189 effective words) took 2.7s, 179003 effective words/s\n",
            "2021-05-25 02:48:06,499 : - EPOCH 26 - PROGRESS: at 37.08% examples, 175340 words/s, in_qsize 5, out_qsize 0\n",
            "2021-05-25 02:48:07,513 : - EPOCH 26 - PROGRESS: at 75.90% examples, 180730 words/s, in_qsize 5, out_qsize 0\n",
            "2021-05-25 02:48:08,028 : - worker thread finished; awaiting finish of 2 more threads\n",
            "2021-05-25 02:48:08,110 : - worker thread finished; awaiting finish of 1 more threads\n",
            "2021-05-25 02:48:08,113 : - worker thread finished; awaiting finish of 0 more threads\n",
            "2021-05-25 02:48:08,114 : - EPOCH - 26 : training on 540242 raw words (486172 effective words) took 2.6s, 184014 effective words/s\n",
            "2021-05-25 02:48:09,188 : - EPOCH 27 - PROGRESS: at 37.08% examples, 170244 words/s, in_qsize 4, out_qsize 1\n",
            "2021-05-25 02:48:10,254 : - EPOCH 27 - PROGRESS: at 77.75% examples, 177895 words/s, in_qsize 5, out_qsize 0\n",
            "2021-05-25 02:48:10,702 : - worker thread finished; awaiting finish of 2 more threads\n",
            "2021-05-25 02:48:10,718 : - worker thread finished; awaiting finish of 1 more threads\n",
            "2021-05-25 02:48:10,763 : - worker thread finished; awaiting finish of 0 more threads\n",
            "2021-05-25 02:48:10,765 : - EPOCH - 27 : training on 540242 raw words (486239 effective words) took 2.6s, 184564 effective words/s\n",
            "2021-05-25 02:48:11,796 : - EPOCH 28 - PROGRESS: at 37.08% examples, 177093 words/s, in_qsize 5, out_qsize 0\n",
            "2021-05-25 02:48:12,844 : - EPOCH 28 - PROGRESS: at 75.91% examples, 178698 words/s, in_qsize 4, out_qsize 1\n",
            "2021-05-25 02:48:13,342 : - worker thread finished; awaiting finish of 2 more threads\n",
            "2021-05-25 02:48:13,347 : - worker thread finished; awaiting finish of 1 more threads\n",
            "2021-05-25 02:48:13,403 : - worker thread finished; awaiting finish of 0 more threads\n",
            "2021-05-25 02:48:13,405 : - EPOCH - 28 : training on 540242 raw words (486156 effective words) took 2.6s, 185176 effective words/s\n",
            "2021-05-25 02:48:14,451 : - EPOCH 29 - PROGRESS: at 37.08% examples, 174057 words/s, in_qsize 5, out_qsize 0\n",
            "2021-05-25 02:48:15,473 : - EPOCH 29 - PROGRESS: at 75.91% examples, 179371 words/s, in_qsize 5, out_qsize 0\n",
            "2021-05-25 02:48:16,007 : - worker thread finished; awaiting finish of 2 more threads\n",
            "2021-05-25 02:48:16,036 : - worker thread finished; awaiting finish of 1 more threads\n",
            "2021-05-25 02:48:16,052 : - worker thread finished; awaiting finish of 0 more threads\n",
            "2021-05-25 02:48:16,053 : - EPOCH - 29 : training on 540242 raw words (486125 effective words) took 2.6s, 184394 effective words/s\n",
            "2021-05-25 02:48:17,076 : - EPOCH 30 - PROGRESS: at 35.22% examples, 168619 words/s, in_qsize 5, out_qsize 0\n",
            "2021-05-25 02:48:18,138 : - EPOCH 30 - PROGRESS: at 75.91% examples, 177661 words/s, in_qsize 5, out_qsize 0\n",
            "2021-05-25 02:48:18,615 : - worker thread finished; awaiting finish of 2 more threads\n",
            "2021-05-25 02:48:18,695 : - worker thread finished; awaiting finish of 1 more threads\n",
            "2021-05-25 02:48:18,703 : - worker thread finished; awaiting finish of 0 more threads\n",
            "2021-05-25 02:48:18,704 : - EPOCH - 30 : training on 540242 raw words (486086 effective words) took 2.6s, 183976 effective words/s\n",
            "2021-05-25 02:48:18,707 : - training on a 16207260 raw words (14584442 effective words) took 84.5s, 172660 effective words/s\n"
          ],
          "name": "stderr"
        },
        {
          "output_type": "execute_result",
          "data": {
            "text/plain": [
              "(14584442, 16207260)"
            ]
          },
          "metadata": {
            "tags": []
          },
          "execution_count": 31
        }
      ]
    },
    {
      "cell_type": "code",
      "metadata": {
        "colab": {
          "base_uri": "https://localhost:8080/"
        },
        "id": "vpRx7GeyRSbf",
        "outputId": "f3d798f3-4612-4220-ecd7-be9bea1840e6"
      },
      "source": [
        "w2v_modelo_sg.most_similar(\"google\")"
      ],
      "execution_count": 32,
      "outputs": [
        {
          "output_type": "stream",
          "text": [
            "/usr/local/lib/python3.7/dist-packages/ipykernel_launcher.py:1: DeprecationWarning: Call to deprecated `most_similar` (Method will be removed in 4.0.0, use self.wv.most_similar() instead).\n",
            "  \"\"\"Entry point for launching an IPython kernel.\n",
            "2021-05-25 02:48:18,717 : - precomputing L2-norms of word weight vectors\n"
          ],
          "name": "stderr"
        },
        {
          "output_type": "execute_result",
          "data": {
            "text/plain": [
              "[('android', 0.4235084652900696),\n",
              " ('reguladores', 0.3985520601272583),\n",
              " ('waze', 0.39517080783843994),\n",
              " ('buffett', 0.3945401906967163),\n",
              " ('apple', 0.36804401874542236),\n",
              " ('concorda', 0.3636702001094818),\n",
              " ('warren', 0.3558849096298218),\n",
              " ('verizon', 0.348810076713562),\n",
              " ('app', 0.3461455702781677),\n",
              " ('toshiba', 0.34089410305023193)]"
            ]
          },
          "metadata": {
            "tags": []
          },
          "execution_count": 32
        }
      ]
    },
    {
      "cell_type": "code",
      "metadata": {
        "colab": {
          "base_uri": "https://localhost:8080/"
        },
        "id": "TybXYOG6R0hR",
        "outputId": "860a6ddc-91ed-496d-94de-b646720deace"
      },
      "source": [
        "w2v_modelo.most_similar(\"google\")"
      ],
      "execution_count": 33,
      "outputs": [
        {
          "output_type": "stream",
          "text": [
            "/usr/local/lib/python3.7/dist-packages/ipykernel_launcher.py:1: DeprecationWarning: Call to deprecated `most_similar` (Method will be removed in 4.0.0, use self.wv.most_similar() instead).\n",
            "  \"\"\"Entry point for launching an IPython kernel.\n"
          ],
          "name": "stderr"
        },
        {
          "output_type": "execute_result",
          "data": {
            "text/plain": [
              "[('apple', 0.5914556980133057),\n",
              " ('facebook', 0.5572105646133423),\n",
              " ('amazon', 0.5055068731307983),\n",
              " ('airbnb', 0.49375802278518677),\n",
              " ('uber', 0.4851929247379303),\n",
              " ('reputação', 0.4848189949989319),\n",
              " ('yahoo', 0.477096825838089),\n",
              " ('volkswagen', 0.46859320998191833),\n",
              " ('walmart', 0.46715518832206726),\n",
              " ('waze', 0.46474435925483704)]"
            ]
          },
          "metadata": {
            "tags": []
          },
          "execution_count": 33
        }
      ]
    },
    {
      "cell_type": "code",
      "metadata": {
        "colab": {
          "base_uri": "https://localhost:8080/"
        },
        "id": "WlJVg_T0R5Pl",
        "outputId": "6da35494-d429-4276-f2de-fbf39eda9e48"
      },
      "source": [
        "w2v_modelo_sg.most_similar(\"gm\")"
      ],
      "execution_count": 34,
      "outputs": [
        {
          "output_type": "stream",
          "text": [
            "/usr/local/lib/python3.7/dist-packages/ipykernel_launcher.py:1: DeprecationWarning: Call to deprecated `most_similar` (Method will be removed in 4.0.0, use self.wv.most_similar() instead).\n",
            "  \"\"\"Entry point for launching an IPython kernel.\n"
          ],
          "name": "stderr"
        },
        {
          "output_type": "execute_result",
          "data": {
            "text/plain": [
              "[('metalúrgicos', 0.5720416307449341),\n",
              " ('honda', 0.5160365104675293),\n",
              " ('motors', 0.5112789869308472),\n",
              " ('cubatão', 0.4997579753398895),\n",
              " ('bmw', 0.4878561496734619),\n",
              " ('mitsubishi', 0.48736581206321716),\n",
              " ('tesla', 0.48316463828086853),\n",
              " ('airbags', 0.47958093881607056),\n",
              " ('coletivas', 0.4703609049320221),\n",
              " ('audi', 0.4688016176223755)]"
            ]
          },
          "metadata": {
            "tags": []
          },
          "execution_count": 34
        }
      ]
    },
    {
      "cell_type": "code",
      "metadata": {
        "colab": {
          "base_uri": "https://localhost:8080/"
        },
        "id": "qUPpt_fQSFFt",
        "outputId": "081a95be-c5e9-4d44-e206-0fff5df3e353"
      },
      "source": [
        "w2v_modelo.most_similar(\"gm\")"
      ],
      "execution_count": 35,
      "outputs": [
        {
          "output_type": "stream",
          "text": [
            "/usr/local/lib/python3.7/dist-packages/ipykernel_launcher.py:1: DeprecationWarning: Call to deprecated `most_similar` (Method will be removed in 4.0.0, use self.wv.most_similar() instead).\n",
            "  \"\"\"Entry point for launching an IPython kernel.\n"
          ],
          "name": "stderr"
        },
        {
          "output_type": "execute_result",
          "data": {
            "text/plain": [
              "[('embraer', 0.6923972368240356),\n",
              " ('chrysler', 0.6643211841583252),\n",
              " ('volks', 0.649366021156311),\n",
              " ('toyota', 0.6397210955619812),\n",
              " ('braskem', 0.6335657835006714),\n",
              " ('honda', 0.6295329928398132),\n",
              " ('renault', 0.6245304346084595),\n",
              " ('csn', 0.6045560836791992),\n",
              " ('sony', 0.5920044183731079),\n",
              " ('inbev', 0.5892819166183472)]"
            ]
          },
          "metadata": {
            "tags": []
          },
          "execution_count": 35
        }
      ]
    },
    {
      "cell_type": "code",
      "metadata": {
        "colab": {
          "base_uri": "https://localhost:8080/"
        },
        "id": "ScfJipInSHRa",
        "outputId": "fe5ef934-3b66-4360-d7b1-7dc409bf7d02"
      },
      "source": [
        "w2v_modelo.wv.save_word2vec_format(\"/content/drive/MyDrive/Colab Notebooks/modelo_cbow.txt\", binary = False)\n",
        "w2v_modelo_sg.wv.save_word2vec_format(\"/content/drive/MyDrive/Colab Notebooks/modelo_skipgram.txt\", binary = False)"
      ],
      "execution_count": 37,
      "outputs": [
        {
          "output_type": "stream",
          "text": [
            "2021-05-25 02:49:55,481 : - storing 12924x300 projection weights into /content/drive/MyDrive/Colab Notebooks/modelo_cbow.txt\n",
            "2021-05-25 02:49:58,128 : - storing 12924x300 projection weights into /content/drive/MyDrive/Colab Notebooks/modelo_skipgram.txt\n"
          ],
          "name": "stderr"
        }
      ]
    }
  ]
}